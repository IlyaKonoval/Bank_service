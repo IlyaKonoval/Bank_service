{
 "nbformat": 4,
 "nbformat_minor": 0,
 "metadata": {
  "colab": {
   "provenance": [],
   "authorship_tag": "ABX9TyOJXhs6+cnNjTjogK3cJ+Fi",
   "include_colab_link": true
  },
  "kernelspec": {
   "name": "python3",
   "display_name": "Python 3"
  },
  "language_info": {
   "name": "python"
  }
 },
 "cells": [
  {
   "cell_type": "markdown",
   "metadata": {
    "id": "view-in-github",
    "colab_type": "text"
   },
   "source": [
    "<a href=\"https://colab.research.google.com/github/IlyaKonoval/Bank_service/blob/eda_colab/eda.ipynb\" target=\"_parent\"><img src=\"https://colab.research.google.com/assets/colab-badge.svg\" alt=\"Open In Colab\"/></a>"
   ]
  },
  {
   "cell_type": "markdown",
   "source": [
    "# Создание датасета\n"
   ],
   "metadata": {
    "id": "YJd99WaGiHRT"
   }
  },
  {
   "cell_type": "markdown",
   "source": [
    "## Загрузка данных и импорт библиотек"
   ],
   "metadata": {
    "id": "MxADh23pPCMH"
   }
  },
  {
   "cell_type": "code",
   "source": [
    "import numpy as np\n",
    "import pandas as pd\n",
    "import matplotlib.pyplot as plt\n",
    "import seaborn as sns"
   ],
   "metadata": {
    "id": "VxiuDNf9X7w9"
   },
   "execution_count": 1,
   "outputs": [
    {
     "ename": "ModuleNotFoundError",
     "evalue": "No module named 'seaborn'",
     "output_type": "error",
     "traceback": [
      "\u001B[1;31m---------------------------------------------------------------------------\u001B[0m",
      "\u001B[1;31mModuleNotFoundError\u001B[0m                       Traceback (most recent call last)",
      "Cell \u001B[1;32mIn[1], line 4\u001B[0m\n\u001B[0;32m      2\u001B[0m \u001B[38;5;28;01mimport\u001B[39;00m \u001B[38;5;21;01mpandas\u001B[39;00m \u001B[38;5;28;01mas\u001B[39;00m \u001B[38;5;21;01mpd\u001B[39;00m\n\u001B[0;32m      3\u001B[0m \u001B[38;5;28;01mimport\u001B[39;00m \u001B[38;5;21;01mmatplotlib\u001B[39;00m\u001B[38;5;21;01m.\u001B[39;00m\u001B[38;5;21;01mpyplot\u001B[39;00m \u001B[38;5;28;01mas\u001B[39;00m \u001B[38;5;21;01mplt\u001B[39;00m\n\u001B[1;32m----> 4\u001B[0m \u001B[38;5;28;01mimport\u001B[39;00m \u001B[38;5;21;01mseaborn\u001B[39;00m \u001B[38;5;28;01mas\u001B[39;00m \u001B[38;5;21;01msns\u001B[39;00m\n",
      "\u001B[1;31mModuleNotFoundError\u001B[0m: No module named 'seaborn'"
     ]
    }
   ]
  },
  {
   "cell_type": "code",
   "execution_count": null,
   "metadata": {
    "id": "vq5d9Zfq4Cm-",
    "colab": {
     "base_uri": "https://localhost:8080/"
    },
    "outputId": "e0de4c5e-ce35-4c55-b473-4cc0c0dc856b"
   },
   "outputs": [
    {
     "output_type": "stream",
     "name": "stdout",
     "text": [
      "Drive already mounted at /content/drive; to attempt to forcibly remount, call drive.mount(\"/content/drive\", force_remount=True).\n"
     ]
    }
   ],
   "source": [
    "from google.colab import drive\n",
    "drive.mount('/content/drive')\n",
    "\n",
    "import os\n",
    "clients = pd.read_csv(\"/content/drive/MyDrive/clients/D_clients.csv\")\n",
    "job = pd.read_csv(\"/content/drive/MyDrive/clients/D_job.csv\")\n",
    "salary = pd.read_csv(\"/content/drive/MyDrive/clients/D_salary.csv\")\n",
    "target = pd.read_csv(\"/content/drive/MyDrive/clients/D_target.csv\")\n",
    "cl_loan = pd.read_csv(\"/content/drive/MyDrive/clients/D_close_loan.csv\")\n",
    "loan = pd.read_csv(\"/content/drive/MyDrive/clients/D_loan.csv\")"
   ]
  },
  {
   "cell_type": "markdown",
   "source": [
    "## Объединение всех файлов в один датасет"
   ],
   "metadata": {
    "id": "GcAAbm81POCd"
   }
  },
  {
   "cell_type": "code",
   "source": [
    "dataset_client_target = pd.merge(clients, target, left_on='ID', right_on='ID_CLIENT')\n",
    "dataset_client_target_salary = pd.merge(dataset_client_target, salary, left_on='ID', right_on='ID_CLIENT')\n",
    "dataset_client_target_salary_job = pd.merge(dataset_client_target_salary, job, left_on='ID', right_on='ID_CLIENT')\n",
    "dataset_client_target_salary_job.drop('ID_CLIENT_x', axis=1, inplace=True)"
   ],
   "metadata": {
    "collapsed": true,
    "id": "QjTf06l5YFkC"
   },
   "execution_count": null,
   "outputs": []
  },
  {
   "cell_type": "markdown",
   "source": [
    "Создание таблицы с полной информацией о ссудах"
   ],
   "metadata": {
    "id": "ny05urulPYyU"
   }
  },
  {
   "cell_type": "code",
   "source": [
    "closed_loans = pd.merge(cl_loan, loan, on='ID_LOAN', how='left')"
   ],
   "metadata": {
    "collapsed": true,
    "id": "4wkH1HLTZcnF"
   },
   "execution_count": null,
   "outputs": []
  },
  {
   "cell_type": "code",
   "source": [
    "closed_loans = closed_loans[closed_loans['CLOSED_FL'] == 1]\n",
    "loan_closed = closed_loans.groupby('ID_CLIENT').size().reset_index(name='LOAN_NUM_CLOSED')"
   ],
   "metadata": {
    "id": "NBIkhV2waac8"
   },
   "execution_count": null,
   "outputs": []
  },
  {
   "cell_type": "code",
   "source": [
    "loan_total = loan.groupby('ID_CLIENT').size().reset_index(name='LOAN_NUM_TOTAL')"
   ],
   "metadata": {
    "id": "5WjxakaeajRs"
   },
   "execution_count": null,
   "outputs": []
  },
  {
   "cell_type": "code",
   "source": [
    "loan_data = pd.merge(loan_total, loan_closed, on='ID_CLIENT', how='left')\n",
    "loan_data"
   ],
   "metadata": {
    "colab": {
     "base_uri": "https://localhost:8080/",
     "height": 423
    },
    "id": "kaWUYy5Zangb",
    "outputId": "59355d12-a954-4357-db2c-2abeb061599b",
    "collapsed": true
   },
   "execution_count": null,
   "outputs": [
    {
     "output_type": "execute_result",
     "data": {
      "text/plain": [
       "       ID_CLIENT  LOAN_NUM_TOTAL  LOAN_NUM_CLOSED\n",
       "0      106804370               1              1.0\n",
       "1      106804371               1              1.0\n",
       "2      106804372               2              1.0\n",
       "3      106804373               1              1.0\n",
       "4      106804374               2              1.0\n",
       "...          ...             ...              ...\n",
       "15218  106819588               3              2.0\n",
       "15219  106819589               1              NaN\n",
       "15220  106819590               1              NaN\n",
       "15221  106819591               1              NaN\n",
       "15222  106819592               1              NaN\n",
       "\n",
       "[15223 rows x 3 columns]"
      ],
      "text/html": [
       "\n",
       "  <div id=\"df-7046aa82-36e4-4279-9fd1-1b976dbfeab6\" class=\"colab-df-container\">\n",
       "    <div>\n",
       "<style scoped>\n",
       "    .dataframe tbody tr th:only-of-type {\n",
       "        vertical-align: middle;\n",
       "    }\n",
       "\n",
       "    .dataframe tbody tr th {\n",
       "        vertical-align: top;\n",
       "    }\n",
       "\n",
       "    .dataframe thead th {\n",
       "        text-align: right;\n",
       "    }\n",
       "</style>\n",
       "<table border=\"1\" class=\"dataframe\">\n",
       "  <thead>\n",
       "    <tr style=\"text-align: right;\">\n",
       "      <th></th>\n",
       "      <th>ID_CLIENT</th>\n",
       "      <th>LOAN_NUM_TOTAL</th>\n",
       "      <th>LOAN_NUM_CLOSED</th>\n",
       "    </tr>\n",
       "  </thead>\n",
       "  <tbody>\n",
       "    <tr>\n",
       "      <th>0</th>\n",
       "      <td>106804370</td>\n",
       "      <td>1</td>\n",
       "      <td>1.0</td>\n",
       "    </tr>\n",
       "    <tr>\n",
       "      <th>1</th>\n",
       "      <td>106804371</td>\n",
       "      <td>1</td>\n",
       "      <td>1.0</td>\n",
       "    </tr>\n",
       "    <tr>\n",
       "      <th>2</th>\n",
       "      <td>106804372</td>\n",
       "      <td>2</td>\n",
       "      <td>1.0</td>\n",
       "    </tr>\n",
       "    <tr>\n",
       "      <th>3</th>\n",
       "      <td>106804373</td>\n",
       "      <td>1</td>\n",
       "      <td>1.0</td>\n",
       "    </tr>\n",
       "    <tr>\n",
       "      <th>4</th>\n",
       "      <td>106804374</td>\n",
       "      <td>2</td>\n",
       "      <td>1.0</td>\n",
       "    </tr>\n",
       "    <tr>\n",
       "      <th>...</th>\n",
       "      <td>...</td>\n",
       "      <td>...</td>\n",
       "      <td>...</td>\n",
       "    </tr>\n",
       "    <tr>\n",
       "      <th>15218</th>\n",
       "      <td>106819588</td>\n",
       "      <td>3</td>\n",
       "      <td>2.0</td>\n",
       "    </tr>\n",
       "    <tr>\n",
       "      <th>15219</th>\n",
       "      <td>106819589</td>\n",
       "      <td>1</td>\n",
       "      <td>NaN</td>\n",
       "    </tr>\n",
       "    <tr>\n",
       "      <th>15220</th>\n",
       "      <td>106819590</td>\n",
       "      <td>1</td>\n",
       "      <td>NaN</td>\n",
       "    </tr>\n",
       "    <tr>\n",
       "      <th>15221</th>\n",
       "      <td>106819591</td>\n",
       "      <td>1</td>\n",
       "      <td>NaN</td>\n",
       "    </tr>\n",
       "    <tr>\n",
       "      <th>15222</th>\n",
       "      <td>106819592</td>\n",
       "      <td>1</td>\n",
       "      <td>NaN</td>\n",
       "    </tr>\n",
       "  </tbody>\n",
       "</table>\n",
       "<p>15223 rows × 3 columns</p>\n",
       "</div>\n",
       "    <div class=\"colab-df-buttons\">\n",
       "\n",
       "  <div class=\"colab-df-container\">\n",
       "    <button class=\"colab-df-convert\" onclick=\"convertToInteractive('df-7046aa82-36e4-4279-9fd1-1b976dbfeab6')\"\n",
       "            title=\"Convert this dataframe to an interactive table.\"\n",
       "            style=\"display:none;\">\n",
       "\n",
       "  <svg xmlns=\"http://www.w3.org/2000/svg\" height=\"24px\" viewBox=\"0 -960 960 960\">\n",
       "    <path d=\"M120-120v-720h720v720H120Zm60-500h600v-160H180v160Zm220 220h160v-160H400v160Zm0 220h160v-160H400v160ZM180-400h160v-160H180v160Zm440 0h160v-160H620v160ZM180-180h160v-160H180v160Zm440 0h160v-160H620v160Z\"/>\n",
       "  </svg>\n",
       "    </button>\n",
       "\n",
       "  <style>\n",
       "    .colab-df-container {\n",
       "      display:flex;\n",
       "      gap: 12px;\n",
       "    }\n",
       "\n",
       "    .colab-df-convert {\n",
       "      background-color: #E8F0FE;\n",
       "      border: none;\n",
       "      border-radius: 50%;\n",
       "      cursor: pointer;\n",
       "      display: none;\n",
       "      fill: #1967D2;\n",
       "      height: 32px;\n",
       "      padding: 0 0 0 0;\n",
       "      width: 32px;\n",
       "    }\n",
       "\n",
       "    .colab-df-convert:hover {\n",
       "      background-color: #E2EBFA;\n",
       "      box-shadow: 0px 1px 2px rgba(60, 64, 67, 0.3), 0px 1px 3px 1px rgba(60, 64, 67, 0.15);\n",
       "      fill: #174EA6;\n",
       "    }\n",
       "\n",
       "    .colab-df-buttons div {\n",
       "      margin-bottom: 4px;\n",
       "    }\n",
       "\n",
       "    [theme=dark] .colab-df-convert {\n",
       "      background-color: #3B4455;\n",
       "      fill: #D2E3FC;\n",
       "    }\n",
       "\n",
       "    [theme=dark] .colab-df-convert:hover {\n",
       "      background-color: #434B5C;\n",
       "      box-shadow: 0px 1px 3px 1px rgba(0, 0, 0, 0.15);\n",
       "      filter: drop-shadow(0px 1px 2px rgba(0, 0, 0, 0.3));\n",
       "      fill: #FFFFFF;\n",
       "    }\n",
       "  </style>\n",
       "\n",
       "    <script>\n",
       "      const buttonEl =\n",
       "        document.querySelector('#df-7046aa82-36e4-4279-9fd1-1b976dbfeab6 button.colab-df-convert');\n",
       "      buttonEl.style.display =\n",
       "        google.colab.kernel.accessAllowed ? 'block' : 'none';\n",
       "\n",
       "      async function convertToInteractive(key) {\n",
       "        const element = document.querySelector('#df-7046aa82-36e4-4279-9fd1-1b976dbfeab6');\n",
       "        const dataTable =\n",
       "          await google.colab.kernel.invokeFunction('convertToInteractive',\n",
       "                                                    [key], {});\n",
       "        if (!dataTable) return;\n",
       "\n",
       "        const docLinkHtml = 'Like what you see? Visit the ' +\n",
       "          '<a target=\"_blank\" href=https://colab.research.google.com/notebooks/data_table.ipynb>data table notebook</a>'\n",
       "          + ' to learn more about interactive tables.';\n",
       "        element.innerHTML = '';\n",
       "        dataTable['output_type'] = 'display_data';\n",
       "        await google.colab.output.renderOutput(dataTable, element);\n",
       "        const docLink = document.createElement('div');\n",
       "        docLink.innerHTML = docLinkHtml;\n",
       "        element.appendChild(docLink);\n",
       "      }\n",
       "    </script>\n",
       "  </div>\n",
       "\n",
       "\n",
       "<div id=\"df-9292d1d7-127e-48d1-a272-e8d0e60e4aa5\">\n",
       "  <button class=\"colab-df-quickchart\" onclick=\"quickchart('df-9292d1d7-127e-48d1-a272-e8d0e60e4aa5')\"\n",
       "            title=\"Suggest charts\"\n",
       "            style=\"display:none;\">\n",
       "\n",
       "<svg xmlns=\"http://www.w3.org/2000/svg\" height=\"24px\"viewBox=\"0 0 24 24\"\n",
       "     width=\"24px\">\n",
       "    <g>\n",
       "        <path d=\"M19 3H5c-1.1 0-2 .9-2 2v14c0 1.1.9 2 2 2h14c1.1 0 2-.9 2-2V5c0-1.1-.9-2-2-2zM9 17H7v-7h2v7zm4 0h-2V7h2v10zm4 0h-2v-4h2v4z\"/>\n",
       "    </g>\n",
       "</svg>\n",
       "  </button>\n",
       "\n",
       "<style>\n",
       "  .colab-df-quickchart {\n",
       "      --bg-color: #E8F0FE;\n",
       "      --fill-color: #1967D2;\n",
       "      --hover-bg-color: #E2EBFA;\n",
       "      --hover-fill-color: #174EA6;\n",
       "      --disabled-fill-color: #AAA;\n",
       "      --disabled-bg-color: #DDD;\n",
       "  }\n",
       "\n",
       "  [theme=dark] .colab-df-quickchart {\n",
       "      --bg-color: #3B4455;\n",
       "      --fill-color: #D2E3FC;\n",
       "      --hover-bg-color: #434B5C;\n",
       "      --hover-fill-color: #FFFFFF;\n",
       "      --disabled-bg-color: #3B4455;\n",
       "      --disabled-fill-color: #666;\n",
       "  }\n",
       "\n",
       "  .colab-df-quickchart {\n",
       "    background-color: var(--bg-color);\n",
       "    border: none;\n",
       "    border-radius: 50%;\n",
       "    cursor: pointer;\n",
       "    display: none;\n",
       "    fill: var(--fill-color);\n",
       "    height: 32px;\n",
       "    padding: 0;\n",
       "    width: 32px;\n",
       "  }\n",
       "\n",
       "  .colab-df-quickchart:hover {\n",
       "    background-color: var(--hover-bg-color);\n",
       "    box-shadow: 0 1px 2px rgba(60, 64, 67, 0.3), 0 1px 3px 1px rgba(60, 64, 67, 0.15);\n",
       "    fill: var(--button-hover-fill-color);\n",
       "  }\n",
       "\n",
       "  .colab-df-quickchart-complete:disabled,\n",
       "  .colab-df-quickchart-complete:disabled:hover {\n",
       "    background-color: var(--disabled-bg-color);\n",
       "    fill: var(--disabled-fill-color);\n",
       "    box-shadow: none;\n",
       "  }\n",
       "\n",
       "  .colab-df-spinner {\n",
       "    border: 2px solid var(--fill-color);\n",
       "    border-color: transparent;\n",
       "    border-bottom-color: var(--fill-color);\n",
       "    animation:\n",
       "      spin 1s steps(1) infinite;\n",
       "  }\n",
       "\n",
       "  @keyframes spin {\n",
       "    0% {\n",
       "      border-color: transparent;\n",
       "      border-bottom-color: var(--fill-color);\n",
       "      border-left-color: var(--fill-color);\n",
       "    }\n",
       "    20% {\n",
       "      border-color: transparent;\n",
       "      border-left-color: var(--fill-color);\n",
       "      border-top-color: var(--fill-color);\n",
       "    }\n",
       "    30% {\n",
       "      border-color: transparent;\n",
       "      border-left-color: var(--fill-color);\n",
       "      border-top-color: var(--fill-color);\n",
       "      border-right-color: var(--fill-color);\n",
       "    }\n",
       "    40% {\n",
       "      border-color: transparent;\n",
       "      border-right-color: var(--fill-color);\n",
       "      border-top-color: var(--fill-color);\n",
       "    }\n",
       "    60% {\n",
       "      border-color: transparent;\n",
       "      border-right-color: var(--fill-color);\n",
       "    }\n",
       "    80% {\n",
       "      border-color: transparent;\n",
       "      border-right-color: var(--fill-color);\n",
       "      border-bottom-color: var(--fill-color);\n",
       "    }\n",
       "    90% {\n",
       "      border-color: transparent;\n",
       "      border-bottom-color: var(--fill-color);\n",
       "    }\n",
       "  }\n",
       "</style>\n",
       "\n",
       "  <script>\n",
       "    async function quickchart(key) {\n",
       "      const quickchartButtonEl =\n",
       "        document.querySelector('#' + key + ' button');\n",
       "      quickchartButtonEl.disabled = true;  // To prevent multiple clicks.\n",
       "      quickchartButtonEl.classList.add('colab-df-spinner');\n",
       "      try {\n",
       "        const charts = await google.colab.kernel.invokeFunction(\n",
       "            'suggestCharts', [key], {});\n",
       "      } catch (error) {\n",
       "        console.error('Error during call to suggestCharts:', error);\n",
       "      }\n",
       "      quickchartButtonEl.classList.remove('colab-df-spinner');\n",
       "      quickchartButtonEl.classList.add('colab-df-quickchart-complete');\n",
       "    }\n",
       "    (() => {\n",
       "      let quickchartButtonEl =\n",
       "        document.querySelector('#df-9292d1d7-127e-48d1-a272-e8d0e60e4aa5 button');\n",
       "      quickchartButtonEl.style.display =\n",
       "        google.colab.kernel.accessAllowed ? 'block' : 'none';\n",
       "    })();\n",
       "  </script>\n",
       "</div>\n",
       "    </div>\n",
       "  </div>\n"
      ],
      "application/vnd.google.colaboratory.intrinsic+json": {
       "type": "dataframe",
       "variable_name": "loan_data",
       "summary": "{\n  \"name\": \"loan_data\",\n  \"rows\": 15223,\n  \"fields\": [\n    {\n      \"column\": \"ID_CLIENT\",\n      \"properties\": {\n        \"dtype\": \"number\",\n        \"std\": 4394,\n        \"min\": 106804370,\n        \"max\": 106819592,\n        \"num_unique_values\": 15223,\n        \"samples\": [\n          106810689,\n          106808622,\n          106806693\n        ],\n        \"semantic_type\": \"\",\n        \"description\": \"\"\n      }\n    },\n    {\n      \"column\": \"LOAN_NUM_TOTAL\",\n      \"properties\": {\n        \"dtype\": \"number\",\n        \"std\": 0,\n        \"min\": 1,\n        \"max\": 11,\n        \"num_unique_values\": 9,\n        \"samples\": [\n          7,\n          2,\n          6\n        ],\n        \"semantic_type\": \"\",\n        \"description\": \"\"\n      }\n    },\n    {\n      \"column\": \"LOAN_NUM_CLOSED\",\n      \"properties\": {\n        \"dtype\": \"number\",\n        \"std\": 0.8874224786791969,\n        \"min\": 1.0,\n        \"max\": 11.0,\n        \"num_unique_values\": 9,\n        \"samples\": [\n          7.0,\n          2.0,\n          6.0\n        ],\n        \"semantic_type\": \"\",\n        \"description\": \"\"\n      }\n    }\n  ]\n}"
      }
     },
     "metadata": {},
     "execution_count": 134
    }
   ]
  },
  {
   "cell_type": "markdown",
   "source": [
    "Объединение столбцов клиентов, таргета, зарплаты, работы и ссуд"
   ],
   "metadata": {
    "id": "Ipow8Us1Phpk"
   }
  },
  {
   "cell_type": "code",
   "source": [
    "dataset_client_target_salary_job_loan = pd.merge(dataset_client_target_salary_job, loan_data, left_on='ID', right_on='ID_CLIENT')\n",
    "dataset_client_target_salary_job_loan"
   ],
   "metadata": {
    "colab": {
     "base_uri": "https://localhost:8080/",
     "height": 634
    },
    "id": "_cxQst5gauRd",
    "outputId": "342b6efa-c08f-4d3f-fead-46181db4f316",
    "collapsed": true
   },
   "execution_count": null,
   "outputs": [
    {
     "output_type": "execute_result",
     "data": {
      "text/plain": [
       "              ID  AGE  GENDER            EDUCATION      MARITAL_STATUS  \\\n",
       "0      106805103   42       1              Среднее  Не состоял в браке   \n",
       "1      106809308   28       1  Среднее специальное      Состою в браке   \n",
       "2      106805867   64       0  Среднее специальное      Состою в браке   \n",
       "3      106808779   54       1  Среднее специальное      Состою в браке   \n",
       "4      106814289   26       0  Среднее специальное      Состою в браке   \n",
       "...          ...  ...     ...                  ...                 ...   \n",
       "15518  106814680   26       1              Среднее  Не состоял в браке   \n",
       "15519  106812464   26       0  Среднее специальное      Состою в браке   \n",
       "15520  106809255   30       1  Среднее специальное  Не состоял в браке   \n",
       "15521  106814593   25       0  Среднее специальное      Состою в браке   \n",
       "15522  106813640   26       1               Высшее  Не состоял в браке   \n",
       "\n",
       "       CHILD_TOTAL  DEPENDANTS  SOCSTATUS_WORK_FL  SOCSTATUS_PENS_FL  \\\n",
       "0                1           0                  1                  0   \n",
       "1                1           1                  1                  0   \n",
       "2                2           0                  1                  1   \n",
       "3                0           0                  1                  0   \n",
       "4                1           1                  1                  0   \n",
       "...            ...         ...                ...                ...   \n",
       "15518            1           1                  1                  0   \n",
       "15519            0           0                  1                  0   \n",
       "15520            0           0                  1                  0   \n",
       "15521            0           0                  1                  0   \n",
       "15522            0           0                  1                  0   \n",
       "\n",
       "        REG_ADDRESS_PROVINCE  ... PERSONAL_INCOME  ID_CLIENT_y  \\\n",
       "0         Московская область  ...         25000.0    106805103   \n",
       "1          Читинская область  ...         10000.0    106809308   \n",
       "2          Иркутская область  ...         30000.0    106805867   \n",
       "3      Новосибирская область  ...         25000.0    106808779   \n",
       "4          Красноярский край  ...         15000.0    106814289   \n",
       "...                      ...  ...             ...          ...   \n",
       "15518                Чувашия  ...          8000.0    106814680   \n",
       "15519                Карелия  ...         12000.0    106812464   \n",
       "15520   Белгородская область  ...          9000.0    106809255   \n",
       "15521     Кабардино-Балкария  ...         12000.0    106814593   \n",
       "15522              Татарстан  ...         10500.0    106813640   \n",
       "\n",
       "                 GEN_INDUSTRY                   GEN_TITLE  \\\n",
       "0                Другие сферы        Работник сферы услуг   \n",
       "1                    Торговля                  Специалист   \n",
       "2                Другие сферы  Руководитель высшего звена   \n",
       "3      Государственная служба                  Специалист   \n",
       "4                Другие сферы                  Специалист   \n",
       "...                       ...                         ...   \n",
       "15518  Сборочные производства                  Специалист   \n",
       "15519                Торговля                  Специалист   \n",
       "15520                Торговля                  Специалист   \n",
       "15521               Транспорт                  Специалист   \n",
       "15522            Другие сферы                     Рабочий   \n",
       "\n",
       "                             JOB_DIR  WORK_TIME ID_CLIENT_x  ID_CLIENT_y  \\\n",
       "0      Участие в основ. деятельности        3.0   106805103    106805103   \n",
       "1      Участие в основ. деятельности        5.0   106809308    106809308   \n",
       "2      Участие в основ. деятельности      360.0   106805867    106805867   \n",
       "3      Участие в основ. деятельности        3.0   106808779    106808779   \n",
       "4      Участие в основ. деятельности       12.0   106814289    106814289   \n",
       "...                              ...        ...         ...          ...   \n",
       "15518  Участие в основ. деятельности       36.0   106814680    106814680   \n",
       "15519  Участие в основ. деятельности       24.0   106812464    106812464   \n",
       "15520  Участие в основ. деятельности       36.0   106809255    106809255   \n",
       "15521  Участие в основ. деятельности       36.0   106814593    106814593   \n",
       "15522    Вспомогательный техперсонал       12.0   106813640    106813640   \n",
       "\n",
       "       LOAN_NUM_TOTAL LOAN_NUM_CLOSED  \n",
       "0                   1             NaN  \n",
       "1                   1             NaN  \n",
       "2                   1             1.0  \n",
       "3                   1             NaN  \n",
       "4                   2             2.0  \n",
       "...               ...             ...  \n",
       "15518               2             2.0  \n",
       "15519               1             NaN  \n",
       "15520               1             NaN  \n",
       "15521               1             1.0  \n",
       "15522               1             1.0  \n",
       "\n",
       "[15523 rows x 27 columns]"
      ],
      "text/html": [
       "\n",
       "  <div id=\"df-930a4742-73bc-42fe-91c8-af9eeec085f0\" class=\"colab-df-container\">\n",
       "    <div>\n",
       "<style scoped>\n",
       "    .dataframe tbody tr th:only-of-type {\n",
       "        vertical-align: middle;\n",
       "    }\n",
       "\n",
       "    .dataframe tbody tr th {\n",
       "        vertical-align: top;\n",
       "    }\n",
       "\n",
       "    .dataframe thead th {\n",
       "        text-align: right;\n",
       "    }\n",
       "</style>\n",
       "<table border=\"1\" class=\"dataframe\">\n",
       "  <thead>\n",
       "    <tr style=\"text-align: right;\">\n",
       "      <th></th>\n",
       "      <th>ID</th>\n",
       "      <th>AGE</th>\n",
       "      <th>GENDER</th>\n",
       "      <th>EDUCATION</th>\n",
       "      <th>MARITAL_STATUS</th>\n",
       "      <th>CHILD_TOTAL</th>\n",
       "      <th>DEPENDANTS</th>\n",
       "      <th>SOCSTATUS_WORK_FL</th>\n",
       "      <th>SOCSTATUS_PENS_FL</th>\n",
       "      <th>REG_ADDRESS_PROVINCE</th>\n",
       "      <th>...</th>\n",
       "      <th>PERSONAL_INCOME</th>\n",
       "      <th>ID_CLIENT_y</th>\n",
       "      <th>GEN_INDUSTRY</th>\n",
       "      <th>GEN_TITLE</th>\n",
       "      <th>JOB_DIR</th>\n",
       "      <th>WORK_TIME</th>\n",
       "      <th>ID_CLIENT_x</th>\n",
       "      <th>ID_CLIENT_y</th>\n",
       "      <th>LOAN_NUM_TOTAL</th>\n",
       "      <th>LOAN_NUM_CLOSED</th>\n",
       "    </tr>\n",
       "  </thead>\n",
       "  <tbody>\n",
       "    <tr>\n",
       "      <th>0</th>\n",
       "      <td>106805103</td>\n",
       "      <td>42</td>\n",
       "      <td>1</td>\n",
       "      <td>Среднее</td>\n",
       "      <td>Не состоял в браке</td>\n",
       "      <td>1</td>\n",
       "      <td>0</td>\n",
       "      <td>1</td>\n",
       "      <td>0</td>\n",
       "      <td>Московская область</td>\n",
       "      <td>...</td>\n",
       "      <td>25000.0</td>\n",
       "      <td>106805103</td>\n",
       "      <td>Другие сферы</td>\n",
       "      <td>Работник сферы услуг</td>\n",
       "      <td>Участие в основ. деятельности</td>\n",
       "      <td>3.0</td>\n",
       "      <td>106805103</td>\n",
       "      <td>106805103</td>\n",
       "      <td>1</td>\n",
       "      <td>NaN</td>\n",
       "    </tr>\n",
       "    <tr>\n",
       "      <th>1</th>\n",
       "      <td>106809308</td>\n",
       "      <td>28</td>\n",
       "      <td>1</td>\n",
       "      <td>Среднее специальное</td>\n",
       "      <td>Состою в браке</td>\n",
       "      <td>1</td>\n",
       "      <td>1</td>\n",
       "      <td>1</td>\n",
       "      <td>0</td>\n",
       "      <td>Читинская область</td>\n",
       "      <td>...</td>\n",
       "      <td>10000.0</td>\n",
       "      <td>106809308</td>\n",
       "      <td>Торговля</td>\n",
       "      <td>Специалист</td>\n",
       "      <td>Участие в основ. деятельности</td>\n",
       "      <td>5.0</td>\n",
       "      <td>106809308</td>\n",
       "      <td>106809308</td>\n",
       "      <td>1</td>\n",
       "      <td>NaN</td>\n",
       "    </tr>\n",
       "    <tr>\n",
       "      <th>2</th>\n",
       "      <td>106805867</td>\n",
       "      <td>64</td>\n",
       "      <td>0</td>\n",
       "      <td>Среднее специальное</td>\n",
       "      <td>Состою в браке</td>\n",
       "      <td>2</td>\n",
       "      <td>0</td>\n",
       "      <td>1</td>\n",
       "      <td>1</td>\n",
       "      <td>Иркутская область</td>\n",
       "      <td>...</td>\n",
       "      <td>30000.0</td>\n",
       "      <td>106805867</td>\n",
       "      <td>Другие сферы</td>\n",
       "      <td>Руководитель высшего звена</td>\n",
       "      <td>Участие в основ. деятельности</td>\n",
       "      <td>360.0</td>\n",
       "      <td>106805867</td>\n",
       "      <td>106805867</td>\n",
       "      <td>1</td>\n",
       "      <td>1.0</td>\n",
       "    </tr>\n",
       "    <tr>\n",
       "      <th>3</th>\n",
       "      <td>106808779</td>\n",
       "      <td>54</td>\n",
       "      <td>1</td>\n",
       "      <td>Среднее специальное</td>\n",
       "      <td>Состою в браке</td>\n",
       "      <td>0</td>\n",
       "      <td>0</td>\n",
       "      <td>1</td>\n",
       "      <td>0</td>\n",
       "      <td>Новосибирская область</td>\n",
       "      <td>...</td>\n",
       "      <td>25000.0</td>\n",
       "      <td>106808779</td>\n",
       "      <td>Государственная служба</td>\n",
       "      <td>Специалист</td>\n",
       "      <td>Участие в основ. деятельности</td>\n",
       "      <td>3.0</td>\n",
       "      <td>106808779</td>\n",
       "      <td>106808779</td>\n",
       "      <td>1</td>\n",
       "      <td>NaN</td>\n",
       "    </tr>\n",
       "    <tr>\n",
       "      <th>4</th>\n",
       "      <td>106814289</td>\n",
       "      <td>26</td>\n",
       "      <td>0</td>\n",
       "      <td>Среднее специальное</td>\n",
       "      <td>Состою в браке</td>\n",
       "      <td>1</td>\n",
       "      <td>1</td>\n",
       "      <td>1</td>\n",
       "      <td>0</td>\n",
       "      <td>Красноярский край</td>\n",
       "      <td>...</td>\n",
       "      <td>15000.0</td>\n",
       "      <td>106814289</td>\n",
       "      <td>Другие сферы</td>\n",
       "      <td>Специалист</td>\n",
       "      <td>Участие в основ. деятельности</td>\n",
       "      <td>12.0</td>\n",
       "      <td>106814289</td>\n",
       "      <td>106814289</td>\n",
       "      <td>2</td>\n",
       "      <td>2.0</td>\n",
       "    </tr>\n",
       "    <tr>\n",
       "      <th>...</th>\n",
       "      <td>...</td>\n",
       "      <td>...</td>\n",
       "      <td>...</td>\n",
       "      <td>...</td>\n",
       "      <td>...</td>\n",
       "      <td>...</td>\n",
       "      <td>...</td>\n",
       "      <td>...</td>\n",
       "      <td>...</td>\n",
       "      <td>...</td>\n",
       "      <td>...</td>\n",
       "      <td>...</td>\n",
       "      <td>...</td>\n",
       "      <td>...</td>\n",
       "      <td>...</td>\n",
       "      <td>...</td>\n",
       "      <td>...</td>\n",
       "      <td>...</td>\n",
       "      <td>...</td>\n",
       "      <td>...</td>\n",
       "      <td>...</td>\n",
       "    </tr>\n",
       "    <tr>\n",
       "      <th>15518</th>\n",
       "      <td>106814680</td>\n",
       "      <td>26</td>\n",
       "      <td>1</td>\n",
       "      <td>Среднее</td>\n",
       "      <td>Не состоял в браке</td>\n",
       "      <td>1</td>\n",
       "      <td>1</td>\n",
       "      <td>1</td>\n",
       "      <td>0</td>\n",
       "      <td>Чувашия</td>\n",
       "      <td>...</td>\n",
       "      <td>8000.0</td>\n",
       "      <td>106814680</td>\n",
       "      <td>Сборочные производства</td>\n",
       "      <td>Специалист</td>\n",
       "      <td>Участие в основ. деятельности</td>\n",
       "      <td>36.0</td>\n",
       "      <td>106814680</td>\n",
       "      <td>106814680</td>\n",
       "      <td>2</td>\n",
       "      <td>2.0</td>\n",
       "    </tr>\n",
       "    <tr>\n",
       "      <th>15519</th>\n",
       "      <td>106812464</td>\n",
       "      <td>26</td>\n",
       "      <td>0</td>\n",
       "      <td>Среднее специальное</td>\n",
       "      <td>Состою в браке</td>\n",
       "      <td>0</td>\n",
       "      <td>0</td>\n",
       "      <td>1</td>\n",
       "      <td>0</td>\n",
       "      <td>Карелия</td>\n",
       "      <td>...</td>\n",
       "      <td>12000.0</td>\n",
       "      <td>106812464</td>\n",
       "      <td>Торговля</td>\n",
       "      <td>Специалист</td>\n",
       "      <td>Участие в основ. деятельности</td>\n",
       "      <td>24.0</td>\n",
       "      <td>106812464</td>\n",
       "      <td>106812464</td>\n",
       "      <td>1</td>\n",
       "      <td>NaN</td>\n",
       "    </tr>\n",
       "    <tr>\n",
       "      <th>15520</th>\n",
       "      <td>106809255</td>\n",
       "      <td>30</td>\n",
       "      <td>1</td>\n",
       "      <td>Среднее специальное</td>\n",
       "      <td>Не состоял в браке</td>\n",
       "      <td>0</td>\n",
       "      <td>0</td>\n",
       "      <td>1</td>\n",
       "      <td>0</td>\n",
       "      <td>Белгородская область</td>\n",
       "      <td>...</td>\n",
       "      <td>9000.0</td>\n",
       "      <td>106809255</td>\n",
       "      <td>Торговля</td>\n",
       "      <td>Специалист</td>\n",
       "      <td>Участие в основ. деятельности</td>\n",
       "      <td>36.0</td>\n",
       "      <td>106809255</td>\n",
       "      <td>106809255</td>\n",
       "      <td>1</td>\n",
       "      <td>NaN</td>\n",
       "    </tr>\n",
       "    <tr>\n",
       "      <th>15521</th>\n",
       "      <td>106814593</td>\n",
       "      <td>25</td>\n",
       "      <td>0</td>\n",
       "      <td>Среднее специальное</td>\n",
       "      <td>Состою в браке</td>\n",
       "      <td>0</td>\n",
       "      <td>0</td>\n",
       "      <td>1</td>\n",
       "      <td>0</td>\n",
       "      <td>Кабардино-Балкария</td>\n",
       "      <td>...</td>\n",
       "      <td>12000.0</td>\n",
       "      <td>106814593</td>\n",
       "      <td>Транспорт</td>\n",
       "      <td>Специалист</td>\n",
       "      <td>Участие в основ. деятельности</td>\n",
       "      <td>36.0</td>\n",
       "      <td>106814593</td>\n",
       "      <td>106814593</td>\n",
       "      <td>1</td>\n",
       "      <td>1.0</td>\n",
       "    </tr>\n",
       "    <tr>\n",
       "      <th>15522</th>\n",
       "      <td>106813640</td>\n",
       "      <td>26</td>\n",
       "      <td>1</td>\n",
       "      <td>Высшее</td>\n",
       "      <td>Не состоял в браке</td>\n",
       "      <td>0</td>\n",
       "      <td>0</td>\n",
       "      <td>1</td>\n",
       "      <td>0</td>\n",
       "      <td>Татарстан</td>\n",
       "      <td>...</td>\n",
       "      <td>10500.0</td>\n",
       "      <td>106813640</td>\n",
       "      <td>Другие сферы</td>\n",
       "      <td>Рабочий</td>\n",
       "      <td>Вспомогательный техперсонал</td>\n",
       "      <td>12.0</td>\n",
       "      <td>106813640</td>\n",
       "      <td>106813640</td>\n",
       "      <td>1</td>\n",
       "      <td>1.0</td>\n",
       "    </tr>\n",
       "  </tbody>\n",
       "</table>\n",
       "<p>15523 rows × 27 columns</p>\n",
       "</div>\n",
       "    <div class=\"colab-df-buttons\">\n",
       "\n",
       "  <div class=\"colab-df-container\">\n",
       "    <button class=\"colab-df-convert\" onclick=\"convertToInteractive('df-930a4742-73bc-42fe-91c8-af9eeec085f0')\"\n",
       "            title=\"Convert this dataframe to an interactive table.\"\n",
       "            style=\"display:none;\">\n",
       "\n",
       "  <svg xmlns=\"http://www.w3.org/2000/svg\" height=\"24px\" viewBox=\"0 -960 960 960\">\n",
       "    <path d=\"M120-120v-720h720v720H120Zm60-500h600v-160H180v160Zm220 220h160v-160H400v160Zm0 220h160v-160H400v160ZM180-400h160v-160H180v160Zm440 0h160v-160H620v160ZM180-180h160v-160H180v160Zm440 0h160v-160H620v160Z\"/>\n",
       "  </svg>\n",
       "    </button>\n",
       "\n",
       "  <style>\n",
       "    .colab-df-container {\n",
       "      display:flex;\n",
       "      gap: 12px;\n",
       "    }\n",
       "\n",
       "    .colab-df-convert {\n",
       "      background-color: #E8F0FE;\n",
       "      border: none;\n",
       "      border-radius: 50%;\n",
       "      cursor: pointer;\n",
       "      display: none;\n",
       "      fill: #1967D2;\n",
       "      height: 32px;\n",
       "      padding: 0 0 0 0;\n",
       "      width: 32px;\n",
       "    }\n",
       "\n",
       "    .colab-df-convert:hover {\n",
       "      background-color: #E2EBFA;\n",
       "      box-shadow: 0px 1px 2px rgba(60, 64, 67, 0.3), 0px 1px 3px 1px rgba(60, 64, 67, 0.15);\n",
       "      fill: #174EA6;\n",
       "    }\n",
       "\n",
       "    .colab-df-buttons div {\n",
       "      margin-bottom: 4px;\n",
       "    }\n",
       "\n",
       "    [theme=dark] .colab-df-convert {\n",
       "      background-color: #3B4455;\n",
       "      fill: #D2E3FC;\n",
       "    }\n",
       "\n",
       "    [theme=dark] .colab-df-convert:hover {\n",
       "      background-color: #434B5C;\n",
       "      box-shadow: 0px 1px 3px 1px rgba(0, 0, 0, 0.15);\n",
       "      filter: drop-shadow(0px 1px 2px rgba(0, 0, 0, 0.3));\n",
       "      fill: #FFFFFF;\n",
       "    }\n",
       "  </style>\n",
       "\n",
       "    <script>\n",
       "      const buttonEl =\n",
       "        document.querySelector('#df-930a4742-73bc-42fe-91c8-af9eeec085f0 button.colab-df-convert');\n",
       "      buttonEl.style.display =\n",
       "        google.colab.kernel.accessAllowed ? 'block' : 'none';\n",
       "\n",
       "      async function convertToInteractive(key) {\n",
       "        const element = document.querySelector('#df-930a4742-73bc-42fe-91c8-af9eeec085f0');\n",
       "        const dataTable =\n",
       "          await google.colab.kernel.invokeFunction('convertToInteractive',\n",
       "                                                    [key], {});\n",
       "        if (!dataTable) return;\n",
       "\n",
       "        const docLinkHtml = 'Like what you see? Visit the ' +\n",
       "          '<a target=\"_blank\" href=https://colab.research.google.com/notebooks/data_table.ipynb>data table notebook</a>'\n",
       "          + ' to learn more about interactive tables.';\n",
       "        element.innerHTML = '';\n",
       "        dataTable['output_type'] = 'display_data';\n",
       "        await google.colab.output.renderOutput(dataTable, element);\n",
       "        const docLink = document.createElement('div');\n",
       "        docLink.innerHTML = docLinkHtml;\n",
       "        element.appendChild(docLink);\n",
       "      }\n",
       "    </script>\n",
       "  </div>\n",
       "\n",
       "\n",
       "<div id=\"df-e17e9ca9-866d-4908-a5c9-0a66e54ae33d\">\n",
       "  <button class=\"colab-df-quickchart\" onclick=\"quickchart('df-e17e9ca9-866d-4908-a5c9-0a66e54ae33d')\"\n",
       "            title=\"Suggest charts\"\n",
       "            style=\"display:none;\">\n",
       "\n",
       "<svg xmlns=\"http://www.w3.org/2000/svg\" height=\"24px\"viewBox=\"0 0 24 24\"\n",
       "     width=\"24px\">\n",
       "    <g>\n",
       "        <path d=\"M19 3H5c-1.1 0-2 .9-2 2v14c0 1.1.9 2 2 2h14c1.1 0 2-.9 2-2V5c0-1.1-.9-2-2-2zM9 17H7v-7h2v7zm4 0h-2V7h2v10zm4 0h-2v-4h2v4z\"/>\n",
       "    </g>\n",
       "</svg>\n",
       "  </button>\n",
       "\n",
       "<style>\n",
       "  .colab-df-quickchart {\n",
       "      --bg-color: #E8F0FE;\n",
       "      --fill-color: #1967D2;\n",
       "      --hover-bg-color: #E2EBFA;\n",
       "      --hover-fill-color: #174EA6;\n",
       "      --disabled-fill-color: #AAA;\n",
       "      --disabled-bg-color: #DDD;\n",
       "  }\n",
       "\n",
       "  [theme=dark] .colab-df-quickchart {\n",
       "      --bg-color: #3B4455;\n",
       "      --fill-color: #D2E3FC;\n",
       "      --hover-bg-color: #434B5C;\n",
       "      --hover-fill-color: #FFFFFF;\n",
       "      --disabled-bg-color: #3B4455;\n",
       "      --disabled-fill-color: #666;\n",
       "  }\n",
       "\n",
       "  .colab-df-quickchart {\n",
       "    background-color: var(--bg-color);\n",
       "    border: none;\n",
       "    border-radius: 50%;\n",
       "    cursor: pointer;\n",
       "    display: none;\n",
       "    fill: var(--fill-color);\n",
       "    height: 32px;\n",
       "    padding: 0;\n",
       "    width: 32px;\n",
       "  }\n",
       "\n",
       "  .colab-df-quickchart:hover {\n",
       "    background-color: var(--hover-bg-color);\n",
       "    box-shadow: 0 1px 2px rgba(60, 64, 67, 0.3), 0 1px 3px 1px rgba(60, 64, 67, 0.15);\n",
       "    fill: var(--button-hover-fill-color);\n",
       "  }\n",
       "\n",
       "  .colab-df-quickchart-complete:disabled,\n",
       "  .colab-df-quickchart-complete:disabled:hover {\n",
       "    background-color: var(--disabled-bg-color);\n",
       "    fill: var(--disabled-fill-color);\n",
       "    box-shadow: none;\n",
       "  }\n",
       "\n",
       "  .colab-df-spinner {\n",
       "    border: 2px solid var(--fill-color);\n",
       "    border-color: transparent;\n",
       "    border-bottom-color: var(--fill-color);\n",
       "    animation:\n",
       "      spin 1s steps(1) infinite;\n",
       "  }\n",
       "\n",
       "  @keyframes spin {\n",
       "    0% {\n",
       "      border-color: transparent;\n",
       "      border-bottom-color: var(--fill-color);\n",
       "      border-left-color: var(--fill-color);\n",
       "    }\n",
       "    20% {\n",
       "      border-color: transparent;\n",
       "      border-left-color: var(--fill-color);\n",
       "      border-top-color: var(--fill-color);\n",
       "    }\n",
       "    30% {\n",
       "      border-color: transparent;\n",
       "      border-left-color: var(--fill-color);\n",
       "      border-top-color: var(--fill-color);\n",
       "      border-right-color: var(--fill-color);\n",
       "    }\n",
       "    40% {\n",
       "      border-color: transparent;\n",
       "      border-right-color: var(--fill-color);\n",
       "      border-top-color: var(--fill-color);\n",
       "    }\n",
       "    60% {\n",
       "      border-color: transparent;\n",
       "      border-right-color: var(--fill-color);\n",
       "    }\n",
       "    80% {\n",
       "      border-color: transparent;\n",
       "      border-right-color: var(--fill-color);\n",
       "      border-bottom-color: var(--fill-color);\n",
       "    }\n",
       "    90% {\n",
       "      border-color: transparent;\n",
       "      border-bottom-color: var(--fill-color);\n",
       "    }\n",
       "  }\n",
       "</style>\n",
       "\n",
       "  <script>\n",
       "    async function quickchart(key) {\n",
       "      const quickchartButtonEl =\n",
       "        document.querySelector('#' + key + ' button');\n",
       "      quickchartButtonEl.disabled = true;  // To prevent multiple clicks.\n",
       "      quickchartButtonEl.classList.add('colab-df-spinner');\n",
       "      try {\n",
       "        const charts = await google.colab.kernel.invokeFunction(\n",
       "            'suggestCharts', [key], {});\n",
       "      } catch (error) {\n",
       "        console.error('Error during call to suggestCharts:', error);\n",
       "      }\n",
       "      quickchartButtonEl.classList.remove('colab-df-spinner');\n",
       "      quickchartButtonEl.classList.add('colab-df-quickchart-complete');\n",
       "    }\n",
       "    (() => {\n",
       "      let quickchartButtonEl =\n",
       "        document.querySelector('#df-e17e9ca9-866d-4908-a5c9-0a66e54ae33d button');\n",
       "      quickchartButtonEl.style.display =\n",
       "        google.colab.kernel.accessAllowed ? 'block' : 'none';\n",
       "    })();\n",
       "  </script>\n",
       "</div>\n",
       "    </div>\n",
       "  </div>\n"
      ],
      "application/vnd.google.colaboratory.intrinsic+json": {
       "type": "dataframe",
       "variable_name": "dataset_client_target_salary_job_loan"
      }
     },
     "metadata": {},
     "execution_count": 135
    }
   ]
  },
  {
   "cell_type": "markdown",
   "source": [
    "Удаляем ненужные колонки"
   ],
   "metadata": {
    "id": "XhOGEpgWQ1nY"
   }
  },
  {
   "cell_type": "code",
   "source": [
    "columns_to_drop = ['EDUCATION', 'MARITAL_STATUS','REG_ADDRESS_PROVINCE', 'ID_CLIENT_x', 'ID_CLIENT_y', 'JOB_DIR', 'WORK_TIME', 'FACT_ADDRESS_PROVINCE', 'POSTAL_ADDRESS_PROVINCE', 'FAMILY_INCOME', 'OWN_AUTO','FL_PRESENCE_FL', 'ID','GEN_TITLE', 'GEN_INDUSTRY']\n",
    "df = dataset_client_target_salary_job_loan.drop(columns_to_drop, axis=1)\n",
    "df"
   ],
   "metadata": {
    "colab": {
     "base_uri": "https://localhost:8080/",
     "height": 423
    },
    "id": "ppYX8OJjbdQt",
    "outputId": "24d18840-58a4-4606-c176-21eb4cad0345",
    "collapsed": true
   },
   "execution_count": null,
   "outputs": [
    {
     "output_type": "execute_result",
     "data": {
      "text/plain": [
       "       AGE  GENDER  CHILD_TOTAL  DEPENDANTS  SOCSTATUS_WORK_FL  \\\n",
       "0       42       1            1           0                  1   \n",
       "1       28       1            1           1                  1   \n",
       "2       64       0            2           0                  1   \n",
       "3       54       1            0           0                  1   \n",
       "4       26       0            1           1                  1   \n",
       "...    ...     ...          ...         ...                ...   \n",
       "15518   26       1            1           1                  1   \n",
       "15519   26       0            0           0                  1   \n",
       "15520   30       1            0           0                  1   \n",
       "15521   25       0            0           0                  1   \n",
       "15522   26       1            0           0                  1   \n",
       "\n",
       "       SOCSTATUS_PENS_FL  AGREEMENT_RK  TARGET  PERSONAL_INCOME  \\\n",
       "0                      0      60099204       1          25000.0   \n",
       "1                      0      62244665       0          10000.0   \n",
       "2                      1      61050759       0          30000.0   \n",
       "3                      0      62079659       0          25000.0   \n",
       "4                      0      66583553       0          15000.0   \n",
       "...                  ...           ...     ...              ...   \n",
       "15518                  0      66751099       0           8000.0   \n",
       "15519                  0      64562377       0          12000.0   \n",
       "15520                  0      62236542       0           9000.0   \n",
       "15521                  0      66739926       0          12000.0   \n",
       "15522                  0      66077514       0          10500.0   \n",
       "\n",
       "       LOAN_NUM_TOTAL  LOAN_NUM_CLOSED  \n",
       "0                   1              NaN  \n",
       "1                   1              NaN  \n",
       "2                   1              1.0  \n",
       "3                   1              NaN  \n",
       "4                   2              2.0  \n",
       "...               ...              ...  \n",
       "15518               2              2.0  \n",
       "15519               1              NaN  \n",
       "15520               1              NaN  \n",
       "15521               1              1.0  \n",
       "15522               1              1.0  \n",
       "\n",
       "[15523 rows x 11 columns]"
      ],
      "text/html": [
       "\n",
       "  <div id=\"df-8dbd7ee2-1438-4c77-bfa1-48ed3b5447dd\" class=\"colab-df-container\">\n",
       "    <div>\n",
       "<style scoped>\n",
       "    .dataframe tbody tr th:only-of-type {\n",
       "        vertical-align: middle;\n",
       "    }\n",
       "\n",
       "    .dataframe tbody tr th {\n",
       "        vertical-align: top;\n",
       "    }\n",
       "\n",
       "    .dataframe thead th {\n",
       "        text-align: right;\n",
       "    }\n",
       "</style>\n",
       "<table border=\"1\" class=\"dataframe\">\n",
       "  <thead>\n",
       "    <tr style=\"text-align: right;\">\n",
       "      <th></th>\n",
       "      <th>AGE</th>\n",
       "      <th>GENDER</th>\n",
       "      <th>CHILD_TOTAL</th>\n",
       "      <th>DEPENDANTS</th>\n",
       "      <th>SOCSTATUS_WORK_FL</th>\n",
       "      <th>SOCSTATUS_PENS_FL</th>\n",
       "      <th>AGREEMENT_RK</th>\n",
       "      <th>TARGET</th>\n",
       "      <th>PERSONAL_INCOME</th>\n",
       "      <th>LOAN_NUM_TOTAL</th>\n",
       "      <th>LOAN_NUM_CLOSED</th>\n",
       "    </tr>\n",
       "  </thead>\n",
       "  <tbody>\n",
       "    <tr>\n",
       "      <th>0</th>\n",
       "      <td>42</td>\n",
       "      <td>1</td>\n",
       "      <td>1</td>\n",
       "      <td>0</td>\n",
       "      <td>1</td>\n",
       "      <td>0</td>\n",
       "      <td>60099204</td>\n",
       "      <td>1</td>\n",
       "      <td>25000.0</td>\n",
       "      <td>1</td>\n",
       "      <td>NaN</td>\n",
       "    </tr>\n",
       "    <tr>\n",
       "      <th>1</th>\n",
       "      <td>28</td>\n",
       "      <td>1</td>\n",
       "      <td>1</td>\n",
       "      <td>1</td>\n",
       "      <td>1</td>\n",
       "      <td>0</td>\n",
       "      <td>62244665</td>\n",
       "      <td>0</td>\n",
       "      <td>10000.0</td>\n",
       "      <td>1</td>\n",
       "      <td>NaN</td>\n",
       "    </tr>\n",
       "    <tr>\n",
       "      <th>2</th>\n",
       "      <td>64</td>\n",
       "      <td>0</td>\n",
       "      <td>2</td>\n",
       "      <td>0</td>\n",
       "      <td>1</td>\n",
       "      <td>1</td>\n",
       "      <td>61050759</td>\n",
       "      <td>0</td>\n",
       "      <td>30000.0</td>\n",
       "      <td>1</td>\n",
       "      <td>1.0</td>\n",
       "    </tr>\n",
       "    <tr>\n",
       "      <th>3</th>\n",
       "      <td>54</td>\n",
       "      <td>1</td>\n",
       "      <td>0</td>\n",
       "      <td>0</td>\n",
       "      <td>1</td>\n",
       "      <td>0</td>\n",
       "      <td>62079659</td>\n",
       "      <td>0</td>\n",
       "      <td>25000.0</td>\n",
       "      <td>1</td>\n",
       "      <td>NaN</td>\n",
       "    </tr>\n",
       "    <tr>\n",
       "      <th>4</th>\n",
       "      <td>26</td>\n",
       "      <td>0</td>\n",
       "      <td>1</td>\n",
       "      <td>1</td>\n",
       "      <td>1</td>\n",
       "      <td>0</td>\n",
       "      <td>66583553</td>\n",
       "      <td>0</td>\n",
       "      <td>15000.0</td>\n",
       "      <td>2</td>\n",
       "      <td>2.0</td>\n",
       "    </tr>\n",
       "    <tr>\n",
       "      <th>...</th>\n",
       "      <td>...</td>\n",
       "      <td>...</td>\n",
       "      <td>...</td>\n",
       "      <td>...</td>\n",
       "      <td>...</td>\n",
       "      <td>...</td>\n",
       "      <td>...</td>\n",
       "      <td>...</td>\n",
       "      <td>...</td>\n",
       "      <td>...</td>\n",
       "      <td>...</td>\n",
       "    </tr>\n",
       "    <tr>\n",
       "      <th>15518</th>\n",
       "      <td>26</td>\n",
       "      <td>1</td>\n",
       "      <td>1</td>\n",
       "      <td>1</td>\n",
       "      <td>1</td>\n",
       "      <td>0</td>\n",
       "      <td>66751099</td>\n",
       "      <td>0</td>\n",
       "      <td>8000.0</td>\n",
       "      <td>2</td>\n",
       "      <td>2.0</td>\n",
       "    </tr>\n",
       "    <tr>\n",
       "      <th>15519</th>\n",
       "      <td>26</td>\n",
       "      <td>0</td>\n",
       "      <td>0</td>\n",
       "      <td>0</td>\n",
       "      <td>1</td>\n",
       "      <td>0</td>\n",
       "      <td>64562377</td>\n",
       "      <td>0</td>\n",
       "      <td>12000.0</td>\n",
       "      <td>1</td>\n",
       "      <td>NaN</td>\n",
       "    </tr>\n",
       "    <tr>\n",
       "      <th>15520</th>\n",
       "      <td>30</td>\n",
       "      <td>1</td>\n",
       "      <td>0</td>\n",
       "      <td>0</td>\n",
       "      <td>1</td>\n",
       "      <td>0</td>\n",
       "      <td>62236542</td>\n",
       "      <td>0</td>\n",
       "      <td>9000.0</td>\n",
       "      <td>1</td>\n",
       "      <td>NaN</td>\n",
       "    </tr>\n",
       "    <tr>\n",
       "      <th>15521</th>\n",
       "      <td>25</td>\n",
       "      <td>0</td>\n",
       "      <td>0</td>\n",
       "      <td>0</td>\n",
       "      <td>1</td>\n",
       "      <td>0</td>\n",
       "      <td>66739926</td>\n",
       "      <td>0</td>\n",
       "      <td>12000.0</td>\n",
       "      <td>1</td>\n",
       "      <td>1.0</td>\n",
       "    </tr>\n",
       "    <tr>\n",
       "      <th>15522</th>\n",
       "      <td>26</td>\n",
       "      <td>1</td>\n",
       "      <td>0</td>\n",
       "      <td>0</td>\n",
       "      <td>1</td>\n",
       "      <td>0</td>\n",
       "      <td>66077514</td>\n",
       "      <td>0</td>\n",
       "      <td>10500.0</td>\n",
       "      <td>1</td>\n",
       "      <td>1.0</td>\n",
       "    </tr>\n",
       "  </tbody>\n",
       "</table>\n",
       "<p>15523 rows × 11 columns</p>\n",
       "</div>\n",
       "    <div class=\"colab-df-buttons\">\n",
       "\n",
       "  <div class=\"colab-df-container\">\n",
       "    <button class=\"colab-df-convert\" onclick=\"convertToInteractive('df-8dbd7ee2-1438-4c77-bfa1-48ed3b5447dd')\"\n",
       "            title=\"Convert this dataframe to an interactive table.\"\n",
       "            style=\"display:none;\">\n",
       "\n",
       "  <svg xmlns=\"http://www.w3.org/2000/svg\" height=\"24px\" viewBox=\"0 -960 960 960\">\n",
       "    <path d=\"M120-120v-720h720v720H120Zm60-500h600v-160H180v160Zm220 220h160v-160H400v160Zm0 220h160v-160H400v160ZM180-400h160v-160H180v160Zm440 0h160v-160H620v160ZM180-180h160v-160H180v160Zm440 0h160v-160H620v160Z\"/>\n",
       "  </svg>\n",
       "    </button>\n",
       "\n",
       "  <style>\n",
       "    .colab-df-container {\n",
       "      display:flex;\n",
       "      gap: 12px;\n",
       "    }\n",
       "\n",
       "    .colab-df-convert {\n",
       "      background-color: #E8F0FE;\n",
       "      border: none;\n",
       "      border-radius: 50%;\n",
       "      cursor: pointer;\n",
       "      display: none;\n",
       "      fill: #1967D2;\n",
       "      height: 32px;\n",
       "      padding: 0 0 0 0;\n",
       "      width: 32px;\n",
       "    }\n",
       "\n",
       "    .colab-df-convert:hover {\n",
       "      background-color: #E2EBFA;\n",
       "      box-shadow: 0px 1px 2px rgba(60, 64, 67, 0.3), 0px 1px 3px 1px rgba(60, 64, 67, 0.15);\n",
       "      fill: #174EA6;\n",
       "    }\n",
       "\n",
       "    .colab-df-buttons div {\n",
       "      margin-bottom: 4px;\n",
       "    }\n",
       "\n",
       "    [theme=dark] .colab-df-convert {\n",
       "      background-color: #3B4455;\n",
       "      fill: #D2E3FC;\n",
       "    }\n",
       "\n",
       "    [theme=dark] .colab-df-convert:hover {\n",
       "      background-color: #434B5C;\n",
       "      box-shadow: 0px 1px 3px 1px rgba(0, 0, 0, 0.15);\n",
       "      filter: drop-shadow(0px 1px 2px rgba(0, 0, 0, 0.3));\n",
       "      fill: #FFFFFF;\n",
       "    }\n",
       "  </style>\n",
       "\n",
       "    <script>\n",
       "      const buttonEl =\n",
       "        document.querySelector('#df-8dbd7ee2-1438-4c77-bfa1-48ed3b5447dd button.colab-df-convert');\n",
       "      buttonEl.style.display =\n",
       "        google.colab.kernel.accessAllowed ? 'block' : 'none';\n",
       "\n",
       "      async function convertToInteractive(key) {\n",
       "        const element = document.querySelector('#df-8dbd7ee2-1438-4c77-bfa1-48ed3b5447dd');\n",
       "        const dataTable =\n",
       "          await google.colab.kernel.invokeFunction('convertToInteractive',\n",
       "                                                    [key], {});\n",
       "        if (!dataTable) return;\n",
       "\n",
       "        const docLinkHtml = 'Like what you see? Visit the ' +\n",
       "          '<a target=\"_blank\" href=https://colab.research.google.com/notebooks/data_table.ipynb>data table notebook</a>'\n",
       "          + ' to learn more about interactive tables.';\n",
       "        element.innerHTML = '';\n",
       "        dataTable['output_type'] = 'display_data';\n",
       "        await google.colab.output.renderOutput(dataTable, element);\n",
       "        const docLink = document.createElement('div');\n",
       "        docLink.innerHTML = docLinkHtml;\n",
       "        element.appendChild(docLink);\n",
       "      }\n",
       "    </script>\n",
       "  </div>\n",
       "\n",
       "\n",
       "<div id=\"df-501506da-f80e-4b47-a074-552615e8cc70\">\n",
       "  <button class=\"colab-df-quickchart\" onclick=\"quickchart('df-501506da-f80e-4b47-a074-552615e8cc70')\"\n",
       "            title=\"Suggest charts\"\n",
       "            style=\"display:none;\">\n",
       "\n",
       "<svg xmlns=\"http://www.w3.org/2000/svg\" height=\"24px\"viewBox=\"0 0 24 24\"\n",
       "     width=\"24px\">\n",
       "    <g>\n",
       "        <path d=\"M19 3H5c-1.1 0-2 .9-2 2v14c0 1.1.9 2 2 2h14c1.1 0 2-.9 2-2V5c0-1.1-.9-2-2-2zM9 17H7v-7h2v7zm4 0h-2V7h2v10zm4 0h-2v-4h2v4z\"/>\n",
       "    </g>\n",
       "</svg>\n",
       "  </button>\n",
       "\n",
       "<style>\n",
       "  .colab-df-quickchart {\n",
       "      --bg-color: #E8F0FE;\n",
       "      --fill-color: #1967D2;\n",
       "      --hover-bg-color: #E2EBFA;\n",
       "      --hover-fill-color: #174EA6;\n",
       "      --disabled-fill-color: #AAA;\n",
       "      --disabled-bg-color: #DDD;\n",
       "  }\n",
       "\n",
       "  [theme=dark] .colab-df-quickchart {\n",
       "      --bg-color: #3B4455;\n",
       "      --fill-color: #D2E3FC;\n",
       "      --hover-bg-color: #434B5C;\n",
       "      --hover-fill-color: #FFFFFF;\n",
       "      --disabled-bg-color: #3B4455;\n",
       "      --disabled-fill-color: #666;\n",
       "  }\n",
       "\n",
       "  .colab-df-quickchart {\n",
       "    background-color: var(--bg-color);\n",
       "    border: none;\n",
       "    border-radius: 50%;\n",
       "    cursor: pointer;\n",
       "    display: none;\n",
       "    fill: var(--fill-color);\n",
       "    height: 32px;\n",
       "    padding: 0;\n",
       "    width: 32px;\n",
       "  }\n",
       "\n",
       "  .colab-df-quickchart:hover {\n",
       "    background-color: var(--hover-bg-color);\n",
       "    box-shadow: 0 1px 2px rgba(60, 64, 67, 0.3), 0 1px 3px 1px rgba(60, 64, 67, 0.15);\n",
       "    fill: var(--button-hover-fill-color);\n",
       "  }\n",
       "\n",
       "  .colab-df-quickchart-complete:disabled,\n",
       "  .colab-df-quickchart-complete:disabled:hover {\n",
       "    background-color: var(--disabled-bg-color);\n",
       "    fill: var(--disabled-fill-color);\n",
       "    box-shadow: none;\n",
       "  }\n",
       "\n",
       "  .colab-df-spinner {\n",
       "    border: 2px solid var(--fill-color);\n",
       "    border-color: transparent;\n",
       "    border-bottom-color: var(--fill-color);\n",
       "    animation:\n",
       "      spin 1s steps(1) infinite;\n",
       "  }\n",
       "\n",
       "  @keyframes spin {\n",
       "    0% {\n",
       "      border-color: transparent;\n",
       "      border-bottom-color: var(--fill-color);\n",
       "      border-left-color: var(--fill-color);\n",
       "    }\n",
       "    20% {\n",
       "      border-color: transparent;\n",
       "      border-left-color: var(--fill-color);\n",
       "      border-top-color: var(--fill-color);\n",
       "    }\n",
       "    30% {\n",
       "      border-color: transparent;\n",
       "      border-left-color: var(--fill-color);\n",
       "      border-top-color: var(--fill-color);\n",
       "      border-right-color: var(--fill-color);\n",
       "    }\n",
       "    40% {\n",
       "      border-color: transparent;\n",
       "      border-right-color: var(--fill-color);\n",
       "      border-top-color: var(--fill-color);\n",
       "    }\n",
       "    60% {\n",
       "      border-color: transparent;\n",
       "      border-right-color: var(--fill-color);\n",
       "    }\n",
       "    80% {\n",
       "      border-color: transparent;\n",
       "      border-right-color: var(--fill-color);\n",
       "      border-bottom-color: var(--fill-color);\n",
       "    }\n",
       "    90% {\n",
       "      border-color: transparent;\n",
       "      border-bottom-color: var(--fill-color);\n",
       "    }\n",
       "  }\n",
       "</style>\n",
       "\n",
       "  <script>\n",
       "    async function quickchart(key) {\n",
       "      const quickchartButtonEl =\n",
       "        document.querySelector('#' + key + ' button');\n",
       "      quickchartButtonEl.disabled = true;  // To prevent multiple clicks.\n",
       "      quickchartButtonEl.classList.add('colab-df-spinner');\n",
       "      try {\n",
       "        const charts = await google.colab.kernel.invokeFunction(\n",
       "            'suggestCharts', [key], {});\n",
       "      } catch (error) {\n",
       "        console.error('Error during call to suggestCharts:', error);\n",
       "      }\n",
       "      quickchartButtonEl.classList.remove('colab-df-spinner');\n",
       "      quickchartButtonEl.classList.add('colab-df-quickchart-complete');\n",
       "    }\n",
       "    (() => {\n",
       "      let quickchartButtonEl =\n",
       "        document.querySelector('#df-501506da-f80e-4b47-a074-552615e8cc70 button');\n",
       "      quickchartButtonEl.style.display =\n",
       "        google.colab.kernel.accessAllowed ? 'block' : 'none';\n",
       "    })();\n",
       "  </script>\n",
       "</div>\n",
       "    </div>\n",
       "  </div>\n"
      ],
      "application/vnd.google.colaboratory.intrinsic+json": {
       "type": "dataframe",
       "variable_name": "df",
       "summary": "{\n  \"name\": \"df\",\n  \"rows\": 15523,\n  \"fields\": [\n    {\n      \"column\": \"AGE\",\n      \"properties\": {\n        \"dtype\": \"number\",\n        \"std\": 11,\n        \"min\": 21,\n        \"max\": 67,\n        \"num_unique_values\": 47,\n        \"samples\": [\n          55,\n          33,\n          36\n        ],\n        \"semantic_type\": \"\",\n        \"description\": \"\"\n      }\n    },\n    {\n      \"column\": \"GENDER\",\n      \"properties\": {\n        \"dtype\": \"number\",\n        \"std\": 0,\n        \"min\": 0,\n        \"max\": 1,\n        \"num_unique_values\": 2,\n        \"samples\": [\n          0,\n          1\n        ],\n        \"semantic_type\": \"\",\n        \"description\": \"\"\n      }\n    },\n    {\n      \"column\": \"CHILD_TOTAL\",\n      \"properties\": {\n        \"dtype\": \"number\",\n        \"std\": 0,\n        \"min\": 0,\n        \"max\": 10,\n        \"num_unique_values\": 10,\n        \"samples\": [\n          7,\n          2\n        ],\n        \"semantic_type\": \"\",\n        \"description\": \"\"\n      }\n    },\n    {\n      \"column\": \"DEPENDANTS\",\n      \"properties\": {\n        \"dtype\": \"number\",\n        \"std\": 0,\n        \"min\": 0,\n        \"max\": 7,\n        \"num_unique_values\": 8,\n        \"samples\": [\n          1,\n          6\n        ],\n        \"semantic_type\": \"\",\n        \"description\": \"\"\n      }\n    },\n    {\n      \"column\": \"SOCSTATUS_WORK_FL\",\n      \"properties\": {\n        \"dtype\": \"number\",\n        \"std\": 0,\n        \"min\": 0,\n        \"max\": 1,\n        \"num_unique_values\": 2,\n        \"samples\": [\n          0,\n          1\n        ],\n        \"semantic_type\": \"\",\n        \"description\": \"\"\n      }\n    },\n    {\n      \"column\": \"SOCSTATUS_PENS_FL\",\n      \"properties\": {\n        \"dtype\": \"number\",\n        \"std\": 0,\n        \"min\": 0,\n        \"max\": 1,\n        \"num_unique_values\": 2,\n        \"samples\": [\n          1,\n          0\n        ],\n        \"semantic_type\": \"\",\n        \"description\": \"\"\n      }\n    },\n    {\n      \"column\": \"AGREEMENT_RK\",\n      \"properties\": {\n        \"dtype\": \"number\",\n        \"std\": 4569482,\n        \"min\": 59910150,\n        \"max\": 75292242,\n        \"num_unique_values\": 15223,\n        \"samples\": [\n          61539225,\n          61309987\n        ],\n        \"semantic_type\": \"\",\n        \"description\": \"\"\n      }\n    },\n    {\n      \"column\": \"TARGET\",\n      \"properties\": {\n        \"dtype\": \"number\",\n        \"std\": 0,\n        \"min\": 0,\n        \"max\": 1,\n        \"num_unique_values\": 2,\n        \"samples\": [\n          0,\n          1\n        ],\n        \"semantic_type\": \"\",\n        \"description\": \"\"\n      }\n    },\n    {\n      \"column\": \"PERSONAL_INCOME\",\n      \"properties\": {\n        \"dtype\": \"number\",\n        \"std\": 8998.618991626856,\n        \"min\": 24.0,\n        \"max\": 250000.0,\n        \"num_unique_values\": 274,\n        \"samples\": [\n          17000.0,\n          42000.0\n        ],\n        \"semantic_type\": \"\",\n        \"description\": \"\"\n      }\n    },\n    {\n      \"column\": \"LOAN_NUM_TOTAL\",\n      \"properties\": {\n        \"dtype\": \"number\",\n        \"std\": 0,\n        \"min\": 1,\n        \"max\": 11,\n        \"num_unique_values\": 9,\n        \"samples\": [\n          8,\n          2\n        ],\n        \"semantic_type\": \"\",\n        \"description\": \"\"\n      }\n    },\n    {\n      \"column\": \"LOAN_NUM_CLOSED\",\n      \"properties\": {\n        \"dtype\": \"number\",\n        \"std\": 0.8893860083896723,\n        \"min\": 1.0,\n        \"max\": 11.0,\n        \"num_unique_values\": 9,\n        \"samples\": [\n          8.0,\n          2.0\n        ],\n        \"semantic_type\": \"\",\n        \"description\": \"\"\n      }\n    }\n  ]\n}"
      }
     },
     "metadata": {},
     "execution_count": 136
    }
   ]
  },
  {
   "cell_type": "markdown",
   "source": [
    "## Обработка датасета"
   ],
   "metadata": {
    "id": "XRu0ZS45Puan"
   }
  },
  {
   "cell_type": "markdown",
   "source": [
    "Всего 7947 пропусков"
   ],
   "metadata": {
    "id": "zhvacMFIRc77"
   }
  },
  {
   "cell_type": "code",
   "source": [
    "df.isnull().sum()"
   ],
   "metadata": {
    "colab": {
     "base_uri": "https://localhost:8080/",
     "height": 429
    },
    "collapsed": true,
    "id": "jyY3PB8Fc430",
    "outputId": "30251d98-9256-4e70-a3c5-5ff758820f11"
   },
   "execution_count": null,
   "outputs": [
    {
     "output_type": "execute_result",
     "data": {
      "text/plain": [
       "AGE                     0\n",
       "GENDER                  0\n",
       "CHILD_TOTAL             0\n",
       "DEPENDANTS              0\n",
       "SOCSTATUS_WORK_FL       0\n",
       "SOCSTATUS_PENS_FL       0\n",
       "AGREEMENT_RK            0\n",
       "TARGET                  0\n",
       "PERSONAL_INCOME         0\n",
       "LOAN_NUM_TOTAL          0\n",
       "LOAN_NUM_CLOSED      7947\n",
       "dtype: int64"
      ],
      "text/html": [
       "<div>\n",
       "<style scoped>\n",
       "    .dataframe tbody tr th:only-of-type {\n",
       "        vertical-align: middle;\n",
       "    }\n",
       "\n",
       "    .dataframe tbody tr th {\n",
       "        vertical-align: top;\n",
       "    }\n",
       "\n",
       "    .dataframe thead th {\n",
       "        text-align: right;\n",
       "    }\n",
       "</style>\n",
       "<table border=\"1\" class=\"dataframe\">\n",
       "  <thead>\n",
       "    <tr style=\"text-align: right;\">\n",
       "      <th></th>\n",
       "      <th>0</th>\n",
       "    </tr>\n",
       "  </thead>\n",
       "  <tbody>\n",
       "    <tr>\n",
       "      <th>AGE</th>\n",
       "      <td>0</td>\n",
       "    </tr>\n",
       "    <tr>\n",
       "      <th>GENDER</th>\n",
       "      <td>0</td>\n",
       "    </tr>\n",
       "    <tr>\n",
       "      <th>CHILD_TOTAL</th>\n",
       "      <td>0</td>\n",
       "    </tr>\n",
       "    <tr>\n",
       "      <th>DEPENDANTS</th>\n",
       "      <td>0</td>\n",
       "    </tr>\n",
       "    <tr>\n",
       "      <th>SOCSTATUS_WORK_FL</th>\n",
       "      <td>0</td>\n",
       "    </tr>\n",
       "    <tr>\n",
       "      <th>SOCSTATUS_PENS_FL</th>\n",
       "      <td>0</td>\n",
       "    </tr>\n",
       "    <tr>\n",
       "      <th>AGREEMENT_RK</th>\n",
       "      <td>0</td>\n",
       "    </tr>\n",
       "    <tr>\n",
       "      <th>TARGET</th>\n",
       "      <td>0</td>\n",
       "    </tr>\n",
       "    <tr>\n",
       "      <th>PERSONAL_INCOME</th>\n",
       "      <td>0</td>\n",
       "    </tr>\n",
       "    <tr>\n",
       "      <th>LOAN_NUM_TOTAL</th>\n",
       "      <td>0</td>\n",
       "    </tr>\n",
       "    <tr>\n",
       "      <th>LOAN_NUM_CLOSED</th>\n",
       "      <td>7947</td>\n",
       "    </tr>\n",
       "  </tbody>\n",
       "</table>\n",
       "</div><br><label><b>dtype:</b> int64</label>"
      ]
     },
     "metadata": {},
     "execution_count": 137
    }
   ]
  },
  {
   "cell_type": "markdown",
   "source": [
    "Заполняем Nan значением 0, т.к ссуда была взята, но не закрыта."
   ],
   "metadata": {
    "id": "Hn49-Fp5P5i9"
   }
  },
  {
   "cell_type": "code",
   "source": [
    "df['LOAN_NUM_CLOSED'].fillna(0, inplace=True)\n",
    "df"
   ],
   "metadata": {
    "colab": {
     "base_uri": "https://localhost:8080/",
     "height": 423
    },
    "id": "4V-ftuWEepNM",
    "outputId": "3f443a6b-19a8-494a-cc1e-d266e9b2a585",
    "collapsed": true
   },
   "execution_count": null,
   "outputs": [
    {
     "output_type": "execute_result",
     "data": {
      "text/plain": [
       "       AGE  GENDER  CHILD_TOTAL  DEPENDANTS  SOCSTATUS_WORK_FL  \\\n",
       "0       42       1            1           0                  1   \n",
       "1       28       1            1           1                  1   \n",
       "2       64       0            2           0                  1   \n",
       "3       54       1            0           0                  1   \n",
       "4       26       0            1           1                  1   \n",
       "...    ...     ...          ...         ...                ...   \n",
       "15518   26       1            1           1                  1   \n",
       "15519   26       0            0           0                  1   \n",
       "15520   30       1            0           0                  1   \n",
       "15521   25       0            0           0                  1   \n",
       "15522   26       1            0           0                  1   \n",
       "\n",
       "       SOCSTATUS_PENS_FL  AGREEMENT_RK  TARGET  PERSONAL_INCOME  \\\n",
       "0                      0      60099204       1          25000.0   \n",
       "1                      0      62244665       0          10000.0   \n",
       "2                      1      61050759       0          30000.0   \n",
       "3                      0      62079659       0          25000.0   \n",
       "4                      0      66583553       0          15000.0   \n",
       "...                  ...           ...     ...              ...   \n",
       "15518                  0      66751099       0           8000.0   \n",
       "15519                  0      64562377       0          12000.0   \n",
       "15520                  0      62236542       0           9000.0   \n",
       "15521                  0      66739926       0          12000.0   \n",
       "15522                  0      66077514       0          10500.0   \n",
       "\n",
       "       LOAN_NUM_TOTAL  LOAN_NUM_CLOSED  \n",
       "0                   1              0.0  \n",
       "1                   1              0.0  \n",
       "2                   1              1.0  \n",
       "3                   1              0.0  \n",
       "4                   2              2.0  \n",
       "...               ...              ...  \n",
       "15518               2              2.0  \n",
       "15519               1              0.0  \n",
       "15520               1              0.0  \n",
       "15521               1              1.0  \n",
       "15522               1              1.0  \n",
       "\n",
       "[15523 rows x 11 columns]"
      ],
      "text/html": [
       "\n",
       "  <div id=\"df-fa757322-33ff-4e0f-9c7b-480258d5b8c3\" class=\"colab-df-container\">\n",
       "    <div>\n",
       "<style scoped>\n",
       "    .dataframe tbody tr th:only-of-type {\n",
       "        vertical-align: middle;\n",
       "    }\n",
       "\n",
       "    .dataframe tbody tr th {\n",
       "        vertical-align: top;\n",
       "    }\n",
       "\n",
       "    .dataframe thead th {\n",
       "        text-align: right;\n",
       "    }\n",
       "</style>\n",
       "<table border=\"1\" class=\"dataframe\">\n",
       "  <thead>\n",
       "    <tr style=\"text-align: right;\">\n",
       "      <th></th>\n",
       "      <th>AGE</th>\n",
       "      <th>GENDER</th>\n",
       "      <th>CHILD_TOTAL</th>\n",
       "      <th>DEPENDANTS</th>\n",
       "      <th>SOCSTATUS_WORK_FL</th>\n",
       "      <th>SOCSTATUS_PENS_FL</th>\n",
       "      <th>AGREEMENT_RK</th>\n",
       "      <th>TARGET</th>\n",
       "      <th>PERSONAL_INCOME</th>\n",
       "      <th>LOAN_NUM_TOTAL</th>\n",
       "      <th>LOAN_NUM_CLOSED</th>\n",
       "    </tr>\n",
       "  </thead>\n",
       "  <tbody>\n",
       "    <tr>\n",
       "      <th>0</th>\n",
       "      <td>42</td>\n",
       "      <td>1</td>\n",
       "      <td>1</td>\n",
       "      <td>0</td>\n",
       "      <td>1</td>\n",
       "      <td>0</td>\n",
       "      <td>60099204</td>\n",
       "      <td>1</td>\n",
       "      <td>25000.0</td>\n",
       "      <td>1</td>\n",
       "      <td>0.0</td>\n",
       "    </tr>\n",
       "    <tr>\n",
       "      <th>1</th>\n",
       "      <td>28</td>\n",
       "      <td>1</td>\n",
       "      <td>1</td>\n",
       "      <td>1</td>\n",
       "      <td>1</td>\n",
       "      <td>0</td>\n",
       "      <td>62244665</td>\n",
       "      <td>0</td>\n",
       "      <td>10000.0</td>\n",
       "      <td>1</td>\n",
       "      <td>0.0</td>\n",
       "    </tr>\n",
       "    <tr>\n",
       "      <th>2</th>\n",
       "      <td>64</td>\n",
       "      <td>0</td>\n",
       "      <td>2</td>\n",
       "      <td>0</td>\n",
       "      <td>1</td>\n",
       "      <td>1</td>\n",
       "      <td>61050759</td>\n",
       "      <td>0</td>\n",
       "      <td>30000.0</td>\n",
       "      <td>1</td>\n",
       "      <td>1.0</td>\n",
       "    </tr>\n",
       "    <tr>\n",
       "      <th>3</th>\n",
       "      <td>54</td>\n",
       "      <td>1</td>\n",
       "      <td>0</td>\n",
       "      <td>0</td>\n",
       "      <td>1</td>\n",
       "      <td>0</td>\n",
       "      <td>62079659</td>\n",
       "      <td>0</td>\n",
       "      <td>25000.0</td>\n",
       "      <td>1</td>\n",
       "      <td>0.0</td>\n",
       "    </tr>\n",
       "    <tr>\n",
       "      <th>4</th>\n",
       "      <td>26</td>\n",
       "      <td>0</td>\n",
       "      <td>1</td>\n",
       "      <td>1</td>\n",
       "      <td>1</td>\n",
       "      <td>0</td>\n",
       "      <td>66583553</td>\n",
       "      <td>0</td>\n",
       "      <td>15000.0</td>\n",
       "      <td>2</td>\n",
       "      <td>2.0</td>\n",
       "    </tr>\n",
       "    <tr>\n",
       "      <th>...</th>\n",
       "      <td>...</td>\n",
       "      <td>...</td>\n",
       "      <td>...</td>\n",
       "      <td>...</td>\n",
       "      <td>...</td>\n",
       "      <td>...</td>\n",
       "      <td>...</td>\n",
       "      <td>...</td>\n",
       "      <td>...</td>\n",
       "      <td>...</td>\n",
       "      <td>...</td>\n",
       "    </tr>\n",
       "    <tr>\n",
       "      <th>15518</th>\n",
       "      <td>26</td>\n",
       "      <td>1</td>\n",
       "      <td>1</td>\n",
       "      <td>1</td>\n",
       "      <td>1</td>\n",
       "      <td>0</td>\n",
       "      <td>66751099</td>\n",
       "      <td>0</td>\n",
       "      <td>8000.0</td>\n",
       "      <td>2</td>\n",
       "      <td>2.0</td>\n",
       "    </tr>\n",
       "    <tr>\n",
       "      <th>15519</th>\n",
       "      <td>26</td>\n",
       "      <td>0</td>\n",
       "      <td>0</td>\n",
       "      <td>0</td>\n",
       "      <td>1</td>\n",
       "      <td>0</td>\n",
       "      <td>64562377</td>\n",
       "      <td>0</td>\n",
       "      <td>12000.0</td>\n",
       "      <td>1</td>\n",
       "      <td>0.0</td>\n",
       "    </tr>\n",
       "    <tr>\n",
       "      <th>15520</th>\n",
       "      <td>30</td>\n",
       "      <td>1</td>\n",
       "      <td>0</td>\n",
       "      <td>0</td>\n",
       "      <td>1</td>\n",
       "      <td>0</td>\n",
       "      <td>62236542</td>\n",
       "      <td>0</td>\n",
       "      <td>9000.0</td>\n",
       "      <td>1</td>\n",
       "      <td>0.0</td>\n",
       "    </tr>\n",
       "    <tr>\n",
       "      <th>15521</th>\n",
       "      <td>25</td>\n",
       "      <td>0</td>\n",
       "      <td>0</td>\n",
       "      <td>0</td>\n",
       "      <td>1</td>\n",
       "      <td>0</td>\n",
       "      <td>66739926</td>\n",
       "      <td>0</td>\n",
       "      <td>12000.0</td>\n",
       "      <td>1</td>\n",
       "      <td>1.0</td>\n",
       "    </tr>\n",
       "    <tr>\n",
       "      <th>15522</th>\n",
       "      <td>26</td>\n",
       "      <td>1</td>\n",
       "      <td>0</td>\n",
       "      <td>0</td>\n",
       "      <td>1</td>\n",
       "      <td>0</td>\n",
       "      <td>66077514</td>\n",
       "      <td>0</td>\n",
       "      <td>10500.0</td>\n",
       "      <td>1</td>\n",
       "      <td>1.0</td>\n",
       "    </tr>\n",
       "  </tbody>\n",
       "</table>\n",
       "<p>15523 rows × 11 columns</p>\n",
       "</div>\n",
       "    <div class=\"colab-df-buttons\">\n",
       "\n",
       "  <div class=\"colab-df-container\">\n",
       "    <button class=\"colab-df-convert\" onclick=\"convertToInteractive('df-fa757322-33ff-4e0f-9c7b-480258d5b8c3')\"\n",
       "            title=\"Convert this dataframe to an interactive table.\"\n",
       "            style=\"display:none;\">\n",
       "\n",
       "  <svg xmlns=\"http://www.w3.org/2000/svg\" height=\"24px\" viewBox=\"0 -960 960 960\">\n",
       "    <path d=\"M120-120v-720h720v720H120Zm60-500h600v-160H180v160Zm220 220h160v-160H400v160Zm0 220h160v-160H400v160ZM180-400h160v-160H180v160Zm440 0h160v-160H620v160ZM180-180h160v-160H180v160Zm440 0h160v-160H620v160Z\"/>\n",
       "  </svg>\n",
       "    </button>\n",
       "\n",
       "  <style>\n",
       "    .colab-df-container {\n",
       "      display:flex;\n",
       "      gap: 12px;\n",
       "    }\n",
       "\n",
       "    .colab-df-convert {\n",
       "      background-color: #E8F0FE;\n",
       "      border: none;\n",
       "      border-radius: 50%;\n",
       "      cursor: pointer;\n",
       "      display: none;\n",
       "      fill: #1967D2;\n",
       "      height: 32px;\n",
       "      padding: 0 0 0 0;\n",
       "      width: 32px;\n",
       "    }\n",
       "\n",
       "    .colab-df-convert:hover {\n",
       "      background-color: #E2EBFA;\n",
       "      box-shadow: 0px 1px 2px rgba(60, 64, 67, 0.3), 0px 1px 3px 1px rgba(60, 64, 67, 0.15);\n",
       "      fill: #174EA6;\n",
       "    }\n",
       "\n",
       "    .colab-df-buttons div {\n",
       "      margin-bottom: 4px;\n",
       "    }\n",
       "\n",
       "    [theme=dark] .colab-df-convert {\n",
       "      background-color: #3B4455;\n",
       "      fill: #D2E3FC;\n",
       "    }\n",
       "\n",
       "    [theme=dark] .colab-df-convert:hover {\n",
       "      background-color: #434B5C;\n",
       "      box-shadow: 0px 1px 3px 1px rgba(0, 0, 0, 0.15);\n",
       "      filter: drop-shadow(0px 1px 2px rgba(0, 0, 0, 0.3));\n",
       "      fill: #FFFFFF;\n",
       "    }\n",
       "  </style>\n",
       "\n",
       "    <script>\n",
       "      const buttonEl =\n",
       "        document.querySelector('#df-fa757322-33ff-4e0f-9c7b-480258d5b8c3 button.colab-df-convert');\n",
       "      buttonEl.style.display =\n",
       "        google.colab.kernel.accessAllowed ? 'block' : 'none';\n",
       "\n",
       "      async function convertToInteractive(key) {\n",
       "        const element = document.querySelector('#df-fa757322-33ff-4e0f-9c7b-480258d5b8c3');\n",
       "        const dataTable =\n",
       "          await google.colab.kernel.invokeFunction('convertToInteractive',\n",
       "                                                    [key], {});\n",
       "        if (!dataTable) return;\n",
       "\n",
       "        const docLinkHtml = 'Like what you see? Visit the ' +\n",
       "          '<a target=\"_blank\" href=https://colab.research.google.com/notebooks/data_table.ipynb>data table notebook</a>'\n",
       "          + ' to learn more about interactive tables.';\n",
       "        element.innerHTML = '';\n",
       "        dataTable['output_type'] = 'display_data';\n",
       "        await google.colab.output.renderOutput(dataTable, element);\n",
       "        const docLink = document.createElement('div');\n",
       "        docLink.innerHTML = docLinkHtml;\n",
       "        element.appendChild(docLink);\n",
       "      }\n",
       "    </script>\n",
       "  </div>\n",
       "\n",
       "\n",
       "<div id=\"df-00c6e26f-076f-4bef-b7d2-5e7e59b1abd1\">\n",
       "  <button class=\"colab-df-quickchart\" onclick=\"quickchart('df-00c6e26f-076f-4bef-b7d2-5e7e59b1abd1')\"\n",
       "            title=\"Suggest charts\"\n",
       "            style=\"display:none;\">\n",
       "\n",
       "<svg xmlns=\"http://www.w3.org/2000/svg\" height=\"24px\"viewBox=\"0 0 24 24\"\n",
       "     width=\"24px\">\n",
       "    <g>\n",
       "        <path d=\"M19 3H5c-1.1 0-2 .9-2 2v14c0 1.1.9 2 2 2h14c1.1 0 2-.9 2-2V5c0-1.1-.9-2-2-2zM9 17H7v-7h2v7zm4 0h-2V7h2v10zm4 0h-2v-4h2v4z\"/>\n",
       "    </g>\n",
       "</svg>\n",
       "  </button>\n",
       "\n",
       "<style>\n",
       "  .colab-df-quickchart {\n",
       "      --bg-color: #E8F0FE;\n",
       "      --fill-color: #1967D2;\n",
       "      --hover-bg-color: #E2EBFA;\n",
       "      --hover-fill-color: #174EA6;\n",
       "      --disabled-fill-color: #AAA;\n",
       "      --disabled-bg-color: #DDD;\n",
       "  }\n",
       "\n",
       "  [theme=dark] .colab-df-quickchart {\n",
       "      --bg-color: #3B4455;\n",
       "      --fill-color: #D2E3FC;\n",
       "      --hover-bg-color: #434B5C;\n",
       "      --hover-fill-color: #FFFFFF;\n",
       "      --disabled-bg-color: #3B4455;\n",
       "      --disabled-fill-color: #666;\n",
       "  }\n",
       "\n",
       "  .colab-df-quickchart {\n",
       "    background-color: var(--bg-color);\n",
       "    border: none;\n",
       "    border-radius: 50%;\n",
       "    cursor: pointer;\n",
       "    display: none;\n",
       "    fill: var(--fill-color);\n",
       "    height: 32px;\n",
       "    padding: 0;\n",
       "    width: 32px;\n",
       "  }\n",
       "\n",
       "  .colab-df-quickchart:hover {\n",
       "    background-color: var(--hover-bg-color);\n",
       "    box-shadow: 0 1px 2px rgba(60, 64, 67, 0.3), 0 1px 3px 1px rgba(60, 64, 67, 0.15);\n",
       "    fill: var(--button-hover-fill-color);\n",
       "  }\n",
       "\n",
       "  .colab-df-quickchart-complete:disabled,\n",
       "  .colab-df-quickchart-complete:disabled:hover {\n",
       "    background-color: var(--disabled-bg-color);\n",
       "    fill: var(--disabled-fill-color);\n",
       "    box-shadow: none;\n",
       "  }\n",
       "\n",
       "  .colab-df-spinner {\n",
       "    border: 2px solid var(--fill-color);\n",
       "    border-color: transparent;\n",
       "    border-bottom-color: var(--fill-color);\n",
       "    animation:\n",
       "      spin 1s steps(1) infinite;\n",
       "  }\n",
       "\n",
       "  @keyframes spin {\n",
       "    0% {\n",
       "      border-color: transparent;\n",
       "      border-bottom-color: var(--fill-color);\n",
       "      border-left-color: var(--fill-color);\n",
       "    }\n",
       "    20% {\n",
       "      border-color: transparent;\n",
       "      border-left-color: var(--fill-color);\n",
       "      border-top-color: var(--fill-color);\n",
       "    }\n",
       "    30% {\n",
       "      border-color: transparent;\n",
       "      border-left-color: var(--fill-color);\n",
       "      border-top-color: var(--fill-color);\n",
       "      border-right-color: var(--fill-color);\n",
       "    }\n",
       "    40% {\n",
       "      border-color: transparent;\n",
       "      border-right-color: var(--fill-color);\n",
       "      border-top-color: var(--fill-color);\n",
       "    }\n",
       "    60% {\n",
       "      border-color: transparent;\n",
       "      border-right-color: var(--fill-color);\n",
       "    }\n",
       "    80% {\n",
       "      border-color: transparent;\n",
       "      border-right-color: var(--fill-color);\n",
       "      border-bottom-color: var(--fill-color);\n",
       "    }\n",
       "    90% {\n",
       "      border-color: transparent;\n",
       "      border-bottom-color: var(--fill-color);\n",
       "    }\n",
       "  }\n",
       "</style>\n",
       "\n",
       "  <script>\n",
       "    async function quickchart(key) {\n",
       "      const quickchartButtonEl =\n",
       "        document.querySelector('#' + key + ' button');\n",
       "      quickchartButtonEl.disabled = true;  // To prevent multiple clicks.\n",
       "      quickchartButtonEl.classList.add('colab-df-spinner');\n",
       "      try {\n",
       "        const charts = await google.colab.kernel.invokeFunction(\n",
       "            'suggestCharts', [key], {});\n",
       "      } catch (error) {\n",
       "        console.error('Error during call to suggestCharts:', error);\n",
       "      }\n",
       "      quickchartButtonEl.classList.remove('colab-df-spinner');\n",
       "      quickchartButtonEl.classList.add('colab-df-quickchart-complete');\n",
       "    }\n",
       "    (() => {\n",
       "      let quickchartButtonEl =\n",
       "        document.querySelector('#df-00c6e26f-076f-4bef-b7d2-5e7e59b1abd1 button');\n",
       "      quickchartButtonEl.style.display =\n",
       "        google.colab.kernel.accessAllowed ? 'block' : 'none';\n",
       "    })();\n",
       "  </script>\n",
       "</div>\n",
       "    </div>\n",
       "  </div>\n"
      ],
      "application/vnd.google.colaboratory.intrinsic+json": {
       "type": "dataframe",
       "variable_name": "df",
       "summary": "{\n  \"name\": \"df\",\n  \"rows\": 15523,\n  \"fields\": [\n    {\n      \"column\": \"AGE\",\n      \"properties\": {\n        \"dtype\": \"number\",\n        \"std\": 11,\n        \"min\": 21,\n        \"max\": 67,\n        \"num_unique_values\": 47,\n        \"samples\": [\n          55,\n          33,\n          36\n        ],\n        \"semantic_type\": \"\",\n        \"description\": \"\"\n      }\n    },\n    {\n      \"column\": \"GENDER\",\n      \"properties\": {\n        \"dtype\": \"number\",\n        \"std\": 0,\n        \"min\": 0,\n        \"max\": 1,\n        \"num_unique_values\": 2,\n        \"samples\": [\n          0,\n          1\n        ],\n        \"semantic_type\": \"\",\n        \"description\": \"\"\n      }\n    },\n    {\n      \"column\": \"CHILD_TOTAL\",\n      \"properties\": {\n        \"dtype\": \"number\",\n        \"std\": 0,\n        \"min\": 0,\n        \"max\": 10,\n        \"num_unique_values\": 10,\n        \"samples\": [\n          7,\n          2\n        ],\n        \"semantic_type\": \"\",\n        \"description\": \"\"\n      }\n    },\n    {\n      \"column\": \"DEPENDANTS\",\n      \"properties\": {\n        \"dtype\": \"number\",\n        \"std\": 0,\n        \"min\": 0,\n        \"max\": 7,\n        \"num_unique_values\": 8,\n        \"samples\": [\n          1,\n          6\n        ],\n        \"semantic_type\": \"\",\n        \"description\": \"\"\n      }\n    },\n    {\n      \"column\": \"SOCSTATUS_WORK_FL\",\n      \"properties\": {\n        \"dtype\": \"number\",\n        \"std\": 0,\n        \"min\": 0,\n        \"max\": 1,\n        \"num_unique_values\": 2,\n        \"samples\": [\n          0,\n          1\n        ],\n        \"semantic_type\": \"\",\n        \"description\": \"\"\n      }\n    },\n    {\n      \"column\": \"SOCSTATUS_PENS_FL\",\n      \"properties\": {\n        \"dtype\": \"number\",\n        \"std\": 0,\n        \"min\": 0,\n        \"max\": 1,\n        \"num_unique_values\": 2,\n        \"samples\": [\n          1,\n          0\n        ],\n        \"semantic_type\": \"\",\n        \"description\": \"\"\n      }\n    },\n    {\n      \"column\": \"AGREEMENT_RK\",\n      \"properties\": {\n        \"dtype\": \"number\",\n        \"std\": 4569482,\n        \"min\": 59910150,\n        \"max\": 75292242,\n        \"num_unique_values\": 15223,\n        \"samples\": [\n          61539225,\n          61309987\n        ],\n        \"semantic_type\": \"\",\n        \"description\": \"\"\n      }\n    },\n    {\n      \"column\": \"TARGET\",\n      \"properties\": {\n        \"dtype\": \"number\",\n        \"std\": 0,\n        \"min\": 0,\n        \"max\": 1,\n        \"num_unique_values\": 2,\n        \"samples\": [\n          0,\n          1\n        ],\n        \"semantic_type\": \"\",\n        \"description\": \"\"\n      }\n    },\n    {\n      \"column\": \"PERSONAL_INCOME\",\n      \"properties\": {\n        \"dtype\": \"number\",\n        \"std\": 8998.618991626856,\n        \"min\": 24.0,\n        \"max\": 250000.0,\n        \"num_unique_values\": 274,\n        \"samples\": [\n          17000.0,\n          42000.0\n        ],\n        \"semantic_type\": \"\",\n        \"description\": \"\"\n      }\n    },\n    {\n      \"column\": \"LOAN_NUM_TOTAL\",\n      \"properties\": {\n        \"dtype\": \"number\",\n        \"std\": 0,\n        \"min\": 1,\n        \"max\": 11,\n        \"num_unique_values\": 9,\n        \"samples\": [\n          8,\n          2\n        ],\n        \"semantic_type\": \"\",\n        \"description\": \"\"\n      }\n    },\n    {\n      \"column\": \"LOAN_NUM_CLOSED\",\n      \"properties\": {\n        \"dtype\": \"number\",\n        \"std\": 0.9892525163293499,\n        \"min\": 0.0,\n        \"max\": 11.0,\n        \"num_unique_values\": 10,\n        \"samples\": [\n          8.0,\n          1.0\n        ],\n        \"semantic_type\": \"\",\n        \"description\": \"\"\n      }\n    }\n  ]\n}"
      }
     },
     "metadata": {},
     "execution_count": 138
    }
   ]
  },
  {
   "cell_type": "code",
   "source": [
    "new_order = ['AGREEMENT_RK', 'AGE', 'GENDER', 'CHILD_TOTAL', 'DEPENDANTS', 'PERSONAL_INCOME', 'SOCSTATUS_WORK_FL', 'SOCSTATUS_PENS_FL', 'LOAN_NUM_TOTAL', 'LOAN_NUM_CLOSED', 'TARGET']\n",
    "df = df[new_order]\n",
    "df"
   ],
   "metadata": {
    "colab": {
     "base_uri": "https://localhost:8080/",
     "height": 423
    },
    "collapsed": true,
    "id": "gQjjjfixfCg1",
    "outputId": "9724498f-4169-4406-91f5-dc574495fb87"
   },
   "execution_count": null,
   "outputs": [
    {
     "output_type": "execute_result",
     "data": {
      "text/plain": [
       "       AGREEMENT_RK  AGE  GENDER  CHILD_TOTAL  DEPENDANTS  PERSONAL_INCOME  \\\n",
       "0          60099204   42       1            1           0          25000.0   \n",
       "1          62244665   28       1            1           1          10000.0   \n",
       "2          61050759   64       0            2           0          30000.0   \n",
       "3          62079659   54       1            0           0          25000.0   \n",
       "4          66583553   26       0            1           1          15000.0   \n",
       "...             ...  ...     ...          ...         ...              ...   \n",
       "15518      66751099   26       1            1           1           8000.0   \n",
       "15519      64562377   26       0            0           0          12000.0   \n",
       "15520      62236542   30       1            0           0           9000.0   \n",
       "15521      66739926   25       0            0           0          12000.0   \n",
       "15522      66077514   26       1            0           0          10500.0   \n",
       "\n",
       "       SOCSTATUS_WORK_FL  SOCSTATUS_PENS_FL  LOAN_NUM_TOTAL  LOAN_NUM_CLOSED  \\\n",
       "0                      1                  0               1              0.0   \n",
       "1                      1                  0               1              0.0   \n",
       "2                      1                  1               1              1.0   \n",
       "3                      1                  0               1              0.0   \n",
       "4                      1                  0               2              2.0   \n",
       "...                  ...                ...             ...              ...   \n",
       "15518                  1                  0               2              2.0   \n",
       "15519                  1                  0               1              0.0   \n",
       "15520                  1                  0               1              0.0   \n",
       "15521                  1                  0               1              1.0   \n",
       "15522                  1                  0               1              1.0   \n",
       "\n",
       "       TARGET  \n",
       "0           1  \n",
       "1           0  \n",
       "2           0  \n",
       "3           0  \n",
       "4           0  \n",
       "...       ...  \n",
       "15518       0  \n",
       "15519       0  \n",
       "15520       0  \n",
       "15521       0  \n",
       "15522       0  \n",
       "\n",
       "[15523 rows x 11 columns]"
      ],
      "text/html": [
       "\n",
       "  <div id=\"df-925a952c-790e-447a-af0a-f4225832f60d\" class=\"colab-df-container\">\n",
       "    <div>\n",
       "<style scoped>\n",
       "    .dataframe tbody tr th:only-of-type {\n",
       "        vertical-align: middle;\n",
       "    }\n",
       "\n",
       "    .dataframe tbody tr th {\n",
       "        vertical-align: top;\n",
       "    }\n",
       "\n",
       "    .dataframe thead th {\n",
       "        text-align: right;\n",
       "    }\n",
       "</style>\n",
       "<table border=\"1\" class=\"dataframe\">\n",
       "  <thead>\n",
       "    <tr style=\"text-align: right;\">\n",
       "      <th></th>\n",
       "      <th>AGREEMENT_RK</th>\n",
       "      <th>AGE</th>\n",
       "      <th>GENDER</th>\n",
       "      <th>CHILD_TOTAL</th>\n",
       "      <th>DEPENDANTS</th>\n",
       "      <th>PERSONAL_INCOME</th>\n",
       "      <th>SOCSTATUS_WORK_FL</th>\n",
       "      <th>SOCSTATUS_PENS_FL</th>\n",
       "      <th>LOAN_NUM_TOTAL</th>\n",
       "      <th>LOAN_NUM_CLOSED</th>\n",
       "      <th>TARGET</th>\n",
       "    </tr>\n",
       "  </thead>\n",
       "  <tbody>\n",
       "    <tr>\n",
       "      <th>0</th>\n",
       "      <td>60099204</td>\n",
       "      <td>42</td>\n",
       "      <td>1</td>\n",
       "      <td>1</td>\n",
       "      <td>0</td>\n",
       "      <td>25000.0</td>\n",
       "      <td>1</td>\n",
       "      <td>0</td>\n",
       "      <td>1</td>\n",
       "      <td>0.0</td>\n",
       "      <td>1</td>\n",
       "    </tr>\n",
       "    <tr>\n",
       "      <th>1</th>\n",
       "      <td>62244665</td>\n",
       "      <td>28</td>\n",
       "      <td>1</td>\n",
       "      <td>1</td>\n",
       "      <td>1</td>\n",
       "      <td>10000.0</td>\n",
       "      <td>1</td>\n",
       "      <td>0</td>\n",
       "      <td>1</td>\n",
       "      <td>0.0</td>\n",
       "      <td>0</td>\n",
       "    </tr>\n",
       "    <tr>\n",
       "      <th>2</th>\n",
       "      <td>61050759</td>\n",
       "      <td>64</td>\n",
       "      <td>0</td>\n",
       "      <td>2</td>\n",
       "      <td>0</td>\n",
       "      <td>30000.0</td>\n",
       "      <td>1</td>\n",
       "      <td>1</td>\n",
       "      <td>1</td>\n",
       "      <td>1.0</td>\n",
       "      <td>0</td>\n",
       "    </tr>\n",
       "    <tr>\n",
       "      <th>3</th>\n",
       "      <td>62079659</td>\n",
       "      <td>54</td>\n",
       "      <td>1</td>\n",
       "      <td>0</td>\n",
       "      <td>0</td>\n",
       "      <td>25000.0</td>\n",
       "      <td>1</td>\n",
       "      <td>0</td>\n",
       "      <td>1</td>\n",
       "      <td>0.0</td>\n",
       "      <td>0</td>\n",
       "    </tr>\n",
       "    <tr>\n",
       "      <th>4</th>\n",
       "      <td>66583553</td>\n",
       "      <td>26</td>\n",
       "      <td>0</td>\n",
       "      <td>1</td>\n",
       "      <td>1</td>\n",
       "      <td>15000.0</td>\n",
       "      <td>1</td>\n",
       "      <td>0</td>\n",
       "      <td>2</td>\n",
       "      <td>2.0</td>\n",
       "      <td>0</td>\n",
       "    </tr>\n",
       "    <tr>\n",
       "      <th>...</th>\n",
       "      <td>...</td>\n",
       "      <td>...</td>\n",
       "      <td>...</td>\n",
       "      <td>...</td>\n",
       "      <td>...</td>\n",
       "      <td>...</td>\n",
       "      <td>...</td>\n",
       "      <td>...</td>\n",
       "      <td>...</td>\n",
       "      <td>...</td>\n",
       "      <td>...</td>\n",
       "    </tr>\n",
       "    <tr>\n",
       "      <th>15518</th>\n",
       "      <td>66751099</td>\n",
       "      <td>26</td>\n",
       "      <td>1</td>\n",
       "      <td>1</td>\n",
       "      <td>1</td>\n",
       "      <td>8000.0</td>\n",
       "      <td>1</td>\n",
       "      <td>0</td>\n",
       "      <td>2</td>\n",
       "      <td>2.0</td>\n",
       "      <td>0</td>\n",
       "    </tr>\n",
       "    <tr>\n",
       "      <th>15519</th>\n",
       "      <td>64562377</td>\n",
       "      <td>26</td>\n",
       "      <td>0</td>\n",
       "      <td>0</td>\n",
       "      <td>0</td>\n",
       "      <td>12000.0</td>\n",
       "      <td>1</td>\n",
       "      <td>0</td>\n",
       "      <td>1</td>\n",
       "      <td>0.0</td>\n",
       "      <td>0</td>\n",
       "    </tr>\n",
       "    <tr>\n",
       "      <th>15520</th>\n",
       "      <td>62236542</td>\n",
       "      <td>30</td>\n",
       "      <td>1</td>\n",
       "      <td>0</td>\n",
       "      <td>0</td>\n",
       "      <td>9000.0</td>\n",
       "      <td>1</td>\n",
       "      <td>0</td>\n",
       "      <td>1</td>\n",
       "      <td>0.0</td>\n",
       "      <td>0</td>\n",
       "    </tr>\n",
       "    <tr>\n",
       "      <th>15521</th>\n",
       "      <td>66739926</td>\n",
       "      <td>25</td>\n",
       "      <td>0</td>\n",
       "      <td>0</td>\n",
       "      <td>0</td>\n",
       "      <td>12000.0</td>\n",
       "      <td>1</td>\n",
       "      <td>0</td>\n",
       "      <td>1</td>\n",
       "      <td>1.0</td>\n",
       "      <td>0</td>\n",
       "    </tr>\n",
       "    <tr>\n",
       "      <th>15522</th>\n",
       "      <td>66077514</td>\n",
       "      <td>26</td>\n",
       "      <td>1</td>\n",
       "      <td>0</td>\n",
       "      <td>0</td>\n",
       "      <td>10500.0</td>\n",
       "      <td>1</td>\n",
       "      <td>0</td>\n",
       "      <td>1</td>\n",
       "      <td>1.0</td>\n",
       "      <td>0</td>\n",
       "    </tr>\n",
       "  </tbody>\n",
       "</table>\n",
       "<p>15523 rows × 11 columns</p>\n",
       "</div>\n",
       "    <div class=\"colab-df-buttons\">\n",
       "\n",
       "  <div class=\"colab-df-container\">\n",
       "    <button class=\"colab-df-convert\" onclick=\"convertToInteractive('df-925a952c-790e-447a-af0a-f4225832f60d')\"\n",
       "            title=\"Convert this dataframe to an interactive table.\"\n",
       "            style=\"display:none;\">\n",
       "\n",
       "  <svg xmlns=\"http://www.w3.org/2000/svg\" height=\"24px\" viewBox=\"0 -960 960 960\">\n",
       "    <path d=\"M120-120v-720h720v720H120Zm60-500h600v-160H180v160Zm220 220h160v-160H400v160Zm0 220h160v-160H400v160ZM180-400h160v-160H180v160Zm440 0h160v-160H620v160ZM180-180h160v-160H180v160Zm440 0h160v-160H620v160Z\"/>\n",
       "  </svg>\n",
       "    </button>\n",
       "\n",
       "  <style>\n",
       "    .colab-df-container {\n",
       "      display:flex;\n",
       "      gap: 12px;\n",
       "    }\n",
       "\n",
       "    .colab-df-convert {\n",
       "      background-color: #E8F0FE;\n",
       "      border: none;\n",
       "      border-radius: 50%;\n",
       "      cursor: pointer;\n",
       "      display: none;\n",
       "      fill: #1967D2;\n",
       "      height: 32px;\n",
       "      padding: 0 0 0 0;\n",
       "      width: 32px;\n",
       "    }\n",
       "\n",
       "    .colab-df-convert:hover {\n",
       "      background-color: #E2EBFA;\n",
       "      box-shadow: 0px 1px 2px rgba(60, 64, 67, 0.3), 0px 1px 3px 1px rgba(60, 64, 67, 0.15);\n",
       "      fill: #174EA6;\n",
       "    }\n",
       "\n",
       "    .colab-df-buttons div {\n",
       "      margin-bottom: 4px;\n",
       "    }\n",
       "\n",
       "    [theme=dark] .colab-df-convert {\n",
       "      background-color: #3B4455;\n",
       "      fill: #D2E3FC;\n",
       "    }\n",
       "\n",
       "    [theme=dark] .colab-df-convert:hover {\n",
       "      background-color: #434B5C;\n",
       "      box-shadow: 0px 1px 3px 1px rgba(0, 0, 0, 0.15);\n",
       "      filter: drop-shadow(0px 1px 2px rgba(0, 0, 0, 0.3));\n",
       "      fill: #FFFFFF;\n",
       "    }\n",
       "  </style>\n",
       "\n",
       "    <script>\n",
       "      const buttonEl =\n",
       "        document.querySelector('#df-925a952c-790e-447a-af0a-f4225832f60d button.colab-df-convert');\n",
       "      buttonEl.style.display =\n",
       "        google.colab.kernel.accessAllowed ? 'block' : 'none';\n",
       "\n",
       "      async function convertToInteractive(key) {\n",
       "        const element = document.querySelector('#df-925a952c-790e-447a-af0a-f4225832f60d');\n",
       "        const dataTable =\n",
       "          await google.colab.kernel.invokeFunction('convertToInteractive',\n",
       "                                                    [key], {});\n",
       "        if (!dataTable) return;\n",
       "\n",
       "        const docLinkHtml = 'Like what you see? Visit the ' +\n",
       "          '<a target=\"_blank\" href=https://colab.research.google.com/notebooks/data_table.ipynb>data table notebook</a>'\n",
       "          + ' to learn more about interactive tables.';\n",
       "        element.innerHTML = '';\n",
       "        dataTable['output_type'] = 'display_data';\n",
       "        await google.colab.output.renderOutput(dataTable, element);\n",
       "        const docLink = document.createElement('div');\n",
       "        docLink.innerHTML = docLinkHtml;\n",
       "        element.appendChild(docLink);\n",
       "      }\n",
       "    </script>\n",
       "  </div>\n",
       "\n",
       "\n",
       "<div id=\"df-74144095-14c3-4e04-bbfd-3cd85b712501\">\n",
       "  <button class=\"colab-df-quickchart\" onclick=\"quickchart('df-74144095-14c3-4e04-bbfd-3cd85b712501')\"\n",
       "            title=\"Suggest charts\"\n",
       "            style=\"display:none;\">\n",
       "\n",
       "<svg xmlns=\"http://www.w3.org/2000/svg\" height=\"24px\"viewBox=\"0 0 24 24\"\n",
       "     width=\"24px\">\n",
       "    <g>\n",
       "        <path d=\"M19 3H5c-1.1 0-2 .9-2 2v14c0 1.1.9 2 2 2h14c1.1 0 2-.9 2-2V5c0-1.1-.9-2-2-2zM9 17H7v-7h2v7zm4 0h-2V7h2v10zm4 0h-2v-4h2v4z\"/>\n",
       "    </g>\n",
       "</svg>\n",
       "  </button>\n",
       "\n",
       "<style>\n",
       "  .colab-df-quickchart {\n",
       "      --bg-color: #E8F0FE;\n",
       "      --fill-color: #1967D2;\n",
       "      --hover-bg-color: #E2EBFA;\n",
       "      --hover-fill-color: #174EA6;\n",
       "      --disabled-fill-color: #AAA;\n",
       "      --disabled-bg-color: #DDD;\n",
       "  }\n",
       "\n",
       "  [theme=dark] .colab-df-quickchart {\n",
       "      --bg-color: #3B4455;\n",
       "      --fill-color: #D2E3FC;\n",
       "      --hover-bg-color: #434B5C;\n",
       "      --hover-fill-color: #FFFFFF;\n",
       "      --disabled-bg-color: #3B4455;\n",
       "      --disabled-fill-color: #666;\n",
       "  }\n",
       "\n",
       "  .colab-df-quickchart {\n",
       "    background-color: var(--bg-color);\n",
       "    border: none;\n",
       "    border-radius: 50%;\n",
       "    cursor: pointer;\n",
       "    display: none;\n",
       "    fill: var(--fill-color);\n",
       "    height: 32px;\n",
       "    padding: 0;\n",
       "    width: 32px;\n",
       "  }\n",
       "\n",
       "  .colab-df-quickchart:hover {\n",
       "    background-color: var(--hover-bg-color);\n",
       "    box-shadow: 0 1px 2px rgba(60, 64, 67, 0.3), 0 1px 3px 1px rgba(60, 64, 67, 0.15);\n",
       "    fill: var(--button-hover-fill-color);\n",
       "  }\n",
       "\n",
       "  .colab-df-quickchart-complete:disabled,\n",
       "  .colab-df-quickchart-complete:disabled:hover {\n",
       "    background-color: var(--disabled-bg-color);\n",
       "    fill: var(--disabled-fill-color);\n",
       "    box-shadow: none;\n",
       "  }\n",
       "\n",
       "  .colab-df-spinner {\n",
       "    border: 2px solid var(--fill-color);\n",
       "    border-color: transparent;\n",
       "    border-bottom-color: var(--fill-color);\n",
       "    animation:\n",
       "      spin 1s steps(1) infinite;\n",
       "  }\n",
       "\n",
       "  @keyframes spin {\n",
       "    0% {\n",
       "      border-color: transparent;\n",
       "      border-bottom-color: var(--fill-color);\n",
       "      border-left-color: var(--fill-color);\n",
       "    }\n",
       "    20% {\n",
       "      border-color: transparent;\n",
       "      border-left-color: var(--fill-color);\n",
       "      border-top-color: var(--fill-color);\n",
       "    }\n",
       "    30% {\n",
       "      border-color: transparent;\n",
       "      border-left-color: var(--fill-color);\n",
       "      border-top-color: var(--fill-color);\n",
       "      border-right-color: var(--fill-color);\n",
       "    }\n",
       "    40% {\n",
       "      border-color: transparent;\n",
       "      border-right-color: var(--fill-color);\n",
       "      border-top-color: var(--fill-color);\n",
       "    }\n",
       "    60% {\n",
       "      border-color: transparent;\n",
       "      border-right-color: var(--fill-color);\n",
       "    }\n",
       "    80% {\n",
       "      border-color: transparent;\n",
       "      border-right-color: var(--fill-color);\n",
       "      border-bottom-color: var(--fill-color);\n",
       "    }\n",
       "    90% {\n",
       "      border-color: transparent;\n",
       "      border-bottom-color: var(--fill-color);\n",
       "    }\n",
       "  }\n",
       "</style>\n",
       "\n",
       "  <script>\n",
       "    async function quickchart(key) {\n",
       "      const quickchartButtonEl =\n",
       "        document.querySelector('#' + key + ' button');\n",
       "      quickchartButtonEl.disabled = true;  // To prevent multiple clicks.\n",
       "      quickchartButtonEl.classList.add('colab-df-spinner');\n",
       "      try {\n",
       "        const charts = await google.colab.kernel.invokeFunction(\n",
       "            'suggestCharts', [key], {});\n",
       "      } catch (error) {\n",
       "        console.error('Error during call to suggestCharts:', error);\n",
       "      }\n",
       "      quickchartButtonEl.classList.remove('colab-df-spinner');\n",
       "      quickchartButtonEl.classList.add('colab-df-quickchart-complete');\n",
       "    }\n",
       "    (() => {\n",
       "      let quickchartButtonEl =\n",
       "        document.querySelector('#df-74144095-14c3-4e04-bbfd-3cd85b712501 button');\n",
       "      quickchartButtonEl.style.display =\n",
       "        google.colab.kernel.accessAllowed ? 'block' : 'none';\n",
       "    })();\n",
       "  </script>\n",
       "</div>\n",
       "    </div>\n",
       "  </div>\n"
      ],
      "application/vnd.google.colaboratory.intrinsic+json": {
       "type": "dataframe",
       "variable_name": "df",
       "summary": "{\n  \"name\": \"df\",\n  \"rows\": 15523,\n  \"fields\": [\n    {\n      \"column\": \"AGREEMENT_RK\",\n      \"properties\": {\n        \"dtype\": \"number\",\n        \"std\": 4569482,\n        \"min\": 59910150,\n        \"max\": 75292242,\n        \"num_unique_values\": 15223,\n        \"samples\": [\n          61539225,\n          61309987,\n          62245146\n        ],\n        \"semantic_type\": \"\",\n        \"description\": \"\"\n      }\n    },\n    {\n      \"column\": \"AGE\",\n      \"properties\": {\n        \"dtype\": \"number\",\n        \"std\": 11,\n        \"min\": 21,\n        \"max\": 67,\n        \"num_unique_values\": 47,\n        \"samples\": [\n          55,\n          33,\n          36\n        ],\n        \"semantic_type\": \"\",\n        \"description\": \"\"\n      }\n    },\n    {\n      \"column\": \"GENDER\",\n      \"properties\": {\n        \"dtype\": \"number\",\n        \"std\": 0,\n        \"min\": 0,\n        \"max\": 1,\n        \"num_unique_values\": 2,\n        \"samples\": [\n          0,\n          1\n        ],\n        \"semantic_type\": \"\",\n        \"description\": \"\"\n      }\n    },\n    {\n      \"column\": \"CHILD_TOTAL\",\n      \"properties\": {\n        \"dtype\": \"number\",\n        \"std\": 0,\n        \"min\": 0,\n        \"max\": 10,\n        \"num_unique_values\": 10,\n        \"samples\": [\n          7,\n          2\n        ],\n        \"semantic_type\": \"\",\n        \"description\": \"\"\n      }\n    },\n    {\n      \"column\": \"DEPENDANTS\",\n      \"properties\": {\n        \"dtype\": \"number\",\n        \"std\": 0,\n        \"min\": 0,\n        \"max\": 7,\n        \"num_unique_values\": 8,\n        \"samples\": [\n          1,\n          6\n        ],\n        \"semantic_type\": \"\",\n        \"description\": \"\"\n      }\n    },\n    {\n      \"column\": \"PERSONAL_INCOME\",\n      \"properties\": {\n        \"dtype\": \"number\",\n        \"std\": 8998.618991626856,\n        \"min\": 24.0,\n        \"max\": 250000.0,\n        \"num_unique_values\": 274,\n        \"samples\": [\n          17000.0,\n          42000.0\n        ],\n        \"semantic_type\": \"\",\n        \"description\": \"\"\n      }\n    },\n    {\n      \"column\": \"SOCSTATUS_WORK_FL\",\n      \"properties\": {\n        \"dtype\": \"number\",\n        \"std\": 0,\n        \"min\": 0,\n        \"max\": 1,\n        \"num_unique_values\": 2,\n        \"samples\": [\n          0,\n          1\n        ],\n        \"semantic_type\": \"\",\n        \"description\": \"\"\n      }\n    },\n    {\n      \"column\": \"SOCSTATUS_PENS_FL\",\n      \"properties\": {\n        \"dtype\": \"number\",\n        \"std\": 0,\n        \"min\": 0,\n        \"max\": 1,\n        \"num_unique_values\": 2,\n        \"samples\": [\n          1,\n          0\n        ],\n        \"semantic_type\": \"\",\n        \"description\": \"\"\n      }\n    },\n    {\n      \"column\": \"LOAN_NUM_TOTAL\",\n      \"properties\": {\n        \"dtype\": \"number\",\n        \"std\": 0,\n        \"min\": 1,\n        \"max\": 11,\n        \"num_unique_values\": 9,\n        \"samples\": [\n          8,\n          2\n        ],\n        \"semantic_type\": \"\",\n        \"description\": \"\"\n      }\n    },\n    {\n      \"column\": \"LOAN_NUM_CLOSED\",\n      \"properties\": {\n        \"dtype\": \"number\",\n        \"std\": 0.9892525163293499,\n        \"min\": 0.0,\n        \"max\": 11.0,\n        \"num_unique_values\": 10,\n        \"samples\": [\n          8.0,\n          1.0\n        ],\n        \"semantic_type\": \"\",\n        \"description\": \"\"\n      }\n    },\n    {\n      \"column\": \"TARGET\",\n      \"properties\": {\n        \"dtype\": \"number\",\n        \"std\": 0,\n        \"min\": 0,\n        \"max\": 1,\n        \"num_unique_values\": 2,\n        \"samples\": [\n          0,\n          1\n        ],\n        \"semantic_type\": \"\",\n        \"description\": \"\"\n      }\n    }\n  ]\n}"
      }
     },
     "metadata": {},
     "execution_count": 139
    }
   ]
  },
  {
   "cell_type": "code",
   "source": [
    "df.isnull().sum()"
   ],
   "metadata": {
    "colab": {
     "base_uri": "https://localhost:8080/",
     "height": 429
    },
    "id": "Vt6oF-oYgDxA",
    "outputId": "53cc4149-5ca7-4792-ffd2-30d6257a829d",
    "collapsed": true
   },
   "execution_count": null,
   "outputs": [
    {
     "output_type": "execute_result",
     "data": {
      "text/plain": [
       "AGREEMENT_RK         0\n",
       "AGE                  0\n",
       "GENDER               0\n",
       "CHILD_TOTAL          0\n",
       "DEPENDANTS           0\n",
       "PERSONAL_INCOME      0\n",
       "SOCSTATUS_WORK_FL    0\n",
       "SOCSTATUS_PENS_FL    0\n",
       "LOAN_NUM_TOTAL       0\n",
       "LOAN_NUM_CLOSED      0\n",
       "TARGET               0\n",
       "dtype: int64"
      ],
      "text/html": [
       "<div>\n",
       "<style scoped>\n",
       "    .dataframe tbody tr th:only-of-type {\n",
       "        vertical-align: middle;\n",
       "    }\n",
       "\n",
       "    .dataframe tbody tr th {\n",
       "        vertical-align: top;\n",
       "    }\n",
       "\n",
       "    .dataframe thead th {\n",
       "        text-align: right;\n",
       "    }\n",
       "</style>\n",
       "<table border=\"1\" class=\"dataframe\">\n",
       "  <thead>\n",
       "    <tr style=\"text-align: right;\">\n",
       "      <th></th>\n",
       "      <th>0</th>\n",
       "    </tr>\n",
       "  </thead>\n",
       "  <tbody>\n",
       "    <tr>\n",
       "      <th>AGREEMENT_RK</th>\n",
       "      <td>0</td>\n",
       "    </tr>\n",
       "    <tr>\n",
       "      <th>AGE</th>\n",
       "      <td>0</td>\n",
       "    </tr>\n",
       "    <tr>\n",
       "      <th>GENDER</th>\n",
       "      <td>0</td>\n",
       "    </tr>\n",
       "    <tr>\n",
       "      <th>CHILD_TOTAL</th>\n",
       "      <td>0</td>\n",
       "    </tr>\n",
       "    <tr>\n",
       "      <th>DEPENDANTS</th>\n",
       "      <td>0</td>\n",
       "    </tr>\n",
       "    <tr>\n",
       "      <th>PERSONAL_INCOME</th>\n",
       "      <td>0</td>\n",
       "    </tr>\n",
       "    <tr>\n",
       "      <th>SOCSTATUS_WORK_FL</th>\n",
       "      <td>0</td>\n",
       "    </tr>\n",
       "    <tr>\n",
       "      <th>SOCSTATUS_PENS_FL</th>\n",
       "      <td>0</td>\n",
       "    </tr>\n",
       "    <tr>\n",
       "      <th>LOAN_NUM_TOTAL</th>\n",
       "      <td>0</td>\n",
       "    </tr>\n",
       "    <tr>\n",
       "      <th>LOAN_NUM_CLOSED</th>\n",
       "      <td>0</td>\n",
       "    </tr>\n",
       "    <tr>\n",
       "      <th>TARGET</th>\n",
       "      <td>0</td>\n",
       "    </tr>\n",
       "  </tbody>\n",
       "</table>\n",
       "</div><br><label><b>dtype:</b> int64</label>"
      ]
     },
     "metadata": {},
     "execution_count": 140
    }
   ]
  },
  {
   "cell_type": "markdown",
   "source": [
    "Количество дубликатов в датасете"
   ],
   "metadata": {
    "id": "L-vgEMbdQ8TL"
   }
  },
  {
   "cell_type": "code",
   "source": [
    "num_duplicates = df.duplicated().sum()\n",
    "print(num_duplicates)\n"
   ],
   "metadata": {
    "colab": {
     "base_uri": "https://localhost:8080/"
    },
    "id": "v70LuJ-4QtnH",
    "outputId": "7540f6b0-255a-4b5a-f53e-025aa6d2d1da"
   },
   "execution_count": null,
   "outputs": [
    {
     "output_type": "stream",
     "name": "stdout",
     "text": [
      "300\n"
     ]
    }
   ]
  },
  {
   "cell_type": "code",
   "source": [
    "df = df.drop_duplicates()\n",
    "df"
   ],
   "metadata": {
    "colab": {
     "base_uri": "https://localhost:8080/",
     "height": 423
    },
    "id": "ND5oqokbghML",
    "outputId": "7afaa4f9-bdc0-4177-d2b6-a10ad428aee4",
    "collapsed": true
   },
   "execution_count": null,
   "outputs": [
    {
     "output_type": "execute_result",
     "data": {
      "text/plain": [
       "       AGREEMENT_RK  AGE  GENDER  CHILD_TOTAL  DEPENDANTS  PERSONAL_INCOME  \\\n",
       "0          60099204   42       1            1           0          25000.0   \n",
       "1          62244665   28       1            1           1          10000.0   \n",
       "2          61050759   64       0            2           0          30000.0   \n",
       "3          62079659   54       1            0           0          25000.0   \n",
       "4          66583553   26       0            1           1          15000.0   \n",
       "...             ...  ...     ...          ...         ...              ...   \n",
       "15518      66751099   26       1            1           1           8000.0   \n",
       "15519      64562377   26       0            0           0          12000.0   \n",
       "15520      62236542   30       1            0           0           9000.0   \n",
       "15521      66739926   25       0            0           0          12000.0   \n",
       "15522      66077514   26       1            0           0          10500.0   \n",
       "\n",
       "       SOCSTATUS_WORK_FL  SOCSTATUS_PENS_FL  LOAN_NUM_TOTAL  LOAN_NUM_CLOSED  \\\n",
       "0                      1                  0               1              0.0   \n",
       "1                      1                  0               1              0.0   \n",
       "2                      1                  1               1              1.0   \n",
       "3                      1                  0               1              0.0   \n",
       "4                      1                  0               2              2.0   \n",
       "...                  ...                ...             ...              ...   \n",
       "15518                  1                  0               2              2.0   \n",
       "15519                  1                  0               1              0.0   \n",
       "15520                  1                  0               1              0.0   \n",
       "15521                  1                  0               1              1.0   \n",
       "15522                  1                  0               1              1.0   \n",
       "\n",
       "       TARGET  \n",
       "0           1  \n",
       "1           0  \n",
       "2           0  \n",
       "3           0  \n",
       "4           0  \n",
       "...       ...  \n",
       "15518       0  \n",
       "15519       0  \n",
       "15520       0  \n",
       "15521       0  \n",
       "15522       0  \n",
       "\n",
       "[15223 rows x 11 columns]"
      ],
      "text/html": [
       "\n",
       "  <div id=\"df-15012299-ee2c-4815-8957-eb8f7b3ae3f5\" class=\"colab-df-container\">\n",
       "    <div>\n",
       "<style scoped>\n",
       "    .dataframe tbody tr th:only-of-type {\n",
       "        vertical-align: middle;\n",
       "    }\n",
       "\n",
       "    .dataframe tbody tr th {\n",
       "        vertical-align: top;\n",
       "    }\n",
       "\n",
       "    .dataframe thead th {\n",
       "        text-align: right;\n",
       "    }\n",
       "</style>\n",
       "<table border=\"1\" class=\"dataframe\">\n",
       "  <thead>\n",
       "    <tr style=\"text-align: right;\">\n",
       "      <th></th>\n",
       "      <th>AGREEMENT_RK</th>\n",
       "      <th>AGE</th>\n",
       "      <th>GENDER</th>\n",
       "      <th>CHILD_TOTAL</th>\n",
       "      <th>DEPENDANTS</th>\n",
       "      <th>PERSONAL_INCOME</th>\n",
       "      <th>SOCSTATUS_WORK_FL</th>\n",
       "      <th>SOCSTATUS_PENS_FL</th>\n",
       "      <th>LOAN_NUM_TOTAL</th>\n",
       "      <th>LOAN_NUM_CLOSED</th>\n",
       "      <th>TARGET</th>\n",
       "    </tr>\n",
       "  </thead>\n",
       "  <tbody>\n",
       "    <tr>\n",
       "      <th>0</th>\n",
       "      <td>60099204</td>\n",
       "      <td>42</td>\n",
       "      <td>1</td>\n",
       "      <td>1</td>\n",
       "      <td>0</td>\n",
       "      <td>25000.0</td>\n",
       "      <td>1</td>\n",
       "      <td>0</td>\n",
       "      <td>1</td>\n",
       "      <td>0.0</td>\n",
       "      <td>1</td>\n",
       "    </tr>\n",
       "    <tr>\n",
       "      <th>1</th>\n",
       "      <td>62244665</td>\n",
       "      <td>28</td>\n",
       "      <td>1</td>\n",
       "      <td>1</td>\n",
       "      <td>1</td>\n",
       "      <td>10000.0</td>\n",
       "      <td>1</td>\n",
       "      <td>0</td>\n",
       "      <td>1</td>\n",
       "      <td>0.0</td>\n",
       "      <td>0</td>\n",
       "    </tr>\n",
       "    <tr>\n",
       "      <th>2</th>\n",
       "      <td>61050759</td>\n",
       "      <td>64</td>\n",
       "      <td>0</td>\n",
       "      <td>2</td>\n",
       "      <td>0</td>\n",
       "      <td>30000.0</td>\n",
       "      <td>1</td>\n",
       "      <td>1</td>\n",
       "      <td>1</td>\n",
       "      <td>1.0</td>\n",
       "      <td>0</td>\n",
       "    </tr>\n",
       "    <tr>\n",
       "      <th>3</th>\n",
       "      <td>62079659</td>\n",
       "      <td>54</td>\n",
       "      <td>1</td>\n",
       "      <td>0</td>\n",
       "      <td>0</td>\n",
       "      <td>25000.0</td>\n",
       "      <td>1</td>\n",
       "      <td>0</td>\n",
       "      <td>1</td>\n",
       "      <td>0.0</td>\n",
       "      <td>0</td>\n",
       "    </tr>\n",
       "    <tr>\n",
       "      <th>4</th>\n",
       "      <td>66583553</td>\n",
       "      <td>26</td>\n",
       "      <td>0</td>\n",
       "      <td>1</td>\n",
       "      <td>1</td>\n",
       "      <td>15000.0</td>\n",
       "      <td>1</td>\n",
       "      <td>0</td>\n",
       "      <td>2</td>\n",
       "      <td>2.0</td>\n",
       "      <td>0</td>\n",
       "    </tr>\n",
       "    <tr>\n",
       "      <th>...</th>\n",
       "      <td>...</td>\n",
       "      <td>...</td>\n",
       "      <td>...</td>\n",
       "      <td>...</td>\n",
       "      <td>...</td>\n",
       "      <td>...</td>\n",
       "      <td>...</td>\n",
       "      <td>...</td>\n",
       "      <td>...</td>\n",
       "      <td>...</td>\n",
       "      <td>...</td>\n",
       "    </tr>\n",
       "    <tr>\n",
       "      <th>15518</th>\n",
       "      <td>66751099</td>\n",
       "      <td>26</td>\n",
       "      <td>1</td>\n",
       "      <td>1</td>\n",
       "      <td>1</td>\n",
       "      <td>8000.0</td>\n",
       "      <td>1</td>\n",
       "      <td>0</td>\n",
       "      <td>2</td>\n",
       "      <td>2.0</td>\n",
       "      <td>0</td>\n",
       "    </tr>\n",
       "    <tr>\n",
       "      <th>15519</th>\n",
       "      <td>64562377</td>\n",
       "      <td>26</td>\n",
       "      <td>0</td>\n",
       "      <td>0</td>\n",
       "      <td>0</td>\n",
       "      <td>12000.0</td>\n",
       "      <td>1</td>\n",
       "      <td>0</td>\n",
       "      <td>1</td>\n",
       "      <td>0.0</td>\n",
       "      <td>0</td>\n",
       "    </tr>\n",
       "    <tr>\n",
       "      <th>15520</th>\n",
       "      <td>62236542</td>\n",
       "      <td>30</td>\n",
       "      <td>1</td>\n",
       "      <td>0</td>\n",
       "      <td>0</td>\n",
       "      <td>9000.0</td>\n",
       "      <td>1</td>\n",
       "      <td>0</td>\n",
       "      <td>1</td>\n",
       "      <td>0.0</td>\n",
       "      <td>0</td>\n",
       "    </tr>\n",
       "    <tr>\n",
       "      <th>15521</th>\n",
       "      <td>66739926</td>\n",
       "      <td>25</td>\n",
       "      <td>0</td>\n",
       "      <td>0</td>\n",
       "      <td>0</td>\n",
       "      <td>12000.0</td>\n",
       "      <td>1</td>\n",
       "      <td>0</td>\n",
       "      <td>1</td>\n",
       "      <td>1.0</td>\n",
       "      <td>0</td>\n",
       "    </tr>\n",
       "    <tr>\n",
       "      <th>15522</th>\n",
       "      <td>66077514</td>\n",
       "      <td>26</td>\n",
       "      <td>1</td>\n",
       "      <td>0</td>\n",
       "      <td>0</td>\n",
       "      <td>10500.0</td>\n",
       "      <td>1</td>\n",
       "      <td>0</td>\n",
       "      <td>1</td>\n",
       "      <td>1.0</td>\n",
       "      <td>0</td>\n",
       "    </tr>\n",
       "  </tbody>\n",
       "</table>\n",
       "<p>15223 rows × 11 columns</p>\n",
       "</div>\n",
       "    <div class=\"colab-df-buttons\">\n",
       "\n",
       "  <div class=\"colab-df-container\">\n",
       "    <button class=\"colab-df-convert\" onclick=\"convertToInteractive('df-15012299-ee2c-4815-8957-eb8f7b3ae3f5')\"\n",
       "            title=\"Convert this dataframe to an interactive table.\"\n",
       "            style=\"display:none;\">\n",
       "\n",
       "  <svg xmlns=\"http://www.w3.org/2000/svg\" height=\"24px\" viewBox=\"0 -960 960 960\">\n",
       "    <path d=\"M120-120v-720h720v720H120Zm60-500h600v-160H180v160Zm220 220h160v-160H400v160Zm0 220h160v-160H400v160ZM180-400h160v-160H180v160Zm440 0h160v-160H620v160ZM180-180h160v-160H180v160Zm440 0h160v-160H620v160Z\"/>\n",
       "  </svg>\n",
       "    </button>\n",
       "\n",
       "  <style>\n",
       "    .colab-df-container {\n",
       "      display:flex;\n",
       "      gap: 12px;\n",
       "    }\n",
       "\n",
       "    .colab-df-convert {\n",
       "      background-color: #E8F0FE;\n",
       "      border: none;\n",
       "      border-radius: 50%;\n",
       "      cursor: pointer;\n",
       "      display: none;\n",
       "      fill: #1967D2;\n",
       "      height: 32px;\n",
       "      padding: 0 0 0 0;\n",
       "      width: 32px;\n",
       "    }\n",
       "\n",
       "    .colab-df-convert:hover {\n",
       "      background-color: #E2EBFA;\n",
       "      box-shadow: 0px 1px 2px rgba(60, 64, 67, 0.3), 0px 1px 3px 1px rgba(60, 64, 67, 0.15);\n",
       "      fill: #174EA6;\n",
       "    }\n",
       "\n",
       "    .colab-df-buttons div {\n",
       "      margin-bottom: 4px;\n",
       "    }\n",
       "\n",
       "    [theme=dark] .colab-df-convert {\n",
       "      background-color: #3B4455;\n",
       "      fill: #D2E3FC;\n",
       "    }\n",
       "\n",
       "    [theme=dark] .colab-df-convert:hover {\n",
       "      background-color: #434B5C;\n",
       "      box-shadow: 0px 1px 3px 1px rgba(0, 0, 0, 0.15);\n",
       "      filter: drop-shadow(0px 1px 2px rgba(0, 0, 0, 0.3));\n",
       "      fill: #FFFFFF;\n",
       "    }\n",
       "  </style>\n",
       "\n",
       "    <script>\n",
       "      const buttonEl =\n",
       "        document.querySelector('#df-15012299-ee2c-4815-8957-eb8f7b3ae3f5 button.colab-df-convert');\n",
       "      buttonEl.style.display =\n",
       "        google.colab.kernel.accessAllowed ? 'block' : 'none';\n",
       "\n",
       "      async function convertToInteractive(key) {\n",
       "        const element = document.querySelector('#df-15012299-ee2c-4815-8957-eb8f7b3ae3f5');\n",
       "        const dataTable =\n",
       "          await google.colab.kernel.invokeFunction('convertToInteractive',\n",
       "                                                    [key], {});\n",
       "        if (!dataTable) return;\n",
       "\n",
       "        const docLinkHtml = 'Like what you see? Visit the ' +\n",
       "          '<a target=\"_blank\" href=https://colab.research.google.com/notebooks/data_table.ipynb>data table notebook</a>'\n",
       "          + ' to learn more about interactive tables.';\n",
       "        element.innerHTML = '';\n",
       "        dataTable['output_type'] = 'display_data';\n",
       "        await google.colab.output.renderOutput(dataTable, element);\n",
       "        const docLink = document.createElement('div');\n",
       "        docLink.innerHTML = docLinkHtml;\n",
       "        element.appendChild(docLink);\n",
       "      }\n",
       "    </script>\n",
       "  </div>\n",
       "\n",
       "\n",
       "<div id=\"df-ffc9fe17-7214-4b37-9d4b-5c6bb0bdb917\">\n",
       "  <button class=\"colab-df-quickchart\" onclick=\"quickchart('df-ffc9fe17-7214-4b37-9d4b-5c6bb0bdb917')\"\n",
       "            title=\"Suggest charts\"\n",
       "            style=\"display:none;\">\n",
       "\n",
       "<svg xmlns=\"http://www.w3.org/2000/svg\" height=\"24px\"viewBox=\"0 0 24 24\"\n",
       "     width=\"24px\">\n",
       "    <g>\n",
       "        <path d=\"M19 3H5c-1.1 0-2 .9-2 2v14c0 1.1.9 2 2 2h14c1.1 0 2-.9 2-2V5c0-1.1-.9-2-2-2zM9 17H7v-7h2v7zm4 0h-2V7h2v10zm4 0h-2v-4h2v4z\"/>\n",
       "    </g>\n",
       "</svg>\n",
       "  </button>\n",
       "\n",
       "<style>\n",
       "  .colab-df-quickchart {\n",
       "      --bg-color: #E8F0FE;\n",
       "      --fill-color: #1967D2;\n",
       "      --hover-bg-color: #E2EBFA;\n",
       "      --hover-fill-color: #174EA6;\n",
       "      --disabled-fill-color: #AAA;\n",
       "      --disabled-bg-color: #DDD;\n",
       "  }\n",
       "\n",
       "  [theme=dark] .colab-df-quickchart {\n",
       "      --bg-color: #3B4455;\n",
       "      --fill-color: #D2E3FC;\n",
       "      --hover-bg-color: #434B5C;\n",
       "      --hover-fill-color: #FFFFFF;\n",
       "      --disabled-bg-color: #3B4455;\n",
       "      --disabled-fill-color: #666;\n",
       "  }\n",
       "\n",
       "  .colab-df-quickchart {\n",
       "    background-color: var(--bg-color);\n",
       "    border: none;\n",
       "    border-radius: 50%;\n",
       "    cursor: pointer;\n",
       "    display: none;\n",
       "    fill: var(--fill-color);\n",
       "    height: 32px;\n",
       "    padding: 0;\n",
       "    width: 32px;\n",
       "  }\n",
       "\n",
       "  .colab-df-quickchart:hover {\n",
       "    background-color: var(--hover-bg-color);\n",
       "    box-shadow: 0 1px 2px rgba(60, 64, 67, 0.3), 0 1px 3px 1px rgba(60, 64, 67, 0.15);\n",
       "    fill: var(--button-hover-fill-color);\n",
       "  }\n",
       "\n",
       "  .colab-df-quickchart-complete:disabled,\n",
       "  .colab-df-quickchart-complete:disabled:hover {\n",
       "    background-color: var(--disabled-bg-color);\n",
       "    fill: var(--disabled-fill-color);\n",
       "    box-shadow: none;\n",
       "  }\n",
       "\n",
       "  .colab-df-spinner {\n",
       "    border: 2px solid var(--fill-color);\n",
       "    border-color: transparent;\n",
       "    border-bottom-color: var(--fill-color);\n",
       "    animation:\n",
       "      spin 1s steps(1) infinite;\n",
       "  }\n",
       "\n",
       "  @keyframes spin {\n",
       "    0% {\n",
       "      border-color: transparent;\n",
       "      border-bottom-color: var(--fill-color);\n",
       "      border-left-color: var(--fill-color);\n",
       "    }\n",
       "    20% {\n",
       "      border-color: transparent;\n",
       "      border-left-color: var(--fill-color);\n",
       "      border-top-color: var(--fill-color);\n",
       "    }\n",
       "    30% {\n",
       "      border-color: transparent;\n",
       "      border-left-color: var(--fill-color);\n",
       "      border-top-color: var(--fill-color);\n",
       "      border-right-color: var(--fill-color);\n",
       "    }\n",
       "    40% {\n",
       "      border-color: transparent;\n",
       "      border-right-color: var(--fill-color);\n",
       "      border-top-color: var(--fill-color);\n",
       "    }\n",
       "    60% {\n",
       "      border-color: transparent;\n",
       "      border-right-color: var(--fill-color);\n",
       "    }\n",
       "    80% {\n",
       "      border-color: transparent;\n",
       "      border-right-color: var(--fill-color);\n",
       "      border-bottom-color: var(--fill-color);\n",
       "    }\n",
       "    90% {\n",
       "      border-color: transparent;\n",
       "      border-bottom-color: var(--fill-color);\n",
       "    }\n",
       "  }\n",
       "</style>\n",
       "\n",
       "  <script>\n",
       "    async function quickchart(key) {\n",
       "      const quickchartButtonEl =\n",
       "        document.querySelector('#' + key + ' button');\n",
       "      quickchartButtonEl.disabled = true;  // To prevent multiple clicks.\n",
       "      quickchartButtonEl.classList.add('colab-df-spinner');\n",
       "      try {\n",
       "        const charts = await google.colab.kernel.invokeFunction(\n",
       "            'suggestCharts', [key], {});\n",
       "      } catch (error) {\n",
       "        console.error('Error during call to suggestCharts:', error);\n",
       "      }\n",
       "      quickchartButtonEl.classList.remove('colab-df-spinner');\n",
       "      quickchartButtonEl.classList.add('colab-df-quickchart-complete');\n",
       "    }\n",
       "    (() => {\n",
       "      let quickchartButtonEl =\n",
       "        document.querySelector('#df-ffc9fe17-7214-4b37-9d4b-5c6bb0bdb917 button');\n",
       "      quickchartButtonEl.style.display =\n",
       "        google.colab.kernel.accessAllowed ? 'block' : 'none';\n",
       "    })();\n",
       "  </script>\n",
       "</div>\n",
       "    </div>\n",
       "  </div>\n"
      ],
      "application/vnd.google.colaboratory.intrinsic+json": {
       "type": "dataframe",
       "variable_name": "df",
       "summary": "{\n  \"name\": \"df\",\n  \"rows\": 15223,\n  \"fields\": [\n    {\n      \"column\": \"AGREEMENT_RK\",\n      \"properties\": {\n        \"dtype\": \"number\",\n        \"std\": 4568181,\n        \"min\": 59910150,\n        \"max\": 75292242,\n        \"num_unique_values\": 15223,\n        \"samples\": [\n          61539225,\n          61309987,\n          62245146\n        ],\n        \"semantic_type\": \"\",\n        \"description\": \"\"\n      }\n    },\n    {\n      \"column\": \"AGE\",\n      \"properties\": {\n        \"dtype\": \"number\",\n        \"std\": 11,\n        \"min\": 21,\n        \"max\": 67,\n        \"num_unique_values\": 47,\n        \"samples\": [\n          55,\n          33,\n          36\n        ],\n        \"semantic_type\": \"\",\n        \"description\": \"\"\n      }\n    },\n    {\n      \"column\": \"GENDER\",\n      \"properties\": {\n        \"dtype\": \"number\",\n        \"std\": 0,\n        \"min\": 0,\n        \"max\": 1,\n        \"num_unique_values\": 2,\n        \"samples\": [\n          0,\n          1\n        ],\n        \"semantic_type\": \"\",\n        \"description\": \"\"\n      }\n    },\n    {\n      \"column\": \"CHILD_TOTAL\",\n      \"properties\": {\n        \"dtype\": \"number\",\n        \"std\": 0,\n        \"min\": 0,\n        \"max\": 10,\n        \"num_unique_values\": 10,\n        \"samples\": [\n          7,\n          2\n        ],\n        \"semantic_type\": \"\",\n        \"description\": \"\"\n      }\n    },\n    {\n      \"column\": \"DEPENDANTS\",\n      \"properties\": {\n        \"dtype\": \"number\",\n        \"std\": 0,\n        \"min\": 0,\n        \"max\": 7,\n        \"num_unique_values\": 8,\n        \"samples\": [\n          1,\n          6\n        ],\n        \"semantic_type\": \"\",\n        \"description\": \"\"\n      }\n    },\n    {\n      \"column\": \"PERSONAL_INCOME\",\n      \"properties\": {\n        \"dtype\": \"number\",\n        \"std\": 9015.467616529038,\n        \"min\": 24.0,\n        \"max\": 250000.0,\n        \"num_unique_values\": 274,\n        \"samples\": [\n          17000.0,\n          42000.0\n        ],\n        \"semantic_type\": \"\",\n        \"description\": \"\"\n      }\n    },\n    {\n      \"column\": \"SOCSTATUS_WORK_FL\",\n      \"properties\": {\n        \"dtype\": \"number\",\n        \"std\": 0,\n        \"min\": 0,\n        \"max\": 1,\n        \"num_unique_values\": 2,\n        \"samples\": [\n          0,\n          1\n        ],\n        \"semantic_type\": \"\",\n        \"description\": \"\"\n      }\n    },\n    {\n      \"column\": \"SOCSTATUS_PENS_FL\",\n      \"properties\": {\n        \"dtype\": \"number\",\n        \"std\": 0,\n        \"min\": 0,\n        \"max\": 1,\n        \"num_unique_values\": 2,\n        \"samples\": [\n          1,\n          0\n        ],\n        \"semantic_type\": \"\",\n        \"description\": \"\"\n      }\n    },\n    {\n      \"column\": \"LOAN_NUM_TOTAL\",\n      \"properties\": {\n        \"dtype\": \"number\",\n        \"std\": 0,\n        \"min\": 1,\n        \"max\": 11,\n        \"num_unique_values\": 9,\n        \"samples\": [\n          8,\n          2\n        ],\n        \"semantic_type\": \"\",\n        \"description\": \"\"\n      }\n    },\n    {\n      \"column\": \"LOAN_NUM_CLOSED\",\n      \"properties\": {\n        \"dtype\": \"number\",\n        \"std\": 0.988499205604247,\n        \"min\": 0.0,\n        \"max\": 11.0,\n        \"num_unique_values\": 10,\n        \"samples\": [\n          8.0,\n          1.0\n        ],\n        \"semantic_type\": \"\",\n        \"description\": \"\"\n      }\n    },\n    {\n      \"column\": \"TARGET\",\n      \"properties\": {\n        \"dtype\": \"number\",\n        \"std\": 0,\n        \"min\": 0,\n        \"max\": 1,\n        \"num_unique_values\": 2,\n        \"samples\": [\n          0,\n          1\n        ],\n        \"semantic_type\": \"\",\n        \"description\": \"\"\n      }\n    }\n  ]\n}"
      }
     },
     "metadata": {},
     "execution_count": 142
    }
   ]
  },
  {
   "cell_type": "markdown",
   "source": [
    "Адекватные параметры для клиентов:\n",
    "\n",
    "  1) Персональный доход более 5000\n",
    "\n",
    "  2) Количество закрытых ссуд не может быть меньше чем общее количество ссуд"
   ],
   "metadata": {
    "id": "v6QpNPWiRATy"
   }
  },
  {
   "cell_type": "code",
   "source": [
    "df = df.loc[df.PERSONAL_INCOME >= 5000]\n",
    "\n",
    "df = df.loc[df.LOAN_NUM_TOTAL >= df.LOAN_NUM_CLOSED]"
   ],
   "metadata": {
    "id": "3EOlG9-E8smF"
   },
   "execution_count": null,
   "outputs": []
  },
  {
   "cell_type": "markdown",
   "source": [
    "# Анализ данных\n"
   ],
   "metadata": {
    "id": "HDVkHDi2iOje"
   }
  },
  {
   "cell_type": "markdown",
   "source": [
    "AGREEMENT_RK — уникальный идентификатор объекта в выборке\n",
    "\n",
    "AGE — возраст клиента\n",
    "\n",
    "GENDER — пол клиента (1 — мужчина, 0 — женщина)\n",
    "\n",
    "CHILD_TOTAL — количество детей клиента\n",
    "\n",
    "DEPENDANTS — количество иждивенцев клиента\n",
    "\n",
    "PERSONAL_INCOME — личный доход клиента (в рублях)\n",
    "\n",
    "SOCSTATUS_WORK_FL — социальный статус клиента относительно работы (1 — работает, 0 — не работает)\n",
    "\n",
    "SOCSTATUS_PENS_FL — социальный статус клиента относительно пенсии (1 — пенсионер, 0 — не пенсионер)\n",
    "\n",
    "LOAN_NUM_TOTAL — количество ссуд клиента;\n",
    "\n",
    "LOAN_NUM_CLOSED — количество погашенных ссуд клиента.\n",
    "\n",
    "TARGET — целевая переменная: отклик на маркетинговую кампанию (1 — отклик был зарегистрирован, 0 — отклика не было).\n",
    "\n"
   ],
   "metadata": {
    "id": "sMmFzu_Xglf7"
   }
  },
  {
   "cell_type": "code",
   "source": [
    "df.info()"
   ],
   "metadata": {
    "id": "GtoNysysiRxw",
    "colab": {
     "base_uri": "https://localhost:8080/"
    },
    "collapsed": true,
    "outputId": "706b79d1-f270-42a8-a83b-642867fab54d"
   },
   "execution_count": null,
   "outputs": [
    {
     "output_type": "stream",
     "name": "stdout",
     "text": [
      "<class 'pandas.core.frame.DataFrame'>\n",
      "Index: 14886 entries, 0 to 15522\n",
      "Data columns (total 11 columns):\n",
      " #   Column             Non-Null Count  Dtype  \n",
      "---  ------             --------------  -----  \n",
      " 0   AGREEMENT_RK       14886 non-null  int64  \n",
      " 1   AGE                14886 non-null  int64  \n",
      " 2   GENDER             14886 non-null  int64  \n",
      " 3   CHILD_TOTAL        14886 non-null  int64  \n",
      " 4   DEPENDANTS         14886 non-null  int64  \n",
      " 5   PERSONAL_INCOME    14886 non-null  float64\n",
      " 6   SOCSTATUS_WORK_FL  14886 non-null  int64  \n",
      " 7   SOCSTATUS_PENS_FL  14886 non-null  int64  \n",
      " 8   LOAN_NUM_TOTAL     14886 non-null  int64  \n",
      " 9   LOAN_NUM_CLOSED    14886 non-null  float64\n",
      " 10  TARGET             14886 non-null  int64  \n",
      "dtypes: float64(2), int64(9)\n",
      "memory usage: 1.4 MB\n"
     ]
    }
   ]
  },
  {
   "cell_type": "code",
   "source": [
    "df.hist(bins=25, figsize= (10,10))"
   ],
   "metadata": {
    "colab": {
     "base_uri": "https://localhost:8080/"
    },
    "collapsed": true,
    "id": "KP1ggz-FzuGN",
    "outputId": "79bcae90-6521-48ef-9c81-6c6835f7ba0e"
   },
   "execution_count": null,
   "outputs": [
    {
     "output_type": "execute_result",
     "data": {
      "text/plain": [
       "array([[<Axes: title={'center': 'AGREEMENT_RK'}>,\n",
       "        <Axes: title={'center': 'AGE'}>,\n",
       "        <Axes: title={'center': 'GENDER'}>],\n",
       "       [<Axes: title={'center': 'CHILD_TOTAL'}>,\n",
       "        <Axes: title={'center': 'DEPENDANTS'}>,\n",
       "        <Axes: title={'center': 'PERSONAL_INCOME'}>],\n",
       "       [<Axes: title={'center': 'SOCSTATUS_WORK_FL'}>,\n",
       "        <Axes: title={'center': 'SOCSTATUS_PENS_FL'}>,\n",
       "        <Axes: title={'center': 'LOAN_NUM_TOTAL'}>],\n",
       "       [<Axes: title={'center': 'LOAN_NUM_CLOSED'}>,\n",
       "        <Axes: title={'center': 'TARGET'}>, <Axes: >]], dtype=object)"
      ]
     },
     "metadata": {},
     "execution_count": 145
    },
    {
     "output_type": "display_data",
     "data": {
      "text/plain": [
       "<Figure size 1000x1000 with 12 Axes>"
      ],
      "image/png": "[encoded data removed]"
     },
     "metadata": {}
    }
   ]
  },
  {
   "cell_type": "markdown",
   "source": [
    "Числовые характеристики числовых столбцов"
   ],
   "metadata": {
    "id": "zu96HDs2NFFh"
   }
  },
  {
   "cell_type": "code",
   "source": [
    "categorical_columns = ['GENDER', 'SOCSTATUS_WORK_FL', 'SOCSTATUS_PENS_FL', 'TARGET']\n",
    "numerical_stats = df.describe()\n",
    "\n",
    "categorical_stats = df[categorical_columns].describe()"
   ],
   "metadata": {
    "id": "MXqTiy4qOQ7C"
   },
   "execution_count": null,
   "outputs": []
  },
  {
   "cell_type": "markdown",
   "source": [
    "Базовые характеристики параметров"
   ],
   "metadata": {
    "id": "msHH2EFNO336"
   }
  },
  {
   "cell_type": "code",
   "source": [
    "print(\"Числовые характеристики:\")\n",
    "print(numerical_stats)\n",
    "\n",
    "print(\"\\nКатегориальные характеристики:\")\n",
    "print(categorical_stats)"
   ],
   "metadata": {
    "colab": {
     "base_uri": "https://localhost:8080/"
    },
    "collapsed": true,
    "id": "sy1PPGP6MFns",
    "outputId": "c0654040-d6e7-4235-de23-d53b5d4a8be6"
   },
   "execution_count": null,
   "outputs": [
    {
     "output_type": "stream",
     "name": "stdout",
     "text": [
      "Числовые характеристики:\n",
      "       AGREEMENT_RK           AGE        GENDER   CHILD_TOTAL    DEPENDANTS  \\\n",
      "count  1.488600e+04  14886.000000  14886.000000  14886.000000  14886.000000   \n",
      "mean   6.540400e+07     40.292691      0.650074      1.092100      0.647656   \n",
      "std    4.558042e+06     11.550173      0.476962      0.986191      0.812687   \n",
      "min    5.991015e+07     21.000000      0.000000      0.000000      0.000000   \n",
      "25%    6.192373e+07     30.000000      0.000000      0.000000      0.000000   \n",
      "50%    6.437235e+07     39.000000      1.000000      1.000000      0.000000   \n",
      "75%    6.709099e+07     50.000000      1.000000      2.000000      1.000000   \n",
      "max    7.529224e+07     67.000000      1.000000     10.000000      7.000000   \n",
      "\n",
      "       PERSONAL_INCOME  SOCSTATUS_WORK_FL  SOCSTATUS_PENS_FL  LOAN_NUM_TOTAL  \\\n",
      "count     14886.000000       14886.000000       14886.000000    14886.000000   \n",
      "mean      14073.268934           0.916230           0.128712        1.389225   \n",
      "std        8996.481057           0.277052           0.334892        0.796989   \n",
      "min        5000.000000           0.000000           0.000000        1.000000   \n",
      "25%        8500.000000           1.000000           0.000000        1.000000   \n",
      "50%       12000.000000           1.000000           0.000000        1.000000   \n",
      "75%       17000.000000           1.000000           0.000000        2.000000   \n",
      "max      250000.000000           1.000000           1.000000       11.000000   \n",
      "\n",
      "       LOAN_NUM_CLOSED        TARGET  \n",
      "count     14886.000000  14886.000000  \n",
      "mean          0.753191      0.119710  \n",
      "std           0.990218      0.324633  \n",
      "min           0.000000      0.000000  \n",
      "25%           0.000000      0.000000  \n",
      "50%           0.000000      0.000000  \n",
      "75%           1.000000      0.000000  \n",
      "max          11.000000      1.000000  \n",
      "\n",
      "Категориальные характеристики:\n",
      "             GENDER  SOCSTATUS_WORK_FL  SOCSTATUS_PENS_FL        TARGET\n",
      "count  14886.000000       14886.000000       14886.000000  14886.000000\n",
      "mean       0.650074           0.916230           0.128712      0.119710\n",
      "std        0.476962           0.277052           0.334892      0.324633\n",
      "min        0.000000           0.000000           0.000000      0.000000\n",
      "25%        0.000000           1.000000           0.000000      0.000000\n",
      "50%        1.000000           1.000000           0.000000      0.000000\n",
      "75%        1.000000           1.000000           0.000000      0.000000\n",
      "max        1.000000           1.000000           1.000000      1.000000\n"
     ]
    }
   ]
  },
  {
   "cell_type": "markdown",
   "source": [
    "## Однофакторный анализ числовых признаков\n"
   ],
   "metadata": {
    "id": "E0Oxw-qK1HXO"
   }
  },
  {
   "cell_type": "markdown",
   "source": [
    "### Возраст"
   ],
   "metadata": {
    "id": "DCXXMzw01LzX"
   }
  },
  {
   "cell_type": "code",
   "source": [
    "plt.figure(figsize=(7,5))\n",
    "\n",
    "plt.hist(df.AGE, bins=30);"
   ],
   "metadata": {
    "colab": {
     "base_uri": "https://localhost:8080/"
    },
    "id": "3Sujx0BJ1DxX",
    "outputId": "021e6b84-afb3-406e-fa8c-d0db880f01ae"
   },
   "execution_count": null,
   "outputs": [
    {
     "output_type": "display_data",
     "data": {
      "text/plain": [
       "<Figure size 700x500 with 1 Axes>"
      ],
      "image/png": "[encoded data removed]"
     },
     "metadata": {}
    }
   ]
  },
  {
   "cell_type": "markdown",
   "source": [
    "Основное количество людей ,бравших кредиты, старше 30 лет"
   ],
   "metadata": {
    "id": "PVdlLSWT2Yt2"
   }
  },
  {
   "cell_type": "code",
   "source": [
    "len(df[df.AGE > 30])/ len(df)"
   ],
   "metadata": {
    "colab": {
     "base_uri": "https://localhost:8080/"
    },
    "id": "HDlHrr5c1t10",
    "outputId": "e1f0c578-340a-4d44-b86a-1d2ed477b608"
   },
   "execution_count": null,
   "outputs": [
    {
     "output_type": "execute_result",
     "data": {
      "text/plain": [
       "0.7473465000671772"
      ]
     },
     "metadata": {},
     "execution_count": 149
    }
   ]
  },
  {
   "cell_type": "markdown",
   "source": [
    "Средний возраст - 40 лет\n"
   ],
   "metadata": {
    "id": "38uuCqW13Gxs"
   }
  },
  {
   "cell_type": "code",
   "source": [
    "df.AGE.mean()"
   ],
   "metadata": {
    "colab": {
     "base_uri": "https://localhost:8080/"
    },
    "id": "xoVf1uKr2l4f",
    "outputId": "2e22390b-f33b-48d7-c989-6177b6471544"
   },
   "execution_count": null,
   "outputs": [
    {
     "output_type": "execute_result",
     "data": {
      "text/plain": [
       "40.292691119172375"
      ]
     },
     "metadata": {},
     "execution_count": 150
    }
   ]
  },
  {
   "cell_type": "markdown",
   "source": [
    "Наибольший возраст 67 лет, наименьший - 21 год"
   ],
   "metadata": {
    "id": "aFD80vHn3PEd"
   }
  },
  {
   "cell_type": "code",
   "source": [
    "print(df.AGE.max())\n",
    "print(df.AGE.min())"
   ],
   "metadata": {
    "colab": {
     "base_uri": "https://localhost:8080/"
    },
    "id": "NW95WwX73Pyj",
    "outputId": "6658d319-49de-42e9-e43f-4714bb594100"
   },
   "execution_count": null,
   "outputs": [
    {
     "output_type": "stream",
     "name": "stdout",
     "text": [
      "67\n",
      "21\n"
     ]
    }
   ]
  },
  {
   "cell_type": "markdown",
   "source": [
    "По графику можно сказать, что возраст не влияет на то откликнутся ли клиенты.\n"
   ],
   "metadata": {
    "id": "kJeJvaol4LHl"
   }
  },
  {
   "cell_type": "code",
   "source": [
    "plt.figure(figsize=(6,4))\n",
    "\n",
    "plt.scatter(df.AGE, df.TARGET);"
   ],
   "metadata": {
    "colab": {
     "base_uri": "https://localhost:8080/"
    },
    "id": "DTypG_IO4Bl8",
    "outputId": "0543c419-8f44-489a-9c33-8f5ef0acd0b5"
   },
   "execution_count": null,
   "outputs": [
    {
     "output_type": "display_data",
     "data": {
      "text/plain": [
       "<Figure size 600x400 with 1 Axes>"
      ],
      "image/png": "[encoded data removed]"
     },
     "metadata": {}
    }
   ]
  },
  {
   "cell_type": "markdown",
   "source": [
    "Это подтвержается корреляцией"
   ],
   "metadata": {
    "id": "WjQ6PzCy4jGI"
   }
  },
  {
   "cell_type": "code",
   "source": [
    "np.corrcoef(df.AGE, df.TARGET)[0][1]"
   ],
   "metadata": {
    "colab": {
     "base_uri": "https://localhost:8080/"
    },
    "id": "5gVzK5vR4W5f",
    "outputId": "cde0ee1e-19a2-41b4-9991-74cdd3f1f0ce"
   },
   "execution_count": null,
   "outputs": [
    {
     "output_type": "execute_result",
     "data": {
      "text/plain": [
       "-0.1032134226917807"
      ]
     },
     "metadata": {},
     "execution_count": 153
    }
   ]
  },
  {
   "cell_type": "markdown",
   "source": [
    "### Персональный доход\n"
   ],
   "metadata": {
    "id": "9gVTWKyE5aRp"
   }
  },
  {
   "cell_type": "code",
   "source": [
    "plt.figure(figsize=(10,7))\n",
    "\n",
    "plt.hist(df.PERSONAL_INCOME, bins=100);"
   ],
   "metadata": {
    "colab": {
     "base_uri": "https://localhost:8080/"
    },
    "id": "mVJLsekg5jTG",
    "outputId": "909205f1-edcc-4005-b4cc-0cbebfd3aecc"
   },
   "execution_count": null,
   "outputs": [
    {
     "output_type": "display_data",
     "data": {
      "text/plain": [
       "<Figure size 1000x700 with 1 Axes>"
      ],
      "image/png": "[encoded data removed]"
     },
     "metadata": {}
    }
   ]
  },
  {
   "cell_type": "markdown",
   "source": [
    "Средний доход составляет 14073 рублей"
   ],
   "metadata": {
    "id": "2FoTMN7f7g2u"
   }
  },
  {
   "cell_type": "code",
   "source": [
    "df.PERSONAL_INCOME.mean()"
   ],
   "metadata": {
    "colab": {
     "base_uri": "https://localhost:8080/"
    },
    "id": "QbJD2TUm6LI4",
    "outputId": "9f8b4375-1576-40f3-fe77-a78dc10b5d7b"
   },
   "execution_count": null,
   "outputs": [
    {
     "output_type": "execute_result",
     "data": {
      "text/plain": [
       "14073.268933897622"
      ]
     },
     "metadata": {},
     "execution_count": 155
    }
   ]
  },
  {
   "cell_type": "markdown",
   "source": [
    "Наибольший доход - 250000 рублей\n",
    "Наименьший доход - 5000 рублей"
   ],
   "metadata": {
    "id": "DCyNSStb-Qrf"
   }
  },
  {
   "cell_type": "code",
   "source": [
    "print(df.PERSONAL_INCOME.max())\n",
    "print(df.PERSONAL_INCOME.min())"
   ],
   "metadata": {
    "colab": {
     "base_uri": "https://localhost:8080/"
    },
    "id": "fYtckeBl7pQO",
    "outputId": "69928ff1-bf49-4d16-c264-bbe4e08d2851"
   },
   "execution_count": null,
   "outputs": [
    {
     "output_type": "stream",
     "name": "stdout",
     "text": [
      "250000.0\n",
      "5000.0\n"
     ]
    }
   ]
  },
  {
   "cell_type": "markdown",
   "source": [
    "Наименьший персональных доход имеют как ни странно имеют люди старше 60 лет"
   ],
   "metadata": {
    "id": "dWROdiSXAh0Z"
   }
  },
  {
   "cell_type": "code",
   "source": [
    "df.groupby([\"AGE\"]).agg(IncomeMean=('PERSONAL_INCOME','mean')).sort_values(by='IncomeMean', ascending=True)"
   ],
   "metadata": {
    "colab": {
     "base_uri": "https://localhost:8080/"
    },
    "collapsed": true,
    "id": "lmp42_R8AT4w",
    "outputId": "ca89961d-1f6e-4c05-e249-6425d1f735c0"
   },
   "execution_count": null,
   "outputs": [
    {
     "output_type": "execute_result",
     "data": {
      "text/plain": [
       "       IncomeMean\n",
       "AGE              \n",
       "65    8893.023256\n",
       "63    9674.412326\n",
       "64   11149.305785\n",
       "61   11414.974874\n",
       "62   11491.373239\n",
       "60   11820.700508\n",
       "67   12000.000000\n",
       "59   12119.038835\n",
       "58   12387.406015\n",
       "51   12582.731563\n",
       "55   12712.146429\n",
       "56   12786.654088\n",
       "57   12879.488462\n",
       "24   12945.813953\n",
       "52   13270.946903\n",
       "22   13291.409722\n",
       "23   13364.769648\n",
       "48   13411.253561\n",
       "53   13442.400000\n",
       "44   13456.652542\n",
       "26   13718.577495\n",
       "34   13908.163717\n",
       "50   14041.498559\n",
       "46   14118.954248\n",
       "54   14174.475524\n",
       "42   14341.184573\n",
       "47   14348.734177\n",
       "43   14367.311178\n",
       "40   14370.719603\n",
       "39   14438.480392\n",
       "66   14537.750000\n",
       "27   14637.372917\n",
       "49   14679.532164\n",
       "37   14761.501211\n",
       "33   14810.619469\n",
       "28   14900.000000\n",
       "36   14904.864865\n",
       "35   14973.807264\n",
       "45   15020.738636\n",
       "41   15137.928177\n",
       "32   15211.320755\n",
       "38   15238.443396\n",
       "25   15291.489362\n",
       "21   15461.538462\n",
       "31   15558.940397\n",
       "30   15661.714286\n",
       "29   15818.690476"
      ],
      "text/html": [
       "\n",
       "  <div id=\"df-ded77b30-b6cf-4afd-88c3-54680b0ada68\" class=\"colab-df-container\">\n",
       "    <div>\n",
       "<style scoped>\n",
       "    .dataframe tbody tr th:only-of-type {\n",
       "        vertical-align: middle;\n",
       "    }\n",
       "\n",
       "    .dataframe tbody tr th {\n",
       "        vertical-align: top;\n",
       "    }\n",
       "\n",
       "    .dataframe thead th {\n",
       "        text-align: right;\n",
       "    }\n",
       "</style>\n",
       "<table border=\"1\" class=\"dataframe\">\n",
       "  <thead>\n",
       "    <tr style=\"text-align: right;\">\n",
       "      <th></th>\n",
       "      <th>IncomeMean</th>\n",
       "    </tr>\n",
       "    <tr>\n",
       "      <th>AGE</th>\n",
       "      <th></th>\n",
       "    </tr>\n",
       "  </thead>\n",
       "  <tbody>\n",
       "    <tr>\n",
       "      <th>65</th>\n",
       "      <td>8893.023256</td>\n",
       "    </tr>\n",
       "    <tr>\n",
       "      <th>63</th>\n",
       "      <td>9674.412326</td>\n",
       "    </tr>\n",
       "    <tr>\n",
       "      <th>64</th>\n",
       "      <td>11149.305785</td>\n",
       "    </tr>\n",
       "    <tr>\n",
       "      <th>61</th>\n",
       "      <td>11414.974874</td>\n",
       "    </tr>\n",
       "    <tr>\n",
       "      <th>62</th>\n",
       "      <td>11491.373239</td>\n",
       "    </tr>\n",
       "    <tr>\n",
       "      <th>60</th>\n",
       "      <td>11820.700508</td>\n",
       "    </tr>\n",
       "    <tr>\n",
       "      <th>67</th>\n",
       "      <td>12000.000000</td>\n",
       "    </tr>\n",
       "    <tr>\n",
       "      <th>59</th>\n",
       "      <td>12119.038835</td>\n",
       "    </tr>\n",
       "    <tr>\n",
       "      <th>58</th>\n",
       "      <td>12387.406015</td>\n",
       "    </tr>\n",
       "    <tr>\n",
       "      <th>51</th>\n",
       "      <td>12582.731563</td>\n",
       "    </tr>\n",
       "    <tr>\n",
       "      <th>55</th>\n",
       "      <td>12712.146429</td>\n",
       "    </tr>\n",
       "    <tr>\n",
       "      <th>56</th>\n",
       "      <td>12786.654088</td>\n",
       "    </tr>\n",
       "    <tr>\n",
       "      <th>57</th>\n",
       "      <td>12879.488462</td>\n",
       "    </tr>\n",
       "    <tr>\n",
       "      <th>24</th>\n",
       "      <td>12945.813953</td>\n",
       "    </tr>\n",
       "    <tr>\n",
       "      <th>52</th>\n",
       "      <td>13270.946903</td>\n",
       "    </tr>\n",
       "    <tr>\n",
       "      <th>22</th>\n",
       "      <td>13291.409722</td>\n",
       "    </tr>\n",
       "    <tr>\n",
       "      <th>23</th>\n",
       "      <td>13364.769648</td>\n",
       "    </tr>\n",
       "    <tr>\n",
       "      <th>48</th>\n",
       "      <td>13411.253561</td>\n",
       "    </tr>\n",
       "    <tr>\n",
       "      <th>53</th>\n",
       "      <td>13442.400000</td>\n",
       "    </tr>\n",
       "    <tr>\n",
       "      <th>44</th>\n",
       "      <td>13456.652542</td>\n",
       "    </tr>\n",
       "    <tr>\n",
       "      <th>26</th>\n",
       "      <td>13718.577495</td>\n",
       "    </tr>\n",
       "    <tr>\n",
       "      <th>34</th>\n",
       "      <td>13908.163717</td>\n",
       "    </tr>\n",
       "    <tr>\n",
       "      <th>50</th>\n",
       "      <td>14041.498559</td>\n",
       "    </tr>\n",
       "    <tr>\n",
       "      <th>46</th>\n",
       "      <td>14118.954248</td>\n",
       "    </tr>\n",
       "    <tr>\n",
       "      <th>54</th>\n",
       "      <td>14174.475524</td>\n",
       "    </tr>\n",
       "    <tr>\n",
       "      <th>42</th>\n",
       "      <td>14341.184573</td>\n",
       "    </tr>\n",
       "    <tr>\n",
       "      <th>47</th>\n",
       "      <td>14348.734177</td>\n",
       "    </tr>\n",
       "    <tr>\n",
       "      <th>43</th>\n",
       "      <td>14367.311178</td>\n",
       "    </tr>\n",
       "    <tr>\n",
       "      <th>40</th>\n",
       "      <td>14370.719603</td>\n",
       "    </tr>\n",
       "    <tr>\n",
       "      <th>39</th>\n",
       "      <td>14438.480392</td>\n",
       "    </tr>\n",
       "    <tr>\n",
       "      <th>66</th>\n",
       "      <td>14537.750000</td>\n",
       "    </tr>\n",
       "    <tr>\n",
       "      <th>27</th>\n",
       "      <td>14637.372917</td>\n",
       "    </tr>\n",
       "    <tr>\n",
       "      <th>49</th>\n",
       "      <td>14679.532164</td>\n",
       "    </tr>\n",
       "    <tr>\n",
       "      <th>37</th>\n",
       "      <td>14761.501211</td>\n",
       "    </tr>\n",
       "    <tr>\n",
       "      <th>33</th>\n",
       "      <td>14810.619469</td>\n",
       "    </tr>\n",
       "    <tr>\n",
       "      <th>28</th>\n",
       "      <td>14900.000000</td>\n",
       "    </tr>\n",
       "    <tr>\n",
       "      <th>36</th>\n",
       "      <td>14904.864865</td>\n",
       "    </tr>\n",
       "    <tr>\n",
       "      <th>35</th>\n",
       "      <td>14973.807264</td>\n",
       "    </tr>\n",
       "    <tr>\n",
       "      <th>45</th>\n",
       "      <td>15020.738636</td>\n",
       "    </tr>\n",
       "    <tr>\n",
       "      <th>41</th>\n",
       "      <td>15137.928177</td>\n",
       "    </tr>\n",
       "    <tr>\n",
       "      <th>32</th>\n",
       "      <td>15211.320755</td>\n",
       "    </tr>\n",
       "    <tr>\n",
       "      <th>38</th>\n",
       "      <td>15238.443396</td>\n",
       "    </tr>\n",
       "    <tr>\n",
       "      <th>25</th>\n",
       "      <td>15291.489362</td>\n",
       "    </tr>\n",
       "    <tr>\n",
       "      <th>21</th>\n",
       "      <td>15461.538462</td>\n",
       "    </tr>\n",
       "    <tr>\n",
       "      <th>31</th>\n",
       "      <td>15558.940397</td>\n",
       "    </tr>\n",
       "    <tr>\n",
       "      <th>30</th>\n",
       "      <td>15661.714286</td>\n",
       "    </tr>\n",
       "    <tr>\n",
       "      <th>29</th>\n",
       "      <td>15818.690476</td>\n",
       "    </tr>\n",
       "  </tbody>\n",
       "</table>\n",
       "</div>\n",
       "    <div class=\"colab-df-buttons\">\n",
       "\n",
       "  <div class=\"colab-df-container\">\n",
       "    <button class=\"colab-df-convert\" onclick=\"convertToInteractive('df-ded77b30-b6cf-4afd-88c3-54680b0ada68')\"\n",
       "            title=\"Convert this dataframe to an interactive table.\"\n",
       "            style=\"display:none;\">\n",
       "\n",
       "  <svg xmlns=\"http://www.w3.org/2000/svg\" height=\"24px\" viewBox=\"0 -960 960 960\">\n",
       "    <path d=\"M120-120v-720h720v720H120Zm60-500h600v-160H180v160Zm220 220h160v-160H400v160Zm0 220h160v-160H400v160ZM180-400h160v-160H180v160Zm440 0h160v-160H620v160ZM180-180h160v-160H180v160Zm440 0h160v-160H620v160Z\"/>\n",
       "  </svg>\n",
       "    </button>\n",
       "\n",
       "  <style>\n",
       "    .colab-df-container {\n",
       "      display:flex;\n",
       "      gap: 12px;\n",
       "    }\n",
       "\n",
       "    .colab-df-convert {\n",
       "      background-color: #E8F0FE;\n",
       "      border: none;\n",
       "      border-radius: 50%;\n",
       "      cursor: pointer;\n",
       "      display: none;\n",
       "      fill: #1967D2;\n",
       "      height: 32px;\n",
       "      padding: 0 0 0 0;\n",
       "      width: 32px;\n",
       "    }\n",
       "\n",
       "    .colab-df-convert:hover {\n",
       "      background-color: #E2EBFA;\n",
       "      box-shadow: 0px 1px 2px rgba(60, 64, 67, 0.3), 0px 1px 3px 1px rgba(60, 64, 67, 0.15);\n",
       "      fill: #174EA6;\n",
       "    }\n",
       "\n",
       "    .colab-df-buttons div {\n",
       "      margin-bottom: 4px;\n",
       "    }\n",
       "\n",
       "    [theme=dark] .colab-df-convert {\n",
       "      background-color: #3B4455;\n",
       "      fill: #D2E3FC;\n",
       "    }\n",
       "\n",
       "    [theme=dark] .colab-df-convert:hover {\n",
       "      background-color: #434B5C;\n",
       "      box-shadow: 0px 1px 3px 1px rgba(0, 0, 0, 0.15);\n",
       "      filter: drop-shadow(0px 1px 2px rgba(0, 0, 0, 0.3));\n",
       "      fill: #FFFFFF;\n",
       "    }\n",
       "  </style>\n",
       "\n",
       "    <script>\n",
       "      const buttonEl =\n",
       "        document.querySelector('#df-ded77b30-b6cf-4afd-88c3-54680b0ada68 button.colab-df-convert');\n",
       "      buttonEl.style.display =\n",
       "        google.colab.kernel.accessAllowed ? 'block' : 'none';\n",
       "\n",
       "      async function convertToInteractive(key) {\n",
       "        const element = document.querySelector('#df-ded77b30-b6cf-4afd-88c3-54680b0ada68');\n",
       "        const dataTable =\n",
       "          await google.colab.kernel.invokeFunction('convertToInteractive',\n",
       "                                                    [key], {});\n",
       "        if (!dataTable) return;\n",
       "\n",
       "        const docLinkHtml = 'Like what you see? Visit the ' +\n",
       "          '<a target=\"_blank\" href=https://colab.research.google.com/notebooks/data_table.ipynb>data table notebook</a>'\n",
       "          + ' to learn more about interactive tables.';\n",
       "        element.innerHTML = '';\n",
       "        dataTable['output_type'] = 'display_data';\n",
       "        await google.colab.output.renderOutput(dataTable, element);\n",
       "        const docLink = document.createElement('div');\n",
       "        docLink.innerHTML = docLinkHtml;\n",
       "        element.appendChild(docLink);\n",
       "      }\n",
       "    </script>\n",
       "  </div>\n",
       "\n",
       "\n",
       "<div id=\"df-f73914f1-8f84-40b7-999d-7009c8dda9aa\">\n",
       "  <button class=\"colab-df-quickchart\" onclick=\"quickchart('df-f73914f1-8f84-40b7-999d-7009c8dda9aa')\"\n",
       "            title=\"Suggest charts\"\n",
       "            style=\"display:none;\">\n",
       "\n",
       "<svg xmlns=\"http://www.w3.org/2000/svg\" height=\"24px\"viewBox=\"0 0 24 24\"\n",
       "     width=\"24px\">\n",
       "    <g>\n",
       "        <path d=\"M19 3H5c-1.1 0-2 .9-2 2v14c0 1.1.9 2 2 2h14c1.1 0 2-.9 2-2V5c0-1.1-.9-2-2-2zM9 17H7v-7h2v7zm4 0h-2V7h2v10zm4 0h-2v-4h2v4z\"/>\n",
       "    </g>\n",
       "</svg>\n",
       "  </button>\n",
       "\n",
       "<style>\n",
       "  .colab-df-quickchart {\n",
       "      --bg-color: #E8F0FE;\n",
       "      --fill-color: #1967D2;\n",
       "      --hover-bg-color: #E2EBFA;\n",
       "      --hover-fill-color: #174EA6;\n",
       "      --disabled-fill-color: #AAA;\n",
       "      --disabled-bg-color: #DDD;\n",
       "  }\n",
       "\n",
       "  [theme=dark] .colab-df-quickchart {\n",
       "      --bg-color: #3B4455;\n",
       "      --fill-color: #D2E3FC;\n",
       "      --hover-bg-color: #434B5C;\n",
       "      --hover-fill-color: #FFFFFF;\n",
       "      --disabled-bg-color: #3B4455;\n",
       "      --disabled-fill-color: #666;\n",
       "  }\n",
       "\n",
       "  .colab-df-quickchart {\n",
       "    background-color: var(--bg-color);\n",
       "    border: none;\n",
       "    border-radius: 50%;\n",
       "    cursor: pointer;\n",
       "    display: none;\n",
       "    fill: var(--fill-color);\n",
       "    height: 32px;\n",
       "    padding: 0;\n",
       "    width: 32px;\n",
       "  }\n",
       "\n",
       "  .colab-df-quickchart:hover {\n",
       "    background-color: var(--hover-bg-color);\n",
       "    box-shadow: 0 1px 2px rgba(60, 64, 67, 0.3), 0 1px 3px 1px rgba(60, 64, 67, 0.15);\n",
       "    fill: var(--button-hover-fill-color);\n",
       "  }\n",
       "\n",
       "  .colab-df-quickchart-complete:disabled,\n",
       "  .colab-df-quickchart-complete:disabled:hover {\n",
       "    background-color: var(--disabled-bg-color);\n",
       "    fill: var(--disabled-fill-color);\n",
       "    box-shadow: none;\n",
       "  }\n",
       "\n",
       "  .colab-df-spinner {\n",
       "    border: 2px solid var(--fill-color);\n",
       "    border-color: transparent;\n",
       "    border-bottom-color: var(--fill-color);\n",
       "    animation:\n",
       "      spin 1s steps(1) infinite;\n",
       "  }\n",
       "\n",
       "  @keyframes spin {\n",
       "    0% {\n",
       "      border-color: transparent;\n",
       "      border-bottom-color: var(--fill-color);\n",
       "      border-left-color: var(--fill-color);\n",
       "    }\n",
       "    20% {\n",
       "      border-color: transparent;\n",
       "      border-left-color: var(--fill-color);\n",
       "      border-top-color: var(--fill-color);\n",
       "    }\n",
       "    30% {\n",
       "      border-color: transparent;\n",
       "      border-left-color: var(--fill-color);\n",
       "      border-top-color: var(--fill-color);\n",
       "      border-right-color: var(--fill-color);\n",
       "    }\n",
       "    40% {\n",
       "      border-color: transparent;\n",
       "      border-right-color: var(--fill-color);\n",
       "      border-top-color: var(--fill-color);\n",
       "    }\n",
       "    60% {\n",
       "      border-color: transparent;\n",
       "      border-right-color: var(--fill-color);\n",
       "    }\n",
       "    80% {\n",
       "      border-color: transparent;\n",
       "      border-right-color: var(--fill-color);\n",
       "      border-bottom-color: var(--fill-color);\n",
       "    }\n",
       "    90% {\n",
       "      border-color: transparent;\n",
       "      border-bottom-color: var(--fill-color);\n",
       "    }\n",
       "  }\n",
       "</style>\n",
       "\n",
       "  <script>\n",
       "    async function quickchart(key) {\n",
       "      const quickchartButtonEl =\n",
       "        document.querySelector('#' + key + ' button');\n",
       "      quickchartButtonEl.disabled = true;  // To prevent multiple clicks.\n",
       "      quickchartButtonEl.classList.add('colab-df-spinner');\n",
       "      try {\n",
       "        const charts = await google.colab.kernel.invokeFunction(\n",
       "            'suggestCharts', [key], {});\n",
       "      } catch (error) {\n",
       "        console.error('Error during call to suggestCharts:', error);\n",
       "      }\n",
       "      quickchartButtonEl.classList.remove('colab-df-spinner');\n",
       "      quickchartButtonEl.classList.add('colab-df-quickchart-complete');\n",
       "    }\n",
       "    (() => {\n",
       "      let quickchartButtonEl =\n",
       "        document.querySelector('#df-f73914f1-8f84-40b7-999d-7009c8dda9aa button');\n",
       "      quickchartButtonEl.style.display =\n",
       "        google.colab.kernel.accessAllowed ? 'block' : 'none';\n",
       "    })();\n",
       "  </script>\n",
       "</div>\n",
       "    </div>\n",
       "  </div>\n"
      ],
      "application/vnd.google.colaboratory.intrinsic+json": {
       "type": "dataframe",
       "summary": "{\n  \"name\": \"df\",\n  \"rows\": 47,\n  \"fields\": [\n    {\n      \"column\": \"AGE\",\n      \"properties\": {\n        \"dtype\": \"number\",\n        \"std\": 13,\n        \"min\": 21,\n        \"max\": 67,\n        \"num_unique_values\": 47,\n        \"samples\": [\n          43,\n          41,\n          47\n        ],\n        \"semantic_type\": \"\",\n        \"description\": \"\"\n      }\n    },\n    {\n      \"column\": \"IncomeMean\",\n      \"properties\": {\n        \"dtype\": \"number\",\n        \"std\": 1544.0717847272315,\n        \"min\": 8893.023255813954,\n        \"max\": 15818.690476190477,\n        \"num_unique_values\": 47,\n        \"samples\": [\n          14367.311178247734,\n          15137.92817679558,\n          14348.73417721519\n        ],\n        \"semantic_type\": \"\",\n        \"description\": \"\"\n      }\n    }\n  ]\n}"
      }
     },
     "metadata": {},
     "execution_count": 157
    }
   ]
  },
  {
   "cell_type": "markdown",
   "source": [
    "Отклик клиентов на маркетинговую компанию не коррелирует с личным доходом.\n"
   ],
   "metadata": {
    "id": "Qlk0l5pn_vCo"
   }
  },
  {
   "cell_type": "code",
   "source": [
    "plt.figure(figsize=(6,4))\n",
    "\n",
    "plt.scatter(df.PERSONAL_INCOME, df.TARGET);"
   ],
   "metadata": {
    "colab": {
     "base_uri": "https://localhost:8080/"
    },
    "id": "qdPrMTcI_IJp",
    "outputId": "76221a90-51aa-437f-ad13-01fde6640b01"
   },
   "execution_count": null,
   "outputs": [
    {
     "output_type": "display_data",
     "data": {
      "text/plain": [
       "<Figure size 600x400 with 1 Axes>"
      ],
      "image/png": "[encoded data removed]"
     },
     "metadata": {}
    }
   ]
  },
  {
   "cell_type": "code",
   "source": [
    "np.corrcoef(df.PERSONAL_INCOME, df.TARGET)[0][1]"
   ],
   "metadata": {
    "colab": {
     "base_uri": "https://localhost:8080/"
    },
    "id": "NT2QEtnK_WUP",
    "outputId": "2426922a-ecf4-4f7f-a2f6-4a215173d66e"
   },
   "execution_count": null,
   "outputs": [
    {
     "output_type": "execute_result",
     "data": {
      "text/plain": [
       "0.0943132501128487"
      ]
     },
     "metadata": {},
     "execution_count": 159
    }
   ]
  },
  {
   "cell_type": "markdown",
   "source": [
    "### Дети"
   ],
   "metadata": {
    "id": "TyykZcz1BcKK"
   }
  },
  {
   "cell_type": "code",
   "source": [
    "plt.figure(figsize=(7, 5))\n",
    "plt.hist(df.CHILD_TOTAL, bins=20)"
   ],
   "metadata": {
    "colab": {
     "base_uri": "https://localhost:8080/"
    },
    "id": "waPD8LozBeFA",
    "outputId": "8350c933-9df4-4521-9f3d-27410204cefa"
   },
   "execution_count": null,
   "outputs": [
    {
     "output_type": "execute_result",
     "data": {
      "text/plain": [
       "(array([4.887e+03, 0.000e+00, 5.008e+03, 0.000e+00, 4.025e+03, 0.000e+00,\n",
       "        7.690e+02, 0.000e+00, 1.240e+02, 0.000e+00, 5.500e+01, 0.000e+00,\n",
       "        1.200e+01, 0.000e+00, 3.000e+00, 0.000e+00, 1.000e+00, 0.000e+00,\n",
       "        0.000e+00, 2.000e+00]),\n",
       " array([ 0. ,  0.5,  1. ,  1.5,  2. ,  2.5,  3. ,  3.5,  4. ,  4.5,  5. ,\n",
       "         5.5,  6. ,  6.5,  7. ,  7.5,  8. ,  8.5,  9. ,  9.5, 10. ]),\n",
       " <BarContainer object of 20 artists>)"
      ]
     },
     "metadata": {},
     "execution_count": 160
    },
    {
     "output_type": "display_data",
     "data": {
      "text/plain": [
       "<Figure size 700x500 with 1 Axes>"
      ],
      "image/png": "[encoded data removed]"
     },
     "metadata": {}
    }
   ]
  },
  {
   "cell_type": "markdown",
   "source": [
    "Всего 32.8% не имеют детей"
   ],
   "metadata": {
    "id": "SMWSjS-uCbtA"
   }
  },
  {
   "cell_type": "code",
   "source": [
    "len(df[df.CHILD_TOTAL == 0])/ len(df)"
   ],
   "metadata": {
    "colab": {
     "base_uri": "https://localhost:8080/"
    },
    "id": "yGEdhbbzCYMm",
    "outputId": "fb28fefd-e8bb-452f-b1bf-60111e32df7d"
   },
   "execution_count": null,
   "outputs": [
    {
     "output_type": "execute_result",
     "data": {
      "text/plain": [
       "0.3282950423216445"
      ]
     },
     "metadata": {},
     "execution_count": 161
    }
   ]
  },
  {
   "cell_type": "markdown",
   "source": [
    "Количество детей сильно коррелирует с количеством иждевенцев у клиента."
   ],
   "metadata": {
    "id": "F6odZyJJ5QJS"
   }
  },
  {
   "cell_type": "code",
   "source": [
    "plt.figure(figsize=(6,4))\n",
    "\n",
    "plt.scatter(df.CHILD_TOTAL, df.DEPENDANTS);"
   ],
   "metadata": {
    "colab": {
     "base_uri": "https://localhost:8080/"
    },
    "id": "BXhgTLzF4_H1",
    "outputId": "1eaa9b70-862f-47bc-e233-38c32c11671b"
   },
   "execution_count": null,
   "outputs": [
    {
     "output_type": "display_data",
     "data": {
      "text/plain": [
       "<Figure size 600x400 with 1 Axes>"
      ],
      "image/png": "[encoded data removed]"
     },
     "metadata": {}
    }
   ]
  },
  {
   "cell_type": "code",
   "source": [
    "np.corrcoef(df.CHILD_TOTAL, df.DEPENDANTS)[0][1]"
   ],
   "metadata": {
    "colab": {
     "base_uri": "https://localhost:8080/"
    },
    "id": "kR89a_vq5Ly7",
    "outputId": "0017df25-ea0a-4446-97fa-c4bdc131e6cc"
   },
   "execution_count": null,
   "outputs": [
    {
     "output_type": "execute_result",
     "data": {
      "text/plain": [
       "0.5186227494670411"
      ]
     },
     "metadata": {},
     "execution_count": 163
    }
   ]
  },
  {
   "cell_type": "markdown",
   "source": [
    "Количество детей клиента не коррелирует с наличием отклика на маркетинговую компанию"
   ],
   "metadata": {
    "id": "UzD62vVd5bfd"
   }
  },
  {
   "cell_type": "code",
   "source": [
    "plt.figure(figsize=(6,4))\n",
    "\n",
    "plt.scatter(df.CHILD_TOTAL, df.TARGET);\n"
   ],
   "metadata": {
    "colab": {
     "base_uri": "https://localhost:8080/"
    },
    "id": "wSkUH3KGEdOx",
    "outputId": "d9ed9be3-3896-4daf-8783-ec3a13bd6210"
   },
   "execution_count": null,
   "outputs": [
    {
     "output_type": "display_data",
     "data": {
      "text/plain": [
       "<Figure size 600x400 with 1 Axes>"
      ],
      "image/png": "[encoded data removed]"
     },
     "metadata": {}
    }
   ]
  },
  {
   "cell_type": "code",
   "source": [
    "np.corrcoef(df.CHILD_TOTAL, df.TARGET)[0][1]"
   ],
   "metadata": {
    "colab": {
     "base_uri": "https://localhost:8080/"
    },
    "id": "76RX7zY8En_C",
    "outputId": "8639876f-d661-4d1e-da6f-da98e52c544a"
   },
   "execution_count": null,
   "outputs": [
    {
     "output_type": "execute_result",
     "data": {
      "text/plain": [
       "0.010886295417815302"
      ]
     },
     "metadata": {},
     "execution_count": 165
    }
   ]
  },
  {
   "cell_type": "markdown",
   "source": [
    "### Количество ссуд"
   ],
   "metadata": {
    "id": "5YUX_fFs5rrT"
   }
  },
  {
   "cell_type": "code",
   "source": [
    "plt.figure(figsize=(7, 5))\n",
    "plt.hist(df.LOAN_NUM_TOTAL, bins=20)"
   ],
   "metadata": {
    "colab": {
     "base_uri": "https://localhost:8080/"
    },
    "id": "w9wQkwjp52D_",
    "outputId": "827f5efb-95d5-458f-eab1-a2b5bff57280"
   },
   "execution_count": null,
   "outputs": [
    {
     "output_type": "execute_result",
     "data": {
      "text/plain": [
       "(array([1.1036e+04, 0.0000e+00, 2.5680e+03, 0.0000e+00, 8.5500e+02,\n",
       "        0.0000e+00, 2.7100e+02, 0.0000e+00, 1.0200e+02, 0.0000e+00,\n",
       "        3.6000e+01, 0.0000e+00, 1.4000e+01, 0.0000e+00, 3.0000e+00,\n",
       "        0.0000e+00, 0.0000e+00, 0.0000e+00, 0.0000e+00, 1.0000e+00]),\n",
       " array([ 1. ,  1.5,  2. ,  2.5,  3. ,  3.5,  4. ,  4.5,  5. ,  5.5,  6. ,\n",
       "         6.5,  7. ,  7.5,  8. ,  8.5,  9. ,  9.5, 10. , 10.5, 11. ]),\n",
       " <BarContainer object of 20 artists>)"
      ]
     },
     "metadata": {},
     "execution_count": 166
    },
    {
     "output_type": "display_data",
     "data": {
      "text/plain": [
       "<Figure size 700x500 with 1 Axes>"
      ],
      "image/png": "[encoded data removed]"
     },
     "metadata": {}
    }
   ]
  },
  {
   "cell_type": "markdown",
   "source": [
    "74% клиентов имеют только 1 кредит, что не позволяет адекватно оценить зависимость таргета от этого признака"
   ],
   "metadata": {
    "id": "oIgkuHCp6xcD"
   }
  },
  {
   "cell_type": "code",
   "source": [
    "len(df[df.LOAN_NUM_TOTAL == 1])/ len(df)"
   ],
   "metadata": {
    "colab": {
     "base_uri": "https://localhost:8080/"
    },
    "id": "MXJhWoJV6C2c",
    "outputId": "59688f99-f305-4b27-8815-6b958c36a3b4"
   },
   "execution_count": null,
   "outputs": [
    {
     "output_type": "execute_result",
     "data": {
      "text/plain": [
       "0.7413677280666398"
      ]
     },
     "metadata": {},
     "execution_count": 167
    }
   ]
  },
  {
   "cell_type": "markdown",
   "source": [
    "Наибольшее количество ссуд у одного клиента - 11"
   ],
   "metadata": {
    "id": "xIu2OaeN7NAD"
   }
  },
  {
   "cell_type": "code",
   "source": [
    "df.LOAN_NUM_TOTAL.max()"
   ],
   "metadata": {
    "colab": {
     "base_uri": "https://localhost:8080/"
    },
    "id": "WDTKAChM7F5A",
    "outputId": "94e23cca-7ceb-43f7-b4cc-606c97d9875f"
   },
   "execution_count": null,
   "outputs": [
    {
     "output_type": "execute_result",
     "data": {
      "text/plain": [
       "11"
      ]
     },
     "metadata": {},
     "execution_count": 168
    }
   ]
  },
  {
   "cell_type": "markdown",
   "source": [
    "## Однофакторный анализ категориальных признаков"
   ],
   "metadata": {
    "id": "3T_3WiO57qek"
   }
  },
  {
   "cell_type": "markdown",
   "source": [
    "### Пол клиента"
   ],
   "metadata": {
    "id": "0BRP0ms_7ydz"
   }
  },
  {
   "cell_type": "markdown",
   "source": [
    "Преимущественно кредиты берут мужчины"
   ],
   "metadata": {
    "id": "MvA9icdv8xoH"
   }
  },
  {
   "cell_type": "code",
   "source": [
    "gender_clients = df['GENDER'].value_counts()\n",
    "\n",
    "plt.figure(figsize=(6,4))\n",
    "sns.barplot(x=gender_clients.index, y=gender_clients.values, hue=gender_clients.index, palette='summer')\n",
    "plt.title('Разделение клиентов по полу')\n",
    "plt.xlabel('Пол')\n",
    "plt.ylabel('Количество')\n",
    "plt.show()\n",
    "\n",
    "print(gender_clients)"
   ],
   "metadata": {
    "colab": {
     "base_uri": "https://localhost:8080/"
    },
    "id": "ihk_iRoe7xKm",
    "outputId": "726234eb-7e62-4b3e-8e8f-326017440f96"
   },
   "execution_count": null,
   "outputs": [
    {
     "output_type": "display_data",
     "data": {
      "text/plain": [
       "<Figure size 600x400 with 1 Axes>"
      ],
      "image/png": "[encoded data removed]"
     },
     "metadata": {}
    },
    {
     "output_type": "stream",
     "name": "stdout",
     "text": [
      "GENDER\n",
      "1    9677\n",
      "0    5209\n",
      "Name: count, dtype: int64\n"
     ]
    }
   ]
  },
  {
   "cell_type": "markdown",
   "source": [
    "У женщин в среднем выше персональный доход"
   ],
   "metadata": {
    "id": "QPSrubn_9gEu"
   }
  },
  {
   "cell_type": "code",
   "source": [
    "df.groupby('GENDER').agg(IncomeMean=('PERSONAL_INCOME','mean')).sort_values(by='IncomeMean', ascending=False)"
   ],
   "metadata": {
    "colab": {
     "base_uri": "https://localhost:8080/"
    },
    "id": "ODzhZyak9ESK",
    "outputId": "fe2409cc-128f-48db-f05c-da20568c3c39"
   },
   "execution_count": null,
   "outputs": [
    {
     "output_type": "execute_result",
     "data": {
      "text/plain": [
       "          IncomeMean\n",
       "GENDER              \n",
       "0       16930.624911\n",
       "1       12535.192331"
      ],
      "text/html": [
       "\n",
       "  <div id=\"df-907348d9-c49b-4715-b890-1464319ab81c\" class=\"colab-df-container\">\n",
       "    <div>\n",
       "<style scoped>\n",
       "    .dataframe tbody tr th:only-of-type {\n",
       "        vertical-align: middle;\n",
       "    }\n",
       "\n",
       "    .dataframe tbody tr th {\n",
       "        vertical-align: top;\n",
       "    }\n",
       "\n",
       "    .dataframe thead th {\n",
       "        text-align: right;\n",
       "    }\n",
       "</style>\n",
       "<table border=\"1\" class=\"dataframe\">\n",
       "  <thead>\n",
       "    <tr style=\"text-align: right;\">\n",
       "      <th></th>\n",
       "      <th>IncomeMean</th>\n",
       "    </tr>\n",
       "    <tr>\n",
       "      <th>GENDER</th>\n",
       "      <th></th>\n",
       "    </tr>\n",
       "  </thead>\n",
       "  <tbody>\n",
       "    <tr>\n",
       "      <th>0</th>\n",
       "      <td>16930.624911</td>\n",
       "    </tr>\n",
       "    <tr>\n",
       "      <th>1</th>\n",
       "      <td>12535.192331</td>\n",
       "    </tr>\n",
       "  </tbody>\n",
       "</table>\n",
       "</div>\n",
       "    <div class=\"colab-df-buttons\">\n",
       "\n",
       "  <div class=\"colab-df-container\">\n",
       "    <button class=\"colab-df-convert\" onclick=\"convertToInteractive('df-907348d9-c49b-4715-b890-1464319ab81c')\"\n",
       "            title=\"Convert this dataframe to an interactive table.\"\n",
       "            style=\"display:none;\">\n",
       "\n",
       "  <svg xmlns=\"http://www.w3.org/2000/svg\" height=\"24px\" viewBox=\"0 -960 960 960\">\n",
       "    <path d=\"M120-120v-720h720v720H120Zm60-500h600v-160H180v160Zm220 220h160v-160H400v160Zm0 220h160v-160H400v160ZM180-400h160v-160H180v160Zm440 0h160v-160H620v160ZM180-180h160v-160H180v160Zm440 0h160v-160H620v160Z\"/>\n",
       "  </svg>\n",
       "    </button>\n",
       "\n",
       "  <style>\n",
       "    .colab-df-container {\n",
       "      display:flex;\n",
       "      gap: 12px;\n",
       "    }\n",
       "\n",
       "    .colab-df-convert {\n",
       "      background-color: #E8F0FE;\n",
       "      border: none;\n",
       "      border-radius: 50%;\n",
       "      cursor: pointer;\n",
       "      display: none;\n",
       "      fill: #1967D2;\n",
       "      height: 32px;\n",
       "      padding: 0 0 0 0;\n",
       "      width: 32px;\n",
       "    }\n",
       "\n",
       "    .colab-df-convert:hover {\n",
       "      background-color: #E2EBFA;\n",
       "      box-shadow: 0px 1px 2px rgba(60, 64, 67, 0.3), 0px 1px 3px 1px rgba(60, 64, 67, 0.15);\n",
       "      fill: #174EA6;\n",
       "    }\n",
       "\n",
       "    .colab-df-buttons div {\n",
       "      margin-bottom: 4px;\n",
       "    }\n",
       "\n",
       "    [theme=dark] .colab-df-convert {\n",
       "      background-color: #3B4455;\n",
       "      fill: #D2E3FC;\n",
       "    }\n",
       "\n",
       "    [theme=dark] .colab-df-convert:hover {\n",
       "      background-color: #434B5C;\n",
       "      box-shadow: 0px 1px 3px 1px rgba(0, 0, 0, 0.15);\n",
       "      filter: drop-shadow(0px 1px 2px rgba(0, 0, 0, 0.3));\n",
       "      fill: #FFFFFF;\n",
       "    }\n",
       "  </style>\n",
       "\n",
       "    <script>\n",
       "      const buttonEl =\n",
       "        document.querySelector('#df-907348d9-c49b-4715-b890-1464319ab81c button.colab-df-convert');\n",
       "      buttonEl.style.display =\n",
       "        google.colab.kernel.accessAllowed ? 'block' : 'none';\n",
       "\n",
       "      async function convertToInteractive(key) {\n",
       "        const element = document.querySelector('#df-907348d9-c49b-4715-b890-1464319ab81c');\n",
       "        const dataTable =\n",
       "          await google.colab.kernel.invokeFunction('convertToInteractive',\n",
       "                                                    [key], {});\n",
       "        if (!dataTable) return;\n",
       "\n",
       "        const docLinkHtml = 'Like what you see? Visit the ' +\n",
       "          '<a target=\"_blank\" href=https://colab.research.google.com/notebooks/data_table.ipynb>data table notebook</a>'\n",
       "          + ' to learn more about interactive tables.';\n",
       "        element.innerHTML = '';\n",
       "        dataTable['output_type'] = 'display_data';\n",
       "        await google.colab.output.renderOutput(dataTable, element);\n",
       "        const docLink = document.createElement('div');\n",
       "        docLink.innerHTML = docLinkHtml;\n",
       "        element.appendChild(docLink);\n",
       "      }\n",
       "    </script>\n",
       "  </div>\n",
       "\n",
       "\n",
       "<div id=\"df-3c20152f-4b9d-4525-afef-8327cbe9952b\">\n",
       "  <button class=\"colab-df-quickchart\" onclick=\"quickchart('df-3c20152f-4b9d-4525-afef-8327cbe9952b')\"\n",
       "            title=\"Suggest charts\"\n",
       "            style=\"display:none;\">\n",
       "\n",
       "<svg xmlns=\"http://www.w3.org/2000/svg\" height=\"24px\"viewBox=\"0 0 24 24\"\n",
       "     width=\"24px\">\n",
       "    <g>\n",
       "        <path d=\"M19 3H5c-1.1 0-2 .9-2 2v14c0 1.1.9 2 2 2h14c1.1 0 2-.9 2-2V5c0-1.1-.9-2-2-2zM9 17H7v-7h2v7zm4 0h-2V7h2v10zm4 0h-2v-4h2v4z\"/>\n",
       "    </g>\n",
       "</svg>\n",
       "  </button>\n",
       "\n",
       "<style>\n",
       "  .colab-df-quickchart {\n",
       "      --bg-color: #E8F0FE;\n",
       "      --fill-color: #1967D2;\n",
       "      --hover-bg-color: #E2EBFA;\n",
       "      --hover-fill-color: #174EA6;\n",
       "      --disabled-fill-color: #AAA;\n",
       "      --disabled-bg-color: #DDD;\n",
       "  }\n",
       "\n",
       "  [theme=dark] .colab-df-quickchart {\n",
       "      --bg-color: #3B4455;\n",
       "      --fill-color: #D2E3FC;\n",
       "      --hover-bg-color: #434B5C;\n",
       "      --hover-fill-color: #FFFFFF;\n",
       "      --disabled-bg-color: #3B4455;\n",
       "      --disabled-fill-color: #666;\n",
       "  }\n",
       "\n",
       "  .colab-df-quickchart {\n",
       "    background-color: var(--bg-color);\n",
       "    border: none;\n",
       "    border-radius: 50%;\n",
       "    cursor: pointer;\n",
       "    display: none;\n",
       "    fill: var(--fill-color);\n",
       "    height: 32px;\n",
       "    padding: 0;\n",
       "    width: 32px;\n",
       "  }\n",
       "\n",
       "  .colab-df-quickchart:hover {\n",
       "    background-color: var(--hover-bg-color);\n",
       "    box-shadow: 0 1px 2px rgba(60, 64, 67, 0.3), 0 1px 3px 1px rgba(60, 64, 67, 0.15);\n",
       "    fill: var(--button-hover-fill-color);\n",
       "  }\n",
       "\n",
       "  .colab-df-quickchart-complete:disabled,\n",
       "  .colab-df-quickchart-complete:disabled:hover {\n",
       "    background-color: var(--disabled-bg-color);\n",
       "    fill: var(--disabled-fill-color);\n",
       "    box-shadow: none;\n",
       "  }\n",
       "\n",
       "  .colab-df-spinner {\n",
       "    border: 2px solid var(--fill-color);\n",
       "    border-color: transparent;\n",
       "    border-bottom-color: var(--fill-color);\n",
       "    animation:\n",
       "      spin 1s steps(1) infinite;\n",
       "  }\n",
       "\n",
       "  @keyframes spin {\n",
       "    0% {\n",
       "      border-color: transparent;\n",
       "      border-bottom-color: var(--fill-color);\n",
       "      border-left-color: var(--fill-color);\n",
       "    }\n",
       "    20% {\n",
       "      border-color: transparent;\n",
       "      border-left-color: var(--fill-color);\n",
       "      border-top-color: var(--fill-color);\n",
       "    }\n",
       "    30% {\n",
       "      border-color: transparent;\n",
       "      border-left-color: var(--fill-color);\n",
       "      border-top-color: var(--fill-color);\n",
       "      border-right-color: var(--fill-color);\n",
       "    }\n",
       "    40% {\n",
       "      border-color: transparent;\n",
       "      border-right-color: var(--fill-color);\n",
       "      border-top-color: var(--fill-color);\n",
       "    }\n",
       "    60% {\n",
       "      border-color: transparent;\n",
       "      border-right-color: var(--fill-color);\n",
       "    }\n",
       "    80% {\n",
       "      border-color: transparent;\n",
       "      border-right-color: var(--fill-color);\n",
       "      border-bottom-color: var(--fill-color);\n",
       "    }\n",
       "    90% {\n",
       "      border-color: transparent;\n",
       "      border-bottom-color: var(--fill-color);\n",
       "    }\n",
       "  }\n",
       "</style>\n",
       "\n",
       "  <script>\n",
       "    async function quickchart(key) {\n",
       "      const quickchartButtonEl =\n",
       "        document.querySelector('#' + key + ' button');\n",
       "      quickchartButtonEl.disabled = true;  // To prevent multiple clicks.\n",
       "      quickchartButtonEl.classList.add('colab-df-spinner');\n",
       "      try {\n",
       "        const charts = await google.colab.kernel.invokeFunction(\n",
       "            'suggestCharts', [key], {});\n",
       "      } catch (error) {\n",
       "        console.error('Error during call to suggestCharts:', error);\n",
       "      }\n",
       "      quickchartButtonEl.classList.remove('colab-df-spinner');\n",
       "      quickchartButtonEl.classList.add('colab-df-quickchart-complete');\n",
       "    }\n",
       "    (() => {\n",
       "      let quickchartButtonEl =\n",
       "        document.querySelector('#df-3c20152f-4b9d-4525-afef-8327cbe9952b button');\n",
       "      quickchartButtonEl.style.display =\n",
       "        google.colab.kernel.accessAllowed ? 'block' : 'none';\n",
       "    })();\n",
       "  </script>\n",
       "</div>\n",
       "    </div>\n",
       "  </div>\n"
      ],
      "application/vnd.google.colaboratory.intrinsic+json": {
       "type": "dataframe",
       "summary": "{\n  \"name\": \"df\",\n  \"rows\": 2,\n  \"fields\": [\n    {\n      \"column\": \"GENDER\",\n      \"properties\": {\n        \"dtype\": \"number\",\n        \"std\": 0,\n        \"min\": 0,\n        \"max\": 1,\n        \"num_unique_values\": 2,\n        \"samples\": [\n          1,\n          0\n        ],\n        \"semantic_type\": \"\",\n        \"description\": \"\"\n      }\n    },\n    {\n      \"column\": \"IncomeMean\",\n      \"properties\": {\n        \"dtype\": \"number\",\n        \"std\": 3108.0401831635154,\n        \"min\": 12535.192331301023,\n        \"max\": 16930.624910731425,\n        \"num_unique_values\": 2,\n        \"samples\": [\n          12535.192331301023,\n          16930.624910731425\n        ],\n        \"semantic_type\": \"\",\n        \"description\": \"\"\n      }\n    }\n  ]\n}"
      }
     },
     "metadata": {},
     "execution_count": 170
    }
   ]
  },
  {
   "cell_type": "markdown",
   "source": [
    "Женщины чуть чаще дают отклик на маркетинговую компанию"
   ],
   "metadata": {
    "id": "99tho9bd_X7g"
   }
  },
  {
   "cell_type": "code",
   "source": [
    "plt.figure(figsize=(7, 5))\n",
    "\n",
    "sns.barplot(x='GENDER', y='TARGET', data=df, estimator=lambda x: sum(x) / len(x), palette='summer')\n",
    "plt.title('Вероятность TARGET по GENDER')\n",
    "plt.xlabel('GENDER')\n",
    "plt.ylabel('Вероятность TARGET = 1')\n",
    "plt.show()"
   ],
   "metadata": {
    "colab": {
     "base_uri": "https://localhost:8080/"
    },
    "id": "IJkPAA-C9yQq",
    "outputId": "3d2ef700-c549-4b91-cae6-d8e8291dc987"
   },
   "execution_count": null,
   "outputs": [
    {
     "output_type": "stream",
     "name": "stderr",
     "text": [
      "<ipython-input-171-5d6188930d70>:3: FutureWarning: \n",
      "\n",
      "Passing `palette` without assigning `hue` is deprecated and will be removed in v0.14.0. Assign the `x` variable to `hue` and set `legend=False` for the same effect.\n",
      "\n",
      "  sns.barplot(x='GENDER', y='TARGET', data=df, estimator=lambda x: sum(x) / len(x), palette='summer')\n"
     ]
    },
    {
     "output_type": "display_data",
     "data": {
      "text/plain": [
       "<Figure size 700x500 with 1 Axes>"
      ],
      "image/png": "[encoded data removed]"
     },
     "metadata": {}
    }
   ]
  },
  {
   "cell_type": "markdown",
   "source": [
    "### Социальный статус клиента относительно работы"
   ],
   "metadata": {
    "id": "skFWl1KK_hkn"
   }
  },
  {
   "cell_type": "markdown",
   "source": [
    "Подавляющее большинство клиентов работают."
   ],
   "metadata": {
    "id": "8aF2udwdADRg"
   }
  },
  {
   "cell_type": "code",
   "source": [
    "work_clients = df['SOCSTATUS_WORK_FL'].value_counts()\n",
    "\n",
    "plt.figure(figsize=(6,4))\n",
    "sns.barplot(x=work_clients.index, y=work_clients.values, hue=work_clients.index, palette='summer')\n",
    "plt.title('Разделение клиентов по наличию работы')\n",
    "plt.xlabel('Работает ли')\n",
    "plt.ylabel('Количество')\n",
    "plt.show()\n",
    "\n",
    "print(work_clients)"
   ],
   "metadata": {
    "colab": {
     "base_uri": "https://localhost:8080/"
    },
    "id": "vA7q1d3P_qa-",
    "outputId": "b0747ecb-570b-42c2-d8b1-cb9519c7ab62"
   },
   "execution_count": null,
   "outputs": [
    {
     "output_type": "display_data",
     "data": {
      "text/plain": [
       "<Figure size 600x400 with 1 Axes>"
      ],
      "image/png": "[encoded data removed]"
     },
     "metadata": {}
    },
    {
     "output_type": "stream",
     "name": "stdout",
     "text": [
      "SOCSTATUS_WORK_FL\n",
      "1    13639\n",
      "0     1247\n",
      "Name: count, dtype: int64\n"
     ]
    }
   ]
  },
  {
   "cell_type": "markdown",
   "source": [
    "Люди с работой имеют в среднем больший доход"
   ],
   "metadata": {
    "id": "5BaU0jOjAVY5"
   }
  },
  {
   "cell_type": "code",
   "source": [
    "df.groupby('SOCSTATUS_WORK_FL').agg(IncomeMean=('PERSONAL_INCOME','mean')).sort_values(by='IncomeMean', ascending=False)"
   ],
   "metadata": {
    "colab": {
     "base_uri": "https://localhost:8080/"
    },
    "id": "S9DICgHdAQxC",
    "outputId": "7c248452-2e1b-4aa1-9fcb-b090a13df81c"
   },
   "execution_count": null,
   "outputs": [
    {
     "output_type": "execute_result",
     "data": {
      "text/plain": [
       "                     IncomeMean\n",
       "SOCSTATUS_WORK_FL              \n",
       "1                  14571.875736\n",
       "0                   8619.782029"
      ],
      "text/html": [
       "\n",
       "  <div id=\"df-cffccc53-c4e0-48dd-9b8d-2553f767b717\" class=\"colab-df-container\">\n",
       "    <div>\n",
       "<style scoped>\n",
       "    .dataframe tbody tr th:only-of-type {\n",
       "        vertical-align: middle;\n",
       "    }\n",
       "\n",
       "    .dataframe tbody tr th {\n",
       "        vertical-align: top;\n",
       "    }\n",
       "\n",
       "    .dataframe thead th {\n",
       "        text-align: right;\n",
       "    }\n",
       "</style>\n",
       "<table border=\"1\" class=\"dataframe\">\n",
       "  <thead>\n",
       "    <tr style=\"text-align: right;\">\n",
       "      <th></th>\n",
       "      <th>IncomeMean</th>\n",
       "    </tr>\n",
       "    <tr>\n",
       "      <th>SOCSTATUS_WORK_FL</th>\n",
       "      <th></th>\n",
       "    </tr>\n",
       "  </thead>\n",
       "  <tbody>\n",
       "    <tr>\n",
       "      <th>1</th>\n",
       "      <td>14571.875736</td>\n",
       "    </tr>\n",
       "    <tr>\n",
       "      <th>0</th>\n",
       "      <td>8619.782029</td>\n",
       "    </tr>\n",
       "  </tbody>\n",
       "</table>\n",
       "</div>\n",
       "    <div class=\"colab-df-buttons\">\n",
       "\n",
       "  <div class=\"colab-df-container\">\n",
       "    <button class=\"colab-df-convert\" onclick=\"convertToInteractive('df-cffccc53-c4e0-48dd-9b8d-2553f767b717')\"\n",
       "            title=\"Convert this dataframe to an interactive table.\"\n",
       "            style=\"display:none;\">\n",
       "\n",
       "  <svg xmlns=\"http://www.w3.org/2000/svg\" height=\"24px\" viewBox=\"0 -960 960 960\">\n",
       "    <path d=\"M120-120v-720h720v720H120Zm60-500h600v-160H180v160Zm220 220h160v-160H400v160Zm0 220h160v-160H400v160ZM180-400h160v-160H180v160Zm440 0h160v-160H620v160ZM180-180h160v-160H180v160Zm440 0h160v-160H620v160Z\"/>\n",
       "  </svg>\n",
       "    </button>\n",
       "\n",
       "  <style>\n",
       "    .colab-df-container {\n",
       "      display:flex;\n",
       "      gap: 12px;\n",
       "    }\n",
       "\n",
       "    .colab-df-convert {\n",
       "      background-color: #E8F0FE;\n",
       "      border: none;\n",
       "      border-radius: 50%;\n",
       "      cursor: pointer;\n",
       "      display: none;\n",
       "      fill: #1967D2;\n",
       "      height: 32px;\n",
       "      padding: 0 0 0 0;\n",
       "      width: 32px;\n",
       "    }\n",
       "\n",
       "    .colab-df-convert:hover {\n",
       "      background-color: #E2EBFA;\n",
       "      box-shadow: 0px 1px 2px rgba(60, 64, 67, 0.3), 0px 1px 3px 1px rgba(60, 64, 67, 0.15);\n",
       "      fill: #174EA6;\n",
       "    }\n",
       "\n",
       "    .colab-df-buttons div {\n",
       "      margin-bottom: 4px;\n",
       "    }\n",
       "\n",
       "    [theme=dark] .colab-df-convert {\n",
       "      background-color: #3B4455;\n",
       "      fill: #D2E3FC;\n",
       "    }\n",
       "\n",
       "    [theme=dark] .colab-df-convert:hover {\n",
       "      background-color: #434B5C;\n",
       "      box-shadow: 0px 1px 3px 1px rgba(0, 0, 0, 0.15);\n",
       "      filter: drop-shadow(0px 1px 2px rgba(0, 0, 0, 0.3));\n",
       "      fill: #FFFFFF;\n",
       "    }\n",
       "  </style>\n",
       "\n",
       "    <script>\n",
       "      const buttonEl =\n",
       "        document.querySelector('#df-cffccc53-c4e0-48dd-9b8d-2553f767b717 button.colab-df-convert');\n",
       "      buttonEl.style.display =\n",
       "        google.colab.kernel.accessAllowed ? 'block' : 'none';\n",
       "\n",
       "      async function convertToInteractive(key) {\n",
       "        const element = document.querySelector('#df-cffccc53-c4e0-48dd-9b8d-2553f767b717');\n",
       "        const dataTable =\n",
       "          await google.colab.kernel.invokeFunction('convertToInteractive',\n",
       "                                                    [key], {});\n",
       "        if (!dataTable) return;\n",
       "\n",
       "        const docLinkHtml = 'Like what you see? Visit the ' +\n",
       "          '<a target=\"_blank\" href=https://colab.research.google.com/notebooks/data_table.ipynb>data table notebook</a>'\n",
       "          + ' to learn more about interactive tables.';\n",
       "        element.innerHTML = '';\n",
       "        dataTable['output_type'] = 'display_data';\n",
       "        await google.colab.output.renderOutput(dataTable, element);\n",
       "        const docLink = document.createElement('div');\n",
       "        docLink.innerHTML = docLinkHtml;\n",
       "        element.appendChild(docLink);\n",
       "      }\n",
       "    </script>\n",
       "  </div>\n",
       "\n",
       "\n",
       "<div id=\"df-d4948832-1dfa-4c40-abbf-5e16b1e7f231\">\n",
       "  <button class=\"colab-df-quickchart\" onclick=\"quickchart('df-d4948832-1dfa-4c40-abbf-5e16b1e7f231')\"\n",
       "            title=\"Suggest charts\"\n",
       "            style=\"display:none;\">\n",
       "\n",
       "<svg xmlns=\"http://www.w3.org/2000/svg\" height=\"24px\"viewBox=\"0 0 24 24\"\n",
       "     width=\"24px\">\n",
       "    <g>\n",
       "        <path d=\"M19 3H5c-1.1 0-2 .9-2 2v14c0 1.1.9 2 2 2h14c1.1 0 2-.9 2-2V5c0-1.1-.9-2-2-2zM9 17H7v-7h2v7zm4 0h-2V7h2v10zm4 0h-2v-4h2v4z\"/>\n",
       "    </g>\n",
       "</svg>\n",
       "  </button>\n",
       "\n",
       "<style>\n",
       "  .colab-df-quickchart {\n",
       "      --bg-color: #E8F0FE;\n",
       "      --fill-color: #1967D2;\n",
       "      --hover-bg-color: #E2EBFA;\n",
       "      --hover-fill-color: #174EA6;\n",
       "      --disabled-fill-color: #AAA;\n",
       "      --disabled-bg-color: #DDD;\n",
       "  }\n",
       "\n",
       "  [theme=dark] .colab-df-quickchart {\n",
       "      --bg-color: #3B4455;\n",
       "      --fill-color: #D2E3FC;\n",
       "      --hover-bg-color: #434B5C;\n",
       "      --hover-fill-color: #FFFFFF;\n",
       "      --disabled-bg-color: #3B4455;\n",
       "      --disabled-fill-color: #666;\n",
       "  }\n",
       "\n",
       "  .colab-df-quickchart {\n",
       "    background-color: var(--bg-color);\n",
       "    border: none;\n",
       "    border-radius: 50%;\n",
       "    cursor: pointer;\n",
       "    display: none;\n",
       "    fill: var(--fill-color);\n",
       "    height: 32px;\n",
       "    padding: 0;\n",
       "    width: 32px;\n",
       "  }\n",
       "\n",
       "  .colab-df-quickchart:hover {\n",
       "    background-color: var(--hover-bg-color);\n",
       "    box-shadow: 0 1px 2px rgba(60, 64, 67, 0.3), 0 1px 3px 1px rgba(60, 64, 67, 0.15);\n",
       "    fill: var(--button-hover-fill-color);\n",
       "  }\n",
       "\n",
       "  .colab-df-quickchart-complete:disabled,\n",
       "  .colab-df-quickchart-complete:disabled:hover {\n",
       "    background-color: var(--disabled-bg-color);\n",
       "    fill: var(--disabled-fill-color);\n",
       "    box-shadow: none;\n",
       "  }\n",
       "\n",
       "  .colab-df-spinner {\n",
       "    border: 2px solid var(--fill-color);\n",
       "    border-color: transparent;\n",
       "    border-bottom-color: var(--fill-color);\n",
       "    animation:\n",
       "      spin 1s steps(1) infinite;\n",
       "  }\n",
       "\n",
       "  @keyframes spin {\n",
       "    0% {\n",
       "      border-color: transparent;\n",
       "      border-bottom-color: var(--fill-color);\n",
       "      border-left-color: var(--fill-color);\n",
       "    }\n",
       "    20% {\n",
       "      border-color: transparent;\n",
       "      border-left-color: var(--fill-color);\n",
       "      border-top-color: var(--fill-color);\n",
       "    }\n",
       "    30% {\n",
       "      border-color: transparent;\n",
       "      border-left-color: var(--fill-color);\n",
       "      border-top-color: var(--fill-color);\n",
       "      border-right-color: var(--fill-color);\n",
       "    }\n",
       "    40% {\n",
       "      border-color: transparent;\n",
       "      border-right-color: var(--fill-color);\n",
       "      border-top-color: var(--fill-color);\n",
       "    }\n",
       "    60% {\n",
       "      border-color: transparent;\n",
       "      border-right-color: var(--fill-color);\n",
       "    }\n",
       "    80% {\n",
       "      border-color: transparent;\n",
       "      border-right-color: var(--fill-color);\n",
       "      border-bottom-color: var(--fill-color);\n",
       "    }\n",
       "    90% {\n",
       "      border-color: transparent;\n",
       "      border-bottom-color: var(--fill-color);\n",
       "    }\n",
       "  }\n",
       "</style>\n",
       "\n",
       "  <script>\n",
       "    async function quickchart(key) {\n",
       "      const quickchartButtonEl =\n",
       "        document.querySelector('#' + key + ' button');\n",
       "      quickchartButtonEl.disabled = true;  // To prevent multiple clicks.\n",
       "      quickchartButtonEl.classList.add('colab-df-spinner');\n",
       "      try {\n",
       "        const charts = await google.colab.kernel.invokeFunction(\n",
       "            'suggestCharts', [key], {});\n",
       "      } catch (error) {\n",
       "        console.error('Error during call to suggestCharts:', error);\n",
       "      }\n",
       "      quickchartButtonEl.classList.remove('colab-df-spinner');\n",
       "      quickchartButtonEl.classList.add('colab-df-quickchart-complete');\n",
       "    }\n",
       "    (() => {\n",
       "      let quickchartButtonEl =\n",
       "        document.querySelector('#df-d4948832-1dfa-4c40-abbf-5e16b1e7f231 button');\n",
       "      quickchartButtonEl.style.display =\n",
       "        google.colab.kernel.accessAllowed ? 'block' : 'none';\n",
       "    })();\n",
       "  </script>\n",
       "</div>\n",
       "    </div>\n",
       "  </div>\n"
      ],
      "application/vnd.google.colaboratory.intrinsic+json": {
       "type": "dataframe",
       "summary": "{\n  \"name\": \"df\",\n  \"rows\": 2,\n  \"fields\": [\n    {\n      \"column\": \"SOCSTATUS_WORK_FL\",\n      \"properties\": {\n        \"dtype\": \"number\",\n        \"std\": 0,\n        \"min\": 0,\n        \"max\": 1,\n        \"num_unique_values\": 2,\n        \"samples\": [\n          0,\n          1\n        ],\n        \"semantic_type\": \"\",\n        \"description\": \"\"\n      }\n    },\n    {\n      \"column\": \"IncomeMean\",\n      \"properties\": {\n        \"dtype\": \"number\",\n        \"std\": 4208.76582239861,\n        \"min\": 8619.782028869286,\n        \"max\": 14571.875735757752,\n        \"num_unique_values\": 2,\n        \"samples\": [\n          8619.782028869286,\n          14571.875735757752\n        ],\n        \"semantic_type\": \"\",\n        \"description\": \"\"\n      }\n    }\n  ]\n}"
      }
     },
     "metadata": {},
     "execution_count": 173
    }
   ]
  },
  {
   "cell_type": "markdown",
   "source": [
    "Работающие клиенты дают отклик на много чаще, чем не работающие"
   ],
   "metadata": {
    "id": "OH95II4rCx6Y"
   }
  },
  {
   "cell_type": "code",
   "source": [
    "plt.figure(figsize=(7, 5))\n",
    "\n",
    "sns.barplot(x='SOCSTATUS_WORK_FL', y='TARGET', data=df, estimator=lambda x: sum(x) / len(x), palette='summer')\n",
    "plt.title('Вероятность TARGET по SOCSTATUS_WORK_FL')\n",
    "plt.xlabel('SOCSTATUS_WORK_FL')\n",
    "plt.ylabel('Вероятность TARGET = 1')\n",
    "plt.show()"
   ],
   "metadata": {
    "colab": {
     "base_uri": "https://localhost:8080/"
    },
    "id": "YoWm3JN2BX3k",
    "outputId": "3f36e519-f277-4c94-c035-6fb4a1443e8e"
   },
   "execution_count": null,
   "outputs": [
    {
     "output_type": "stream",
     "name": "stderr",
     "text": [
      "<ipython-input-174-1434916e1963>:3: FutureWarning: \n",
      "\n",
      "Passing `palette` without assigning `hue` is deprecated and will be removed in v0.14.0. Assign the `x` variable to `hue` and set `legend=False` for the same effect.\n",
      "\n",
      "  sns.barplot(x='SOCSTATUS_WORK_FL', y='TARGET', data=df, estimator=lambda x: sum(x) / len(x), palette='summer')\n"
     ]
    },
    {
     "output_type": "display_data",
     "data": {
      "text/plain": [
       "<Figure size 700x500 with 1 Axes>"
      ],
      "image/png": "[encoded data removed]"
     },
     "metadata": {}
    }
   ]
  },
  {
   "cell_type": "markdown",
   "source": [
    "### Социальный статус клиента относительно пенсии"
   ],
   "metadata": {
    "id": "-7cBiuA6DNFg"
   }
  },
  {
   "cell_type": "markdown",
   "source": [
    "Большинство клиентов не на пенсии"
   ],
   "metadata": {
    "id": "17JuV0h5EAf7"
   }
  },
  {
   "cell_type": "code",
   "source": [
    "pens_clients = df['SOCSTATUS_PENS_FL'].value_counts()\n",
    "\n",
    "plt.figure(figsize=(6,4))\n",
    "sns.barplot(x=pens_clients.index, y=pens_clients.values, hue=pens_clients.index, palette='summer')\n",
    "plt.title('Разделение клиентов по наличию пенсии')\n",
    "plt.xlabel('На пенсии ли')\n",
    "plt.ylabel('Количество')\n",
    "plt.show()\n",
    "\n",
    "print(pens_clients)"
   ],
   "metadata": {
    "colab": {
     "base_uri": "https://localhost:8080/"
    },
    "id": "1aXexKKxDWgv",
    "outputId": "6fd7b4f5-498c-4ff7-e411-93c483fe59c5"
   },
   "execution_count": null,
   "outputs": [
    {
     "output_type": "display_data",
     "data": {
      "text/plain": [
       "<Figure size 600x400 with 1 Axes>"
      ],
      "image/png": "[encoded data removed]"
     },
     "metadata": {}
    },
    {
     "output_type": "stream",
     "name": "stdout",
     "text": [
      "SOCSTATUS_PENS_FL\n",
      "0    12970\n",
      "1     1916\n",
      "Name: count, dtype: int64\n"
     ]
    }
   ]
  },
  {
   "cell_type": "markdown",
   "source": [
    "Большинство клиентов-пенсионеров являются мужчинами"
   ],
   "metadata": {
    "id": "wGXhUiBPFlp5"
   }
  },
  {
   "cell_type": "code",
   "source": [
    "pens_by_gender = df.groupby('GENDER')['SOCSTATUS_PENS_FL'].value_counts()\n",
    "print(pens_by_gender)\n",
    "\n",
    "pens_by_gender = pd.crosstab(df['GENDER'], df['SOCSTATUS_PENS_FL'])\n",
    "pens_by_gender.plot(kind='bar', stacked=True)\n",
    "plt.title('Количество пенсионеров по полу')\n",
    "plt.xlabel('Пол')\n",
    "plt.ylabel('Количество')\n",
    "plt.legend(title='Статус пенсионера')\n",
    "plt.show()"
   ],
   "metadata": {
    "colab": {
     "base_uri": "https://localhost:8080/"
    },
    "id": "BujdpFHpEEir",
    "outputId": "87cbf3db-742f-417f-aa27-32f4f63d1807"
   },
   "execution_count": null,
   "outputs": [
    {
     "output_type": "stream",
     "name": "stdout",
     "text": [
      "GENDER  SOCSTATUS_PENS_FL\n",
      "0       0                    4856\n",
      "        1                     353\n",
      "1       0                    8114\n",
      "        1                    1563\n",
      "Name: count, dtype: int64\n"
     ]
    },
    {
     "output_type": "display_data",
     "data": {
      "text/plain": [
       "<Figure size 640x480 with 1 Axes>"
      ],
      "image/png": "[encoded data removed]"
     },
     "metadata": {}
    }
   ]
  },
  {
   "cell_type": "markdown",
   "source": [
    "Пенсионеры реже оставляли отклики, чем работающие."
   ],
   "metadata": {
    "id": "kLnR67aTF7au"
   }
  },
  {
   "cell_type": "code",
   "source": [
    "plt.figure(figsize=(7, 5))\n",
    "\n",
    "sns.barplot(x='SOCSTATUS_PENS_FL', y='TARGET', data=df, estimator=lambda x: sum(x) / len(x), palette='summer')\n",
    "plt.title('Вероятность TARGET по SOCSTATUS_PENS_FL')\n",
    "plt.xlabel('SOCSTATUS_PENS_FL')\n",
    "plt.ylabel('Вероятность TARGET = 1')\n",
    "plt.show()"
   ],
   "metadata": {
    "colab": {
     "base_uri": "https://localhost:8080/"
    },
    "id": "HixAJ4xVFypT",
    "outputId": "a07d5a46-ddf1-443c-82d9-d840bfd92e9e"
   },
   "execution_count": null,
   "outputs": [
    {
     "output_type": "stream",
     "name": "stderr",
     "text": [
      "<ipython-input-177-2009e184bdbe>:3: FutureWarning: \n",
      "\n",
      "Passing `palette` without assigning `hue` is deprecated and will be removed in v0.14.0. Assign the `x` variable to `hue` and set `legend=False` for the same effect.\n",
      "\n",
      "  sns.barplot(x='SOCSTATUS_PENS_FL', y='TARGET', data=df, estimator=lambda x: sum(x) / len(x), palette='summer')\n"
     ]
    },
    {
     "output_type": "display_data",
     "data": {
      "text/plain": [
       "<Figure size 700x500 with 1 Axes>"
      ],
      "image/png": "[encoded data removed]"
     },
     "metadata": {}
    }
   ]
  },
  {
   "cell_type": "markdown",
   "source": [
    "## Корреляционный анализ"
   ],
   "metadata": {
    "id": "s47Rf87eGLvW"
   }
  },
  {
   "cell_type": "markdown",
   "source": [
    "### Корреляция Пирсона"
   ],
   "metadata": {
    "id": "d5uhhxXZILJ3"
   }
  },
  {
   "cell_type": "markdown",
   "source": [
    "По матрице корреляций мы видим что больше всего TARGET коррелирует с AGE, PERSONAL_INCOME, SOCSTATUS_WORK, SOCSTATUS_PENS, с остальными параметрами корреляция менее заметна"
   ],
   "metadata": {
    "id": "iQBR-NaUHoG2"
   }
  },
  {
   "cell_type": "code",
   "source": [
    "corr_mat = df.corr()\n",
    "\n",
    "sns.heatmap(corr_mat, cmap='BuPu', annot=True)\n",
    "\n",
    "print(corr_mat)"
   ],
   "metadata": {
    "colab": {
     "base_uri": "https://localhost:8080/"
    },
    "collapsed": true,
    "id": "UZxDBanFGQv5",
    "outputId": "9b04e820-f813-46df-b446-627d472bbdbe"
   },
   "execution_count": null,
   "outputs": [
    {
     "output_type": "stream",
     "name": "stdout",
     "text": [
      "                   AGREEMENT_RK       AGE    GENDER  CHILD_TOTAL  DEPENDANTS  \\\n",
      "AGREEMENT_RK           1.000000 -0.012560  0.050914     0.009372    0.019501   \n",
      "AGE                   -0.012560  1.000000  0.144871     0.210184   -0.278433   \n",
      "GENDER                 0.050914  0.144871  1.000000     0.047525   -0.083949   \n",
      "CHILD_TOTAL            0.009372  0.210184  0.047525     1.000000    0.518623   \n",
      "DEPENDANTS             0.019501 -0.278433 -0.083949     0.518623    1.000000   \n",
      "PERSONAL_INCOME       -0.035313 -0.081767 -0.233031    -0.047188    0.032397   \n",
      "SOCSTATUS_WORK_FL     -0.033343 -0.441658 -0.102370    -0.034953    0.192342   \n",
      "SOCSTATUS_PENS_FL      0.026965  0.554731  0.133521     0.054625   -0.242625   \n",
      "LOAN_NUM_TOTAL         0.322135  0.023786  0.009273     0.034906    0.053156   \n",
      "LOAN_NUM_CLOSED        0.298701 -0.001654  0.011148     0.004635    0.040947   \n",
      "TARGET                 0.003857 -0.103213 -0.030993     0.010886    0.051662   \n",
      "\n",
      "                   PERSONAL_INCOME  SOCSTATUS_WORK_FL  SOCSTATUS_PENS_FL  \\\n",
      "AGREEMENT_RK             -0.035313          -0.033343           0.026965   \n",
      "AGE                      -0.081767          -0.441658           0.554731   \n",
      "GENDER                   -0.233031          -0.102370           0.133521   \n",
      "CHILD_TOTAL              -0.047188          -0.034953           0.054625   \n",
      "DEPENDANTS                0.032397           0.192342          -0.242625   \n",
      "PERSONAL_INCOME           1.000000           0.183298          -0.126724   \n",
      "SOCSTATUS_WORK_FL         0.183298           1.000000          -0.786709   \n",
      "SOCSTATUS_PENS_FL        -0.126724          -0.786709           1.000000   \n",
      "LOAN_NUM_TOTAL           -0.039850           0.035708          -0.007741   \n",
      "LOAN_NUM_CLOSED          -0.028039           0.042911          -0.020687   \n",
      "TARGET                    0.094313           0.075651          -0.082412   \n",
      "\n",
      "                   LOAN_NUM_TOTAL  LOAN_NUM_CLOSED    TARGET  \n",
      "AGREEMENT_RK             0.322135         0.298701  0.003857  \n",
      "AGE                      0.023786        -0.001654 -0.103213  \n",
      "GENDER                   0.009273         0.011148 -0.030993  \n",
      "CHILD_TOTAL              0.034906         0.004635  0.010886  \n",
      "DEPENDANTS               0.053156         0.040947  0.051662  \n",
      "PERSONAL_INCOME         -0.039850        -0.028039  0.094313  \n",
      "SOCSTATUS_WORK_FL        0.035708         0.042911  0.075651  \n",
      "SOCSTATUS_PENS_FL       -0.007741        -0.020687 -0.082412  \n",
      "LOAN_NUM_TOTAL           1.000000         0.859870 -0.032094  \n",
      "LOAN_NUM_CLOSED          0.859870         1.000000 -0.061482  \n",
      "TARGET                  -0.032094        -0.061482  1.000000  \n"
     ]
    },
    {
     "output_type": "display_data",
     "data": {
      "text/plain": [
       "<Figure size 640x480 with 2 Axes>"
      ],
      "image/png": "[encoded data removed]"
     },
     "metadata": {}
    }
   ]
  },
  {
   "cell_type": "markdown",
   "source": [
    "### Корреляция Спирмена"
   ],
   "metadata": {
    "id": "Eu_Vku6XISSH"
   }
  },
  {
   "cell_type": "markdown",
   "source": [
    "Наиболее коррелированные признаки остались те же, но корреляция с количеством детей сильно уменьшилась, а с иждевенцами чуть-чуть выросла. Что не сильно влияет на итоговый анализ"
   ],
   "metadata": {
    "id": "a-FmoNk2Ifn8"
   }
  },
  {
   "cell_type": "code",
   "source": [
    "corr_mat = df.corr(method='spearman')\n",
    "\n",
    "sns.heatmap(corr_mat, cmap='BuPu', annot=True)\n",
    "\n",
    "print(corr_mat)"
   ],
   "metadata": {
    "colab": {
     "base_uri": "https://localhost:8080/"
    },
    "id": "EuxUoNpbIYX5",
    "outputId": "02130680-4dfd-407d-9cb2-fe3a0774f327"
   },
   "execution_count": null,
   "outputs": [
    {
     "output_type": "stream",
     "name": "stdout",
     "text": [
      "                   AGREEMENT_RK       AGE    GENDER  CHILD_TOTAL  DEPENDANTS  \\\n",
      "AGREEMENT_RK           1.000000 -0.038812  0.051213     0.005500    0.029333   \n",
      "AGE                   -0.038812  1.000000  0.142589     0.212676   -0.286500   \n",
      "GENDER                 0.051213  0.142589  1.000000     0.047810   -0.079993   \n",
      "CHILD_TOTAL            0.005500  0.212676  0.047810     1.000000    0.524095   \n",
      "DEPENDANTS             0.029333 -0.286500 -0.079993     0.524095    1.000000   \n",
      "PERSONAL_INCOME       -0.017293 -0.127548 -0.284831    -0.053732    0.050783   \n",
      "SOCSTATUS_WORK_FL     -0.018412 -0.406939 -0.102370    -0.010626    0.214574   \n",
      "SOCSTATUS_PENS_FL      0.016102  0.514009  0.133521     0.024972   -0.269639   \n",
      "LOAN_NUM_TOTAL         0.392479  0.037467  0.018603     0.041575    0.060422   \n",
      "LOAN_NUM_CLOSED        0.311436 -0.013248  0.020440    -0.004177    0.039429   \n",
      "TARGET                 0.007226 -0.100138 -0.030993     0.005574    0.045710   \n",
      "\n",
      "                   PERSONAL_INCOME  SOCSTATUS_WORK_FL  SOCSTATUS_PENS_FL  \\\n",
      "AGREEMENT_RK             -0.017293          -0.018412           0.016102   \n",
      "AGE                      -0.127548          -0.406939           0.514009   \n",
      "GENDER                   -0.284831          -0.102370           0.133521   \n",
      "CHILD_TOTAL              -0.053732          -0.010626           0.024972   \n",
      "DEPENDANTS                0.050783           0.214574          -0.269639   \n",
      "PERSONAL_INCOME           1.000000           0.284949          -0.197065   \n",
      "SOCSTATUS_WORK_FL         0.284949           1.000000          -0.786709   \n",
      "SOCSTATUS_PENS_FL        -0.197065          -0.786709           1.000000   \n",
      "LOAN_NUM_TOTAL           -0.035323           0.035177          -0.004526   \n",
      "LOAN_NUM_CLOSED          -0.018959           0.038284          -0.021779   \n",
      "TARGET                    0.101173           0.075651          -0.082412   \n",
      "\n",
      "                   LOAN_NUM_TOTAL  LOAN_NUM_CLOSED    TARGET  \n",
      "AGREEMENT_RK             0.392479         0.311436  0.007226  \n",
      "AGE                      0.037467        -0.013248 -0.100138  \n",
      "GENDER                   0.018603         0.020440 -0.030993  \n",
      "CHILD_TOTAL              0.041575        -0.004177  0.005574  \n",
      "DEPENDANTS               0.060422         0.039429  0.045710  \n",
      "PERSONAL_INCOME         -0.035323        -0.018959  0.101173  \n",
      "SOCSTATUS_WORK_FL        0.035177         0.038284  0.075651  \n",
      "SOCSTATUS_PENS_FL       -0.004526        -0.021779 -0.082412  \n",
      "LOAN_NUM_TOTAL           1.000000         0.729027 -0.036450  \n",
      "LOAN_NUM_CLOSED          0.729027         1.000000 -0.069168  \n",
      "TARGET                  -0.036450        -0.069168  1.000000  \n"
     ]
    },
    {
     "output_type": "display_data",
     "data": {
      "text/plain": [
       "<Figure size 640x480 with 2 Axes>"
      ],
      "image/png": "[encoded data removed]"
     },
     "metadata": {}
    }
   ]
  },
  {
   "cell_type": "markdown",
   "source": [
    "## Анализ целевой переменной"
   ],
   "metadata": {
    "id": "VtOX_-47JMFU"
   }
  },
  {
   "cell_type": "markdown",
   "source": [
    "Отклик на маркетинговую компанию дали только 12% клиентов, что не может\n",
    " не удручать."
   ],
   "metadata": {
    "id": "3Xx0z4hOJbA3"
   }
  },
  {
   "cell_type": "code",
   "source": [
    "plt.figure(figsize=(10, 6))\n",
    "\n",
    "sns.histplot(df['TARGET'])"
   ],
   "metadata": {
    "colab": {
     "base_uri": "https://localhost:8080/"
    },
    "id": "LaNn8-lkJPRD",
    "outputId": "42cc99a4-07a9-41d7-cffa-7a11065ddfc0"
   },
   "execution_count": null,
   "outputs": [
    {
     "output_type": "execute_result",
     "data": {
      "text/plain": [
       "<Axes: xlabel='TARGET', ylabel='Count'>"
      ]
     },
     "metadata": {},
     "execution_count": 180
    },
    {
     "output_type": "display_data",
     "data": {
      "text/plain": [
       "<Figure size 1000x600 with 1 Axes>"
      ],
      "image/png": "[encoded data removed]"
     },
     "metadata": {}
    }
   ]
  },
  {
   "cell_type": "code",
   "source": [
    "len(df[df.TARGET == 1])/ len(df)"
   ],
   "metadata": {
    "colab": {
     "base_uri": "https://localhost:8080/"
    },
    "id": "f3fywkT5J3kC",
    "outputId": "f61a2cdf-f229-4e73-a500-81f1a661463f"
   },
   "execution_count": null,
   "outputs": [
    {
     "output_type": "execute_result",
     "data": {
      "text/plain": [
       "0.11970979443772672"
      ]
     },
     "metadata": {},
     "execution_count": 181
    }
   ]
  }
 ]
}
